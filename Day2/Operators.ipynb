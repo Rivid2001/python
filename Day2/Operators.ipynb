{
 "cells": [
  {
   "cell_type": "code",
   "execution_count": null,
   "id": "310e7967",
   "metadata": {},
   "outputs": [],
   "source": [
    "\n",
    "# Arithmetic Operators\n",
    "a = 10\n",
    "b = 3\n",
    "\n",
    "print(\"Arithmetic Operations:\")\n",
    "print(f\"{a} + {b} = {a + b}\")     # Addition\n",
    "print(f\"{a} - {b} = {a - b}\")     # Subtraction\n",
    "print(f\"{a} * {b} = {a * b}\")     # Multiplication\n",
    "print(f\"{a} / {b} = {a / b}\")     # Division\n",
    "print(f\"{a} % {b} = {a % b}\")     # Modulus\n",
    "print(f\"{a} ** {b} = {a ** b}\")   # Exponentiation\n",
    "print(f\"{a} // {b} = {a // b}\")   # Floor Division\n"
   ]
  },
  {
   "cell_type": "code",
   "execution_count": null,
   "id": "a080fabe",
   "metadata": {},
   "outputs": [],
   "source": [
    "\n",
    "# Comparison Operators\n",
    "a = 10\n",
    "b = 3\n",
    "\n",
    "print(\"\n",
    "Comparison Operations:\")\n",
    "print(f\"{a} == {b}: {a == b}\")    # Equal to\n",
    "print(f\"{a} != {b}: {a != b}\")    # Not equal to\n",
    "print(f\"{a} < {b}: {a < b}\")      # Less than\n",
    "print(f\"{a} <= {b}: {a <= b}\")    # Less than or equal to\n",
    "print(f\"{a} > {b}: {a > b}\")      # Greater than\n",
    "print(f\"{a} >= {b}: {a >= b}\")    # Greater than or equal to\n"
   ]
  },
  {
   "cell_type": "code",
   "execution_count": null,
   "id": "ea7e15ca",
   "metadata": {},
   "outputs": [],
   "source": [
    "\n",
    "# Logical Operators\n",
    "x = True\n",
    "y = False\n",
    "\n",
    "print(\"\n",
    "Logical Operations:\")\n",
    "print(f\"x and y: {x and y}\")      # AND\n",
    "print(f\"x or y: {x or y}\")        # OR\n",
    "print(f\"not x: {not x}\")          # NOT\n"
   ]
  },
  {
   "cell_type": "code",
   "execution_count": null,
   "id": "41db4657",
   "metadata": {},
   "outputs": [],
   "source": [
    "\n",
    "# Bitwise Operators\n",
    "c = 5   # (binary: 0101)\n",
    "d = 3   # (binary: 0011)\n",
    "\n",
    "print(\"\n",
    "Bitwise Operations:\")\n",
    "print(f\"c & d = {c & d}\")         # Bitwise AND\n",
    "print(f\"c | d = {c | d}\")         # Bitwise OR\n",
    "print(f\"c ^ d = {c ^ d}\")         # Bitwise XOR\n",
    "print(f\"~c = {~c}\")                # Bitwise NOT (inverts bits)\n",
    "print(f\"c << 1 = {c << 1}\")       # Left Shift\n",
    "print(f\"c >> 1 = {c >> 1}\")       # Right Shift\n"
   ]
  },
  {
   "cell_type": "code",
   "execution_count": null,
   "id": "a2772e0a",
   "metadata": {},
   "outputs": [],
   "source": [
    "\n",
    "# Assignment Operators\n",
    "e = 10\n",
    "\n",
    "print(\"\n",
    "Assignment Operations:\")\n",
    "e += 5   # Equivalent to e = e + 5\n",
    "print(f\"e after += 5 : {e}\")\n",
    "\n",
    "e -= 3   # Equivalent to e = e - 3\n",
    "print(f\"e after -= 3 : {e}\")\n"
   ]
  },
  {
   "cell_type": "code",
   "execution_count": null,
   "id": "bace465d",
   "metadata": {},
   "outputs": [],
   "source": [
    "\n",
    "# Identity Operators\n",
    "f = [1, 2, 3]\n",
    "g = f\n",
    "\n",
    "print(\"\n",
    "Identity Operations:\")\n",
    "print(f\"f is g : {f is g}\")       # True, both refer to same object\n",
    "\n",
    "h = f[:]\n",
    "print(f\"f is h : {f is h}\")       # False, h is a copy of f\n"
   ]
  },
  {
   "cell_type": "code",
   "execution_count": null,
   "id": "29fa590d",
   "metadata": {},
   "outputs": [],
   "source": [
    "\n",
    "# Membership Operators\n",
    "list1 = [1, 2, 3, 4]\n",
    "\n",
    "print(\"\n",
    "Membership Operations:\")\n",
    "print(\"2 in list1:\", 2 in list1)      # True, as 2 is in list1\n",
    "print(\"5 not in list1:\", 5 not in list1)  # True, as 5 is not in list1\n"
   ]
  }
 ],
 "metadata": {},
 "nbformat": 4,
 "nbformat_minor": 5
}

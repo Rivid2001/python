{
 "cells": [
  {
   "cell_type": "code",
   "execution_count": 1,
   "id": "310e7967",
   "metadata": {},
   "outputs": [
    {
     "name": "stdout",
     "output_type": "stream",
     "text": [
      "Arithmetic Operations:\n",
      "10 + 3 = 13\n",
      "10 - 3 = 7\n",
      "10 * 3 = 30\n",
      "10 / 3 = 3.3333333333333335\n",
      "10 % 3 = 1\n",
      "10 ** 3 = 1000\n",
      "10 // 3 = 3\n"
     ]
    }
   ],
   "source": [
    "\n",
    "# Arithmetic Operators\n",
    "a = 10\n",
    "b = 3\n",
    "\n",
    "print(\"Arithmetic Operations:\")\n",
    "print(f\"{a} + {b} = {a + b}\")     # Addition\n",
    "print(f\"{a} - {b} = {a - b}\")     # Subtraction\n",
    "print(f\"{a} * {b} = {a * b}\")     # Multiplication\n",
    "print(f\"{a} / {b} = {a / b}\")     # Division\n",
    "print(f\"{a} % {b} = {a % b}\")     # Modulus\n",
    "print(f\"{a} ** {b} = {a ** b}\")   # Exponentiation\n",
    "print(f\"{a} // {b} = {a // b}\")   # Floor Division\n"
   ]
  },
  {
   "cell_type": "code",
   "execution_count": 3,
   "id": "a080fabe",
   "metadata": {},
   "outputs": [
    {
     "name": "stdout",
     "output_type": "stream",
     "text": [
      "Comparison Operations:\n",
      "10 == 3: False\n",
      "10 != 3: True\n",
      "10 < 3: False\n",
      "10 <= 3: False\n",
      "10 > 3: True\n",
      "10 >= 3: True\n"
     ]
    }
   ],
   "source": [
    "\n",
    "# Comparison Operators\n",
    "a = 10\n",
    "b = 3\n",
    "\n",
    "print(\"Comparison Operations:\")\n",
    "print(f\"{a} == {b}: {a == b}\")    # Equal to\n",
    "print(f\"{a} != {b}: {a != b}\")    # Not equal to\n",
    "print(f\"{a} < {b}: {a < b}\")      # Less than\n",
    "print(f\"{a} <= {b}: {a <= b}\")    # Less than or equal to\n",
    "print(f\"{a} > {b}: {a > b}\")      # Greater than\n",
    "print(f\"{a} >= {b}: {a >= b}\")    # Greater than or equal to\n"
   ]
  },
  {
   "cell_type": "code",
   "execution_count": 5,
   "id": "ea7e15ca",
   "metadata": {},
   "outputs": [
    {
     "name": "stdout",
     "output_type": "stream",
     "text": [
      "Logical Operations:\n",
      "x and y: False\n",
      "x or y: True\n",
      "not x: False\n"
     ]
    }
   ],
   "source": [
    "\n",
    "# Logical Operators\n",
    "x = True\n",
    "y = False\n",
    "\n",
    "print(\"Logical Operations:\")\n",
    "print(f\"x and y: {x and y}\")      # AND\n",
    "print(f\"x or y: {x or y}\")        # OR\n",
    "print(f\"not x: {not x}\")          # NOT\n"
   ]
  },
  {
   "cell_type": "code",
   "execution_count": null,
   "id": "41db4657",
   "metadata": {},
   "outputs": [],
   "source": [
    "\n",
    "# Bitwise Operators\n",
    "c = 5   # (binary: 0101)\n",
    "d = 3   # (binary: 0011)\n",
    "\n",
    "print(\"Bitwise Operations:\")\n",
    "print(f\"c & d = {c & d}\")         # Bitwise AND\n",
    "print(f\"c | d = {c | d}\")         # Bitwise OR\n",
    "print(f\"c ^ d = {c ^ d}\")         # Bitwise XOR\n",
    "print(f\"~c = {~c}\")                # Bitwise NOT (inverts bits)\n",
    "print(f\"c << 1 = {c << 1}\")       # Left Shift\n",
    "print(f\"c >> 1 = {c >> 1}\")       # Right Shift\n"
   ]
  },
  {
   "cell_type": "code",
   "execution_count": 6,
   "id": "a2772e0a",
   "metadata": {},
   "outputs": [
    {
     "name": "stdout",
     "output_type": "stream",
     "text": [
      "Assignment Operations:\n",
      "e after += 5 : 15\n",
      "e after -= 3 : 12\n"
     ]
    }
   ],
   "source": [
    "\n",
    "# Assignment Operators\n",
    "e = 10\n",
    "\n",
    "print(\"Assignment Operations:\")\n",
    "e += 5   # Equivalent to e = e + 5\n",
    "print(f\"e after += 5 : {e}\")\n",
    "\n",
    "e -= 3   # Equivalent to e = e - 3\n",
    "print(f\"e after -= 3 : {e}\")\n"
   ]
  },
  {
   "cell_type": "code",
   "execution_count": 12,
   "id": "bace465d",
   "metadata": {},
   "outputs": [
    {
     "name": "stdout",
     "output_type": "stream",
     "text": [
      "[1, 2, 3]\n",
      "2156482986816\n",
      "[1, 2, 3]\n",
      "2156482986816\n",
      "Identity Operations:\n",
      "f is g : True\n",
      "[1, 2, 3]\n",
      "2156482938176\n",
      "f is h : False\n"
     ]
    }
   ],
   "source": [
    "\n",
    "# Identity Operators\n",
    "f = [1, 2, 3]\n",
    "print(f)\n",
    "print(id(f))\n",
    "g = f\n",
    "print(g)\n",
    "print(id(g))\n",
    "\n",
    "print(\"Identity Operations:\")\n",
    "print(f\"f is g : {f is g}\")       # True, both refer to same object\n",
    "\n",
    "h = f[:]\n",
    "print(h)\n",
    "print(id(h))\n",
    "print(f\"f is h : {f is h}\")       # False, h is a copy of f\n"
   ]
  },
  {
   "cell_type": "code",
   "execution_count": 14,
   "id": "29fa590d",
   "metadata": {},
   "outputs": [
    {
     "name": "stdout",
     "output_type": "stream",
     "text": [
      "Membership Operations:\n",
      "2 in list1: True\n",
      "5 not in list1: True\n"
     ]
    }
   ],
   "source": [
    "\n",
    "# Membership Operators\n",
    "list1 = [1, 2, 3, 4]\n",
    "\n",
    "print(\"Membership Operations:\")\n",
    "print(\"2 in list1:\", 2 in list1)      # True, as 2 is in list1\n",
    "print(\"5 not in list1:\", 5 not in list1)  # True, as 5 is not in list1\n"
   ]
  }
 ],
 "metadata": {
  "kernelspec": {
   "display_name": "Python 3",
   "language": "python",
   "name": "python3"
  },
  "language_info": {
   "codemirror_mode": {
    "name": "ipython",
    "version": 3
   },
   "file_extension": ".py",
   "mimetype": "text/x-python",
   "name": "python",
   "nbconvert_exporter": "python",
   "pygments_lexer": "ipython3",
   "version": "3.11.9"
  }
 },
 "nbformat": 4,
 "nbformat_minor": 5
}

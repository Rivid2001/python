{
 "cells": [
  {
   "cell_type": "markdown",
   "id": "2ef3a860",
   "metadata": {},
   "source": [
    "# To-Do List Application"
   ]
  },
  {
   "cell_type": "code",
   "execution_count": null,
   "id": "5ee30729",
   "metadata": {},
   "outputs": [],
   "source": [
    "\n",
    "# Display menu options\n",
    "def display_menu():\n",
    "    print(\"\\nTo-Do List Menu:\")\n",
    "    print(\"1. Add a Task\")\n",
    "    print(\"2. View All Tasks\")\n",
    "    print(\"3. Mark a Task as Completed\")\n",
    "    print(\"4. Delete a Task\")\n",
    "    print(\"5. Exit\")\n",
    "    "
   ]
  },
  {
   "cell_type": "code",
   "execution_count": null,
   "id": "a3ef2f88",
   "metadata": {},
   "outputs": [],
   "source": [
    "\n",
    "# Add a task to the to-do list\n",
    "def add_task(todo_list):\n",
    "    task_desc = input(\"Enter the task description: \").strip()\n",
    "    if not task_desc:\n",
    "        print(\"Task description cannot be empty!\")\n",
    "        return\n",
    "    task = {\"Description\": task_desc, \"Completed\": False}\n",
    "    todo_list.append(task)\n",
    "    print(f\"Task '{task_desc}' added successfully!\")\n",
    "    "
   ]
  },
  {
   "cell_type": "code",
   "execution_count": null,
   "id": "b7a439c7",
   "metadata": {},
   "outputs": [],
   "source": [
    "\n",
    "# View all tasks in the to-do list\n",
    "def view_tasks(todo_list):\n",
    "    if not todo_list:\n",
    "        print(\"No tasks in the list!\")\n",
    "        return\n",
    "    print(\"\\nTo-Do List:\")\n",
    "    for idx, task in enumerate(todo_list, start=1):\n",
    "        status = \"Completed\" if task[\"Completed\"] else \"Not Completed\"\n",
    "        print(f\"{idx}. {task['Description']} - {status}\")\n",
    "    "
   ]
  },
  {
   "cell_type": "code",
   "execution_count": null,
   "id": "7b10922c",
   "metadata": {},
   "outputs": [],
   "source": [
    "\n",
    "# Mark a task as completed\n",
    "def mark_task_completed(todo_list):\n",
    "    if not todo_list:\n",
    "        print(\"No tasks available to mark as completed!\")\n",
    "        return\n",
    "    view_tasks(todo_list)\n",
    "    try:\n",
    "        task_no = int(input(\"Enter the task number to mark as completed: \"))\n",
    "        if 1 <= task_no <= len(todo_list):\n",
    "            todo_list[task_no - 1][\"Completed\"] = True\n",
    "            print(f\"Task '{todo_list[task_no - 1]['Description']}' marked as completed!\")\n",
    "        else:\n",
    "            print(\"Invalid task number!\")\n",
    "    except ValueError:\n",
    "        print(\"Please enter a valid number!\")\n",
    "    "
   ]
  },
  {
   "cell_type": "code",
   "execution_count": null,
   "id": "9a8a9015",
   "metadata": {},
   "outputs": [],
   "source": [
    "\n",
    "# Delete a task from the to-do list\n",
    "def delete_task(todo_list):\n",
    "    if not todo_list:\n",
    "        print(\"No tasks available to delete!\")\n",
    "        return\n",
    "    view_tasks(todo_list)\n",
    "    try:\n",
    "        task_no = int(input(\"Enter the task number to delete: \"))\n",
    "        if 1 <= task_no <= len(todo_list):\n",
    "            removed_task = todo_list.pop(task_no - 1)\n",
    "            print(f\"Task '{removed_task['Description']}' deleted successfully!\")\n",
    "        else:\n",
    "            print(\"Invalid task number!\")\n",
    "    except ValueError:\n",
    "        print(\"Please enter a valid number!\")\n",
    "    "
   ]
  },
  {
   "cell_type": "code",
   "execution_count": null,
   "id": "8e5c109d",
   "metadata": {},
   "outputs": [],
   "source": [
    "\n",
    "# Main function to run the application\n",
    "def main():\n",
    "    todo_list = []\n",
    "    while True:\n",
    "        display_menu()\n",
    "        choice = input(\"Choose an option (1-5): \").strip()\n",
    "        if choice == \"1\":\n",
    "            add_task(todo_list)\n",
    "        elif choice == \"2\":\n",
    "            view_tasks(todo_list)\n",
    "        elif choice == \"3\":\n",
    "            mark_task_completed(todo_list)\n",
    "        elif choice == \"4\":\n",
    "            delete_task(todo_list)\n",
    "        elif choice == \"5\":\n",
    "            print(\"Exiting To-Do List Application. Goodbye!\")\n",
    "            break\n",
    "        else:\n",
    "            print(\"Invalid choice! Please select a valid option.\")\n",
    "    "
   ]
  },
  {
   "cell_type": "code",
   "execution_count": null,
   "id": "dfbd75df",
   "metadata": {},
   "outputs": [],
   "source": [
    "\n",
    "# Run the application\n",
    "if __name__ == \"__main__\":\n",
    "    main()\n",
    "    "
   ]
  }
 ],
 "metadata": {},
 "nbformat": 4,
 "nbformat_minor": 5
}
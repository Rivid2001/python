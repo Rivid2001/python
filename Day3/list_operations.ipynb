{
 "cells": [
  {
   "cell_type": "markdown",
   "id": "0782901c",
   "metadata": {},
   "source": [
    "## List Operations"
   ]
  },
  {
   "cell_type": "markdown",
   "id": "2db669e6",
   "metadata": {},
   "source": [
    "## Create a sample list"
   ]
  },
  {
   "cell_type": "code",
   "execution_count": 1,
   "id": "1a790532",
   "metadata": {},
   "outputs": [],
   "source": [
    "# Create a sample list\n",
    "my_list = [1, 2, 3, 4, 5, 3, 6]"
   ]
  },
  {
   "cell_type": "markdown",
   "id": "3ee0cef9",
   "metadata": {},
   "source": [
    "## Accessing elements"
   ]
  },
  {
   "cell_type": "code",
   "execution_count": 2,
   "id": "1feccc1b",
   "metadata": {},
   "outputs": [
    {
     "name": "stdout",
     "output_type": "stream",
     "text": [
      "Accessing elements:\n",
      "First element: 1\n",
      "Last element: 6\n",
      "Slicing list: [2, 3, 4]\n"
     ]
    }
   ],
   "source": [
    "# Accessing elements\n",
    "print(\"Accessing elements:\")\n",
    "print(\"First element:\", my_list[0])\n",
    "print(\"Last element:\", my_list[-1])\n",
    "print(\"Slicing list:\", my_list[1:4])  # Slicing from index 1 to 3"
   ]
  },
  {
   "cell_type": "markdown",
   "id": "b04802e3",
   "metadata": {},
   "source": [
    "## Modifying elements"
   ]
  },
  {
   "cell_type": "code",
   "execution_count": 3,
   "id": "fca3c34a",
   "metadata": {},
   "outputs": [
    {
     "name": "stdout",
     "output_type": "stream",
     "text": [
      "\n",
      "Modifying elements:\n",
      "Modified list: [1, 2, 10, 4, 5, 3, 6]\n"
     ]
    }
   ],
   "source": [
    "# Modifying elements\n",
    "print(\"\\nModifying elements:\")\n",
    "my_list[2] = 10\n",
    "print(\"Modified list:\", my_list)"
   ]
  },
  {
   "cell_type": "markdown",
   "id": "cc56a744",
   "metadata": {},
   "source": [
    "## Appending elements"
   ]
  },
  {
   "cell_type": "code",
   "execution_count": 4,
   "id": "6b29bdb6",
   "metadata": {},
   "outputs": [
    {
     "name": "stdout",
     "output_type": "stream",
     "text": [
      "\n",
      "Appending elements:\n",
      "Appended list: [1, 2, 10, 4, 5, 3, 6, 7]\n"
     ]
    }
   ],
   "source": [
    "# Appending elements\n",
    "print(\"\\nAppending elements:\")\n",
    "my_list.append(7)\n",
    "print(\"Appended list:\", my_list)"
   ]
  },
  {
   "cell_type": "markdown",
   "id": "de91521b",
   "metadata": {},
   "source": [
    "## Inserting elements"
   ]
  },
  {
   "cell_type": "code",
   "execution_count": 5,
   "id": "e09c393a",
   "metadata": {},
   "outputs": [
    {
     "name": "stdout",
     "output_type": "stream",
     "text": [
      "\n",
      "Inserting elements:\n",
      "Inserted list: [1, 2, 8, 10, 4, 5, 3, 6, 7]\n"
     ]
    }
   ],
   "source": [
    "# Inserting elements\n",
    "print(\"\\nInserting elements:\")\n",
    "my_list.insert(2, 8)  # Inserting 8 at index 2\n",
    "print(\"Inserted list:\", my_list)"
   ]
  },
  {
   "cell_type": "markdown",
   "id": "46350f6b",
   "metadata": {},
   "source": [
    "## Removing elements"
   ]
  },
  {
   "cell_type": "code",
   "execution_count": 6,
   "id": "5245703f",
   "metadata": {},
   "outputs": [
    {
     "name": "stdout",
     "output_type": "stream",
     "text": [
      "\n",
      "Removing elements:\n",
      "List after removing element 3: [1, 2, 8, 10, 4, 5, 6, 7]\n",
      "Popped element: 2\n",
      "List after popping element at index 1: [1, 8, 10, 4, 5, 6, 7]\n"
     ]
    }
   ],
   "source": [
    "# Removing elements\n",
    "print(\"\\nRemoving elements:\")\n",
    "my_list.remove(3)  # Removing element 3\n",
    "print(\"List after removing element 3:\", my_list)\n",
    "popped_element = my_list.pop(1)  # Removing element at index 1\n",
    "print(\"Popped element:\", popped_element)\n",
    "print(\"List after popping element at index 1:\", my_list)"
   ]
  },
  {
   "cell_type": "markdown",
   "id": "483a563c",
   "metadata": {},
   "source": [
    "## Searching for elements"
   ]
  },
  {
   "cell_type": "code",
   "execution_count": 7,
   "id": "62b72ec8",
   "metadata": {},
   "outputs": [
    {
     "name": "stdout",
     "output_type": "stream",
     "text": [
      "\n",
      "Searching for elements:\n",
      "Index of element 5: 4\n"
     ]
    }
   ],
   "source": [
    "# Searching for elements\n",
    "print(\"\\nSearching for elements:\")\n",
    "print(\"Index of element 5:\", my_list.index(5))"
   ]
  },
  {
   "cell_type": "markdown",
   "id": "bfbbeb43",
   "metadata": {},
   "source": [
    "## Sorting elements"
   ]
  },
  {
   "cell_type": "code",
   "execution_count": 8,
   "id": "693ca3bf",
   "metadata": {},
   "outputs": [
    {
     "name": "stdout",
     "output_type": "stream",
     "text": [
      "\n",
      "Sorting elements:\n",
      "Sorted list: [1, 4, 5, 6, 7, 8, 10]\n"
     ]
    }
   ],
   "source": [
    "# Sorting elements\n",
    "print(\"\\nSorting elements:\")\n",
    "my_list.sort()\n",
    "print(\"Sorted list:\", my_list)"
   ]
  },
  {
   "cell_type": "markdown",
   "id": "f9f6d82d",
   "metadata": {},
   "source": [
    "## Iterating through elements"
   ]
  },
  {
   "cell_type": "code",
   "execution_count": 9,
   "id": "73bdc737",
   "metadata": {},
   "outputs": [
    {
     "name": "stdout",
     "output_type": "stream",
     "text": [
      "\n",
      "Iterating through elements:\n",
      "1\n",
      "4\n",
      "5\n",
      "6\n",
      "7\n",
      "8\n",
      "10\n"
     ]
    }
   ],
   "source": [
    "# Iterating through elements\n",
    "print(\"\\nIterating through elements:\")\n",
    "for element in my_list:\n",
    "    print(element)"
   ]
  },
  {
   "cell_type": "markdown",
   "id": "6764b42d",
   "metadata": {},
   "source": [
    "## Combining lists"
   ]
  },
  {
   "cell_type": "code",
   "execution_count": 10,
   "id": "d0dbe336",
   "metadata": {},
   "outputs": [
    {
     "name": "stdout",
     "output_type": "stream",
     "text": [
      "\n",
      "Combining lists:\n",
      "Combined list: [1, 4, 5, 6, 7, 8, 10, 9, 10, 11]\n"
     ]
    }
   ],
   "source": [
    "# Combining lists\n",
    "print(\"\\nCombining lists:\")\n",
    "new_list = [9, 10, 11]\n",
    "combined_list = my_list + new_list\n",
    "print(\"Combined list:\", combined_list)"
   ]
  },
  {
   "cell_type": "markdown",
   "id": "6f735754",
   "metadata": {},
   "source": [
    "## Copying lists"
   ]
  },
  {
   "cell_type": "code",
   "execution_count": 11,
   "id": "01737db3",
   "metadata": {},
   "outputs": [
    {
     "name": "stdout",
     "output_type": "stream",
     "text": [
      "\n",
      "Copying lists:\n",
      "Copied list: [1, 4, 5, 6, 7, 8, 10]\n"
     ]
    }
   ],
   "source": [
    "# Copying lists\n",
    "print(\"\\nCopying lists:\")\n",
    "copied_list = my_list.copy()\n",
    "print(\"Copied list:\", copied_list)"
   ]
  },
  {
   "cell_type": "markdown",
   "id": "af24881c",
   "metadata": {},
   "source": [
    "## List comprehension"
   ]
  },
  {
   "cell_type": "code",
   "execution_count": 12,
   "id": "babcd45f",
   "metadata": {},
   "outputs": [
    {
     "name": "stdout",
     "output_type": "stream",
     "text": [
      "\n",
      "List comprehension:\n",
      "Squared list: [1, 16, 25, 36, 49, 64, 100]\n"
     ]
    }
   ],
   "source": [
    "# List comprehension\n",
    "print(\"\\nList comprehension:\")\n",
    "squared_list = [x ** 2 for x in my_list]\n",
    "print(\"Squared list:\", squared_list)"
   ]
  },
  {
   "cell_type": "markdown",
   "id": "7f041e3e",
   "metadata": {},
   "source": [
    "## List methods"
   ]
  },
  {
   "cell_type": "code",
   "execution_count": 13,
   "id": "014c17c9",
   "metadata": {},
   "outputs": [
    {
     "name": "stdout",
     "output_type": "stream",
     "text": [
      "\n",
      "List methods:\n",
      "Count of 3 in list: 0\n",
      "Extended list: [1, 4, 5, 6, 7, 8, 10, 12, 13]\n",
      "Cleared list: []\n"
     ]
    }
   ],
   "source": [
    "# List methods\n",
    "print(\"\\nList methods:\")\n",
    "print(\"Count of 3 in list:\", my_list.count(3))\n",
    "my_list.extend([12, 13])  # Extending list with elements\n",
    "print(\"Extended list:\", my_list)\n",
    "my_list.clear()  # Clearing the list\n",
    "print(\"Cleared list:\", my_list)"
   ]
  },
  {
   "cell_type": "markdown",
   "id": "21b7ddfa",
   "metadata": {},
   "source": [
    "## List membership"
   ]
  },
  {
   "cell_type": "code",
   "execution_count": 14,
   "id": "460e2c1b",
   "metadata": {},
   "outputs": [
    {
     "name": "stdout",
     "output_type": "stream",
     "text": [
      "\n",
      "List membership:\n",
      "Is 5 in the list? True\n"
     ]
    }
   ],
   "source": [
    "# List membership\n",
    "print(\"\\nList membership:\")\n",
    "print(\"Is 5 in the list?\", 5 in copied_list)"
   ]
  },
  {
   "cell_type": "markdown",
   "id": "1be15b89",
   "metadata": {},
   "source": [
    "## List length"
   ]
  },
  {
   "cell_type": "code",
   "execution_count": 15,
   "id": "e0419913",
   "metadata": {},
   "outputs": [
    {
     "name": "stdout",
     "output_type": "stream",
     "text": [
      "\n",
      "List length:\n",
      "Length of the list: 7\n"
     ]
    }
   ],
   "source": [
    "# List length\n",
    "print(\"\\nList length:\")\n",
    "print(\"Length of the list:\", len(copied_list))"
   ]
  },
  {
   "cell_type": "markdown",
   "id": "7ffa53ab",
   "metadata": {},
   "source": [
    "## List reversal"
   ]
  },
  {
   "cell_type": "code",
   "execution_count": 16,
   "id": "41ab756d",
   "metadata": {},
   "outputs": [
    {
     "name": "stdout",
     "output_type": "stream",
     "text": [
      "\n",
      "List reversal:\n",
      "Reversed list: [10, 8, 7, 6, 5, 4, 1]\n"
     ]
    }
   ],
   "source": [
    "# List reversal\n",
    "print(\"\\nList reversal:\")\n",
    "copied_list.reverse()\n",
    "print(\"Reversed list:\", copied_list)"
   ]
  }
 ],
 "metadata": {
  "kernelspec": {
   "display_name": "Python 3",
   "language": "python",
   "name": "python3"
  },
  "language_info": {
   "codemirror_mode": {
    "name": "ipython",
    "version": 3
   },
   "file_extension": ".py",
   "mimetype": "text/x-python",
   "name": "python",
   "nbconvert_exporter": "python",
   "pygments_lexer": "ipython3",
   "version": "3.11.9"
  }
 },
 "nbformat": 4,
 "nbformat_minor": 5
}

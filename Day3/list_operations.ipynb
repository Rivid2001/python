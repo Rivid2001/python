{
 "cells": [
  {
   "cell_type": "code",
   "execution_count": null,
   "id": "1a790532",
   "metadata": {},
   "outputs": [],
   "source": [
    "# Create a sample list\n",
    "my_list = [1, 2, 3, 4, 5, 3, 6]"
   ]
  },
  {
   "cell_type": "code",
   "execution_count": null,
   "id": "1feccc1b",
   "metadata": {},
   "outputs": [],
   "source": [
    "# Accessing elements\n",
    "print(\"Accessing elements:\")\n",
    "print(\"First element:\", my_list[0])\n",
    "print(\"Last element:\", my_list[-1])\n",
    "print(\"Slicing list:\", my_list[1:4])  # Slicing from index 1 to 3"
   ]
  },
  {
   "cell_type": "code",
   "execution_count": null,
   "id": "fca3c34a",
   "metadata": {},
   "outputs": [],
   "source": [
    "# Modifying elements\n",
    "print(\"\\nModifying elements:\")\n",
    "my_list[2] = 10\n",
    "print(\"Modified list:\", my_list)"
   ]
  },
  {
   "cell_type": "code",
   "execution_count": null,
   "id": "6b29bdb6",
   "metadata": {},
   "outputs": [],
   "source": [
    "# Appending elements\n",
    "print(\"\\nAppending elements:\")\n",
    "my_list.append(7)\n",
    "print(\"Appended list:\", my_list)"
   ]
  },
  {
   "cell_type": "code",
   "execution_count": null,
   "id": "e09c393a",
   "metadata": {},
   "outputs": [],
   "source": [
    "# Inserting elements\n",
    "print(\"\\nInserting elements:\")\n",
    "my_list.insert(2, 8)  # Inserting 8 at index 2\n",
    "print(\"Inserted list:\", my_list)"
   ]
  },
  {
   "cell_type": "code",
   "execution_count": null,
   "id": "5245703f",
   "metadata": {},
   "outputs": [],
   "source": [
    "# Removing elements\n",
    "print(\"\\nRemoving elements:\")\n",
    "my_list.remove(3)  # Removing element 3\n",
    "print(\"List after removing element 3:\", my_list)\n",
    "popped_element = my_list.pop(1)  # Removing element at index 1\n",
    "print(\"Popped element:\", popped_element)\n",
    "print(\"List after popping element at index 1:\", my_list)"
   ]
  },
  {
   "cell_type": "code",
   "execution_count": null,
   "id": "62b72ec8",
   "metadata": {},
   "outputs": [],
   "source": [
    "# Searching for elements\n",
    "print(\"\\nSearching for elements:\")\n",
    "print(\"Index of element 5:\", my_list.index(5))"
   ]
  },
  {
   "cell_type": "code",
   "execution_count": null,
   "id": "693ca3bf",
   "metadata": {},
   "outputs": [],
   "source": [
    "# Sorting elements\n",
    "print(\"\\nSorting elements:\")\n",
    "my_list.sort()\n",
    "print(\"Sorted list:\", my_list)"
   ]
  },
  {
   "cell_type": "code",
   "execution_count": null,
   "id": "73bdc737",
   "metadata": {},
   "outputs": [],
   "source": [
    "# Iterating through elements\n",
    "print(\"\\nIterating through elements:\")\n",
    "for element in my_list:\n",
    "    print(element)"
   ]
  },
  {
   "cell_type": "code",
   "execution_count": null,
   "id": "d0dbe336",
   "metadata": {},
   "outputs": [],
   "source": [
    "# Combining lists\n",
    "print(\"\\nCombining lists:\")\n",
    "new_list = [9, 10, 11]\n",
    "combined_list = my_list + new_list\n",
    "print(\"Combined list:\", combined_list)"
   ]
  },
  {
   "cell_type": "code",
   "execution_count": null,
   "id": "01737db3",
   "metadata": {},
   "outputs": [],
   "source": [
    "# Copying lists\n",
    "print(\"\\nCopying lists:\")\n",
    "copied_list = my_list.copy()\n",
    "print(\"Copied list:\", copied_list)"
   ]
  },
  {
   "cell_type": "code",
   "execution_count": null,
   "id": "babcd45f",
   "metadata": {},
   "outputs": [],
   "source": [
    "# List comprehension\n",
    "print(\"\\nList comprehension:\")\n",
    "squared_list = [x ** 2 for x in my_list]\n",
    "print(\"Squared list:\", squared_list)"
   ]
  },
  {
   "cell_type": "code",
   "execution_count": null,
   "id": "014c17c9",
   "metadata": {},
   "outputs": [],
   "source": [
    "# List methods\n",
    "print(\"\\nList methods:\")\n",
    "print(\"Count of 3 in list:\", my_list.count(3))\n",
    "my_list.extend([12, 13])  # Extending list with elements\n",
    "print(\"Extended list:\", my_list)\n",
    "my_list.clear()  # Clearing the list\n",
    "print(\"Cleared list:\", my_list)"
   ]
  },
  {
   "cell_type": "code",
   "execution_count": null,
   "id": "460e2c1b",
   "metadata": {},
   "outputs": [],
   "source": [
    "# List membership\n",
    "print(\"\\nList membership:\")\n",
    "print(\"Is 5 in the list?\", 5 in copied_list)"
   ]
  },
  {
   "cell_type": "code",
   "execution_count": null,
   "id": "e0419913",
   "metadata": {},
   "outputs": [],
   "source": [
    "# List length\n",
    "print(\"\\nList length:\")\n",
    "print(\"Length of the list:\", len(copied_list))"
   ]
  },
  {
   "cell_type": "code",
   "execution_count": null,
   "id": "41ab756d",
   "metadata": {},
   "outputs": [],
   "source": [
    "# List reversal\n",
    "print(\"\\nList reversal:\")\n",
    "copied_list.reverse()\n",
    "print(\"Reversed list:\", copied_list)"
   ]
  }
 ],
 "metadata": {},
 "nbformat": 4,
 "nbformat_minor": 5
}
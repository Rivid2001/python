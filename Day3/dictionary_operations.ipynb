{
 "cells": [
  {
   "cell_type": "markdown",
   "id": "0e65d976",
   "metadata": {},
   "source": [
    "## Dictionary Operations"
   ]
  },
  {
   "cell_type": "markdown",
   "id": "cbdaab73",
   "metadata": {},
   "source": [
    "## Create a sample dictionary"
   ]
  },
  {
   "cell_type": "code",
   "execution_count": 15,
   "id": "d1a57826",
   "metadata": {},
   "outputs": [],
   "source": [
    "# Create a sample dictionary\n",
    "my_dict = {'name': 'John', 'age': 30, 'city': 'New York'}"
   ]
  },
  {
   "cell_type": "markdown",
   "id": "90388e3e",
   "metadata": {},
   "source": [
    "## Accessing elements"
   ]
  },
  {
   "cell_type": "code",
   "execution_count": 16,
   "id": "8ae873b1",
   "metadata": {},
   "outputs": [
    {
     "name": "stdout",
     "output_type": "stream",
     "text": [
      "Accessing elements:\n",
      "Name: John\n",
      "Age: 30\n",
      "City: New York\n"
     ]
    }
   ],
   "source": [
    "# Accessing elements\n",
    "print(\"Accessing elements:\")\n",
    "print(\"Name:\", my_dict['name'])\n",
    "print(\"Age:\", my_dict['age'])\n",
    "print(\"City:\", my_dict['city'])"
   ]
  },
  {
   "cell_type": "markdown",
   "id": "57ace4eb",
   "metadata": {},
   "source": [
    "## Adding and updating elements"
   ]
  },
  {
   "cell_type": "code",
   "execution_count": 17,
   "id": "af0d65d3",
   "metadata": {},
   "outputs": [
    {
     "name": "stdout",
     "output_type": "stream",
     "text": [
      "\n",
      "Adding and updating elements:\n",
      "Updated dictionary: {'name': 'John', 'age': 30, 'city': 'New York', 'email': 'john@example.com'}\n",
      "Updated age: 35\n"
     ]
    }
   ],
   "source": [
    "# Adding and updating elements\n",
    "print(\"\\nAdding and updating elements:\")\n",
    "my_dict['email'] = 'john@example.com'\n",
    "print(\"Updated dictionary:\", my_dict)\n",
    "my_dict['age'] = 35\n",
    "print(\"Updated age:\", my_dict['age'])"
   ]
  },
  {
   "cell_type": "markdown",
   "id": "7430f534",
   "metadata": {},
   "source": [
    "## Removing elements"
   ]
  },
  {
   "cell_type": "code",
   "execution_count": 18,
   "id": "09f7525c",
   "metadata": {},
   "outputs": [
    {
     "name": "stdout",
     "output_type": "stream",
     "text": [
      "\n",
      "Removing elements:\n",
      "Dictionary after removing 'city' key: {'name': 'John', 'age': 35, 'email': 'john@example.com'}\n",
      "Popped item: john@example.com\n",
      "Dictionary after popping 'email' key: {'name': 'John', 'age': 35}\n",
      "Popped item (popitem()): ('age', 35)\n",
      "Dictionary after popping an arbitrary item: {'name': 'John'}\n"
     ]
    }
   ],
   "source": [
    "# Removing elements\n",
    "print(\"\\nRemoving elements:\")\n",
    "del my_dict['city']\n",
    "print(\"Dictionary after removing 'city' key:\", my_dict)\n",
    "popped_item = my_dict.pop('email')\n",
    "print(\"Popped item:\", popped_item)\n",
    "print(\"Dictionary after popping 'email' key:\", my_dict)\n",
    "popped_item = my_dict.popitem()  # Removes and returns an arbitrary (key, value) pair\n",
    "print(\"Popped item (popitem()):\", popped_item)\n",
    "print(\"Dictionary after popping an arbitrary item:\", my_dict)"
   ]
  },
  {
   "cell_type": "markdown",
   "id": "3be59430",
   "metadata": {},
   "source": [
    "## Checking membership"
   ]
  },
  {
   "cell_type": "code",
   "execution_count": 19,
   "id": "0de22118",
   "metadata": {},
   "outputs": [
    {
     "name": "stdout",
     "output_type": "stream",
     "text": [
      "\n",
      "Checking membership:\n",
      "'name' in my_dict? True\n",
      "'age' not in my_dict? True\n"
     ]
    }
   ],
   "source": [
    "# Checking membership\n",
    "print(\"\\nChecking membership:\")\n",
    "print(\"'name' in my_dict?\", 'name' in my_dict)\n",
    "print(\"'age' not in my_dict?\", 'age' not in my_dict)"
   ]
  },
  {
   "cell_type": "markdown",
   "id": "8c3d28aa",
   "metadata": {},
   "source": [
    "## Iterating through elements"
   ]
  },
  {
   "cell_type": "code",
   "execution_count": 20,
   "id": "5b24069b",
   "metadata": {},
   "outputs": [
    {
     "name": "stdout",
     "output_type": "stream",
     "text": [
      "\n",
      "Iterating through elements:\n",
      "name : John\n"
     ]
    }
   ],
   "source": [
    "# Iterating through elements\n",
    "print(\"\\nIterating through elements:\")\n",
    "for key in my_dict:\n",
    "    print(key, \":\", my_dict[key])"
   ]
  },
  {
   "cell_type": "markdown",
   "id": "23b8871f",
   "metadata": {},
   "source": [
    "## Getting keys, values, and items"
   ]
  },
  {
   "cell_type": "code",
   "execution_count": 21,
   "id": "776afa9d",
   "metadata": {},
   "outputs": [
    {
     "name": "stdout",
     "output_type": "stream",
     "text": [
      "\n",
      "Getting keys, values, and items:\n",
      "Keys: dict_keys(['name'])\n",
      "Values: dict_values(['John'])\n",
      "Items: dict_items([('name', 'John')])\n"
     ]
    }
   ],
   "source": [
    "# Getting keys, values, and items\n",
    "print(\"\\nGetting keys, values, and items:\")\n",
    "print(\"Keys:\", my_dict.keys())\n",
    "print(\"Values:\", my_dict.values())\n",
    "print(\"Items:\", my_dict.items())"
   ]
  },
  {
   "cell_type": "markdown",
   "id": "bb4d2277",
   "metadata": {},
   "source": [
    "## Length determination"
   ]
  },
  {
   "cell_type": "code",
   "execution_count": 22,
   "id": "783a4ad8",
   "metadata": {},
   "outputs": [
    {
     "name": "stdout",
     "output_type": "stream",
     "text": [
      "\n",
      "Length determination:\n",
      "Length of the dictionary: 1\n"
     ]
    }
   ],
   "source": [
    "# Length determination\n",
    "print(\"\\nLength determination:\")\n",
    "print(\"Length of the dictionary:\", len(my_dict))"
   ]
  },
  {
   "cell_type": "markdown",
   "id": "decc6cdb",
   "metadata": {},
   "source": [
    "## Clearing the dictionary"
   ]
  },
  {
   "cell_type": "code",
   "execution_count": 23,
   "id": "7a31e249",
   "metadata": {},
   "outputs": [
    {
     "name": "stdout",
     "output_type": "stream",
     "text": [
      "\n",
      "Clearing the dictionary:\n",
      "Cleared dictionary: {}\n"
     ]
    }
   ],
   "source": [
    "# Clearing the dictionary\n",
    "print(\"\\nClearing the dictionary:\")\n",
    "my_dict.clear()\n",
    "print(\"Cleared dictionary:\", my_dict)"
   ]
  },
  {
   "cell_type": "markdown",
   "id": "7a313cb3",
   "metadata": {},
   "source": [
    "## Copying the dictionary"
   ]
  },
  {
   "cell_type": "code",
   "execution_count": 24,
   "id": "5682fba6",
   "metadata": {},
   "outputs": [
    {
     "name": "stdout",
     "output_type": "stream",
     "text": [
      "\n",
      "Copying the dictionary:\n",
      "Copied dictionary: {'name': 'John', 'age': 30, 'city': 'New York'}\n"
     ]
    }
   ],
   "source": [
    "# Copying the dictionary\n",
    "print(\"\\nCopying the dictionary:\")\n",
    "my_dict = {'name': 'John', 'age': 30, 'city': 'New York'}\n",
    "copied_dict = my_dict.copy()\n",
    "print(\"Copied dictionary:\", copied_dict)"
   ]
  },
  {
   "cell_type": "markdown",
   "id": "a525b797",
   "metadata": {},
   "source": [
    "## Merging dictionaries"
   ]
  },
  {
   "cell_type": "code",
   "execution_count": 25,
   "id": "f277e4d8",
   "metadata": {},
   "outputs": [
    {
     "name": "stdout",
     "output_type": "stream",
     "text": [
      "\n",
      "Merging dictionaries:\n",
      "Merged dictionary: {'name': 'John', 'age': 30, 'city': 'New York', 'email': 'john@example.com', 'phone': '123-456-7890'}\n"
     ]
    }
   ],
   "source": [
    "# Merging dictionaries\n",
    "print(\"\\nMerging dictionaries:\")\n",
    "additional_info = {'email': 'john@example.com', 'phone': '123-456-7890'}\n",
    "my_dict.update(additional_info)\n",
    "print(\"Merged dictionary:\", my_dict)"
   ]
  },
  {
   "cell_type": "markdown",
   "id": "05a3bb83",
   "metadata": {},
   "source": [
    "## Dictionary comprehension"
   ]
  },
  {
   "cell_type": "code",
   "execution_count": 26,
   "id": "1edeaf85",
   "metadata": {},
   "outputs": [
    {
     "name": "stdout",
     "output_type": "stream",
     "text": [
      "\n",
      "Dictionary comprehension:\n",
      "Squared dictionary: {1: 1, 2: 4, 3: 9, 4: 16, 5: 25}\n"
     ]
    }
   ],
   "source": [
    "# Dictionary comprehension\n",
    "print(\"\\nDictionary comprehension:\")\n",
    "square_dict = {num: num ** 2 for num in range(1, 6)}\n",
    "print(\"Squared dictionary:\", square_dict)"
   ]
  },
  {
   "cell_type": "markdown",
   "id": "09461345",
   "metadata": {},
   "source": [
    "## Dictionary methods"
   ]
  },
  {
   "cell_type": "code",
   "execution_count": 27,
   "id": "f3a55a71",
   "metadata": {},
   "outputs": [
    {
     "name": "stdout",
     "output_type": "stream",
     "text": [
      "\n",
      "Dictionary methods:\n",
      "Value for 'name' key: John\n",
      "Setting default value for 'gender' key: male\n",
      "Dictionary after setdefault(): {'name': 'John', 'age': 30, 'city': 'New York', 'email': 'john@example.com', 'phone': '123-456-7890', 'gender': 'male'}\n",
      "Creating a dictionary from keys: {'a': 0, 'b': 0, 'c': 0}\n"
     ]
    }
   ],
   "source": [
    "# Dictionary methods\n",
    "print(\"\\nDictionary methods:\")\n",
    "print(\"Value for 'name' key:\", my_dict.get('name'))\n",
    "print(\"Setting default value for 'gender' key:\", my_dict.setdefault('gender', 'male'))\n",
    "print(\"Dictionary after setdefault():\", my_dict)\n",
    "print(\"Creating a dictionary from keys:\", dict.fromkeys(['a', 'b', 'c'], 0))"
   ]
  },
  {
   "cell_type": "markdown",
   "id": "8d97d794",
   "metadata": {},
   "source": [
    "## Dictionary views"
   ]
  },
  {
   "cell_type": "code",
   "execution_count": 28,
   "id": "a718f0a3",
   "metadata": {},
   "outputs": [
    {
     "name": "stdout",
     "output_type": "stream",
     "text": [
      "\n",
      "Dictionary views:\n",
      "Keys view: dict_keys(['name', 'age', 'city', 'email', 'phone', 'gender'])\n",
      "Values view: dict_values(['John', 30, 'New York', 'john@example.com', '123-456-7890', 'male'])\n",
      "Items view: dict_items([('name', 'John'), ('age', 30), ('city', 'New York'), ('email', 'john@example.com'), ('phone', '123-456-7890'), ('gender', 'male')])\n"
     ]
    }
   ],
   "source": [
    "# Dictionary views\n",
    "print(\"\\nDictionary views:\")\n",
    "print(\"Keys view:\", my_dict.keys())\n",
    "print(\"Values view:\", my_dict.values())\n",
    "print(\"Items view:\", my_dict.items())"
   ]
  }
 ],
 "metadata": {
  "kernelspec": {
   "display_name": "Python 3",
   "language": "python",
   "name": "python3"
  },
  "language_info": {
   "codemirror_mode": {
    "name": "ipython",
    "version": 3
   },
   "file_extension": ".py",
   "mimetype": "text/x-python",
   "name": "python",
   "nbconvert_exporter": "python",
   "pygments_lexer": "ipython3",
   "version": "3.11.9"
  }
 },
 "nbformat": 4,
 "nbformat_minor": 5
}

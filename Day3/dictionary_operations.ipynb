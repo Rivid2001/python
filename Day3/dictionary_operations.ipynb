{
 "cells": [
  {
   "cell_type": "code",
   "execution_count": null,
   "id": "d1a57826",
   "metadata": {},
   "outputs": [],
   "source": [
    "# Create a sample dictionary\n",
    "my_dict = {'name': 'John', 'age': 30, 'city': 'New York'}"
   ]
  },
  {
   "cell_type": "code",
   "execution_count": null,
   "id": "8ae873b1",
   "metadata": {},
   "outputs": [],
   "source": [
    "# Accessing elements\n",
    "print(\"Accessing elements:\")\n",
    "print(\"Name:\", my_dict['name'])\n",
    "print(\"Age:\", my_dict['age'])\n",
    "print(\"City:\", my_dict['city'])"
   ]
  },
  {
   "cell_type": "code",
   "execution_count": null,
   "id": "af0d65d3",
   "metadata": {},
   "outputs": [],
   "source": [
    "# Adding and updating elements\n",
    "print(\"\\nAdding and updating elements:\")\n",
    "my_dict['email'] = 'john@example.com'\n",
    "print(\"Updated dictionary:\", my_dict)\n",
    "my_dict['age'] = 35\n",
    "print(\"Updated age:\", my_dict['age'])"
   ]
  },
  {
   "cell_type": "code",
   "execution_count": null,
   "id": "09f7525c",
   "metadata": {},
   "outputs": [],
   "source": [
    "# Removing elements\n",
    "print(\"\\nRemoving elements:\")\n",
    "del my_dict['city']\n",
    "print(\"Dictionary after removing 'city' key:\", my_dict)\n",
    "popped_item = my_dict.pop('email')\n",
    "print(\"Popped item:\", popped_item)\n",
    "print(\"Dictionary after popping 'email' key:\", my_dict)\n",
    "popped_item = my_dict.popitem()  # Removes and returns an arbitrary (key, value) pair\n",
    "print(\"Popped item (popitem()):\", popped_item)\n",
    "print(\"Dictionary after popping an arbitrary item:\", my_dict)"
   ]
  },
  {
   "cell_type": "code",
   "execution_count": null,
   "id": "0de22118",
   "metadata": {},
   "outputs": [],
   "source": [
    "# Checking membership\n",
    "print(\"\\nChecking membership:\")\n",
    "print(\"'name' in my_dict?\", 'name' in my_dict)\n",
    "print(\"'age' not in my_dict?\", 'age' not in my_dict)"
   ]
  },
  {
   "cell_type": "code",
   "execution_count": null,
   "id": "5b24069b",
   "metadata": {},
   "outputs": [],
   "source": [
    "# Iterating through elements\n",
    "print(\"\\nIterating through elements:\")\n",
    "for key in my_dict:\n",
    "    print(key, \":\", my_dict[key])"
   ]
  },
  {
   "cell_type": "code",
   "execution_count": null,
   "id": "776afa9d",
   "metadata": {},
   "outputs": [],
   "source": [
    "# Getting keys, values, and items\n",
    "print(\"\\nGetting keys, values, and items:\")\n",
    "print(\"Keys:\", my_dict.keys())\n",
    "print(\"Values:\", my_dict.values())\n",
    "print(\"Items:\", my_dict.items())"
   ]
  },
  {
   "cell_type": "code",
   "execution_count": null,
   "id": "783a4ad8",
   "metadata": {},
   "outputs": [],
   "source": [
    "# Length determination\n",
    "print(\"\\nLength determination:\")\n",
    "print(\"Length of the dictionary:\", len(my_dict))"
   ]
  },
  {
   "cell_type": "code",
   "execution_count": null,
   "id": "7a31e249",
   "metadata": {},
   "outputs": [],
   "source": [
    "# Clearing the dictionary\n",
    "print(\"\\nClearing the dictionary:\")\n",
    "my_dict.clear()\n",
    "print(\"Cleared dictionary:\", my_dict)"
   ]
  },
  {
   "cell_type": "code",
   "execution_count": null,
   "id": "5682fba6",
   "metadata": {},
   "outputs": [],
   "source": [
    "# Copying the dictionary\n",
    "print(\"\\nCopying the dictionary:\")\n",
    "my_dict = {'name': 'John', 'age': 30, 'city': 'New York'}\n",
    "copied_dict = my_dict.copy()\n",
    "print(\"Copied dictionary:\", copied_dict)"
   ]
  },
  {
   "cell_type": "code",
   "execution_count": null,
   "id": "f277e4d8",
   "metadata": {},
   "outputs": [],
   "source": [
    "# Merging dictionaries\n",
    "print(\"\\nMerging dictionaries:\")\n",
    "additional_info = {'email': 'john@example.com', 'phone': '123-456-7890'}\n",
    "my_dict.update(additional_info)\n",
    "print(\"Merged dictionary:\", my_dict)"
   ]
  },
  {
   "cell_type": "code",
   "execution_count": null,
   "id": "1edeaf85",
   "metadata": {},
   "outputs": [],
   "source": [
    "# Dictionary comprehension\n",
    "print(\"\\nDictionary comprehension:\")\n",
    "square_dict = {num: num ** 2 for num in range(1, 6)}\n",
    "print(\"Squared dictionary:\", square_dict)"
   ]
  },
  {
   "cell_type": "code",
   "execution_count": null,
   "id": "f3a55a71",
   "metadata": {},
   "outputs": [],
   "source": [
    "# Dictionary methods\n",
    "print(\"\\nDictionary methods:\")\n",
    "print(\"Value for 'name' key:\", my_dict.get('name'))\n",
    "print(\"Setting default value for 'gender' key:\", my_dict.setdefault('gender', 'male'))\n",
    "print(\"Dictionary after setdefault():\", my_dict)\n",
    "print(\"Creating a dictionary from keys:\", dict.fromkeys(['a', 'b', 'c'], 0))"
   ]
  },
  {
   "cell_type": "code",
   "execution_count": null,
   "id": "a718f0a3",
   "metadata": {},
   "outputs": [],
   "source": [
    "# Dictionary views\n",
    "print(\"\\nDictionary views:\")\n",
    "print(\"Keys view:\", my_dict.keys())\n",
    "print(\"Values view:\", my_dict.values())\n",
    "print(\"Items view:\", my_dict.items())"
   ]
  }
 ],
 "metadata": {},
 "nbformat": 4,
 "nbformat_minor": 5
}

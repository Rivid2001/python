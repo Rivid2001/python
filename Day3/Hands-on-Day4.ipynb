{
 "cells": [
  {
   "cell_type": "markdown",
   "metadata": {},
   "source": [
    "### Mean Function\n",
    "### The mean (average) is calculated by adding all the numbers in a list and dividing by the count of numbers."
   ]
  },
  {
   "cell_type": "code",
   "execution_count": 1,
   "metadata": {},
   "outputs": [
    {
     "name": "stdout",
     "output_type": "stream",
     "text": [
      "Mean: 3.0\n"
     ]
    }
   ],
   "source": [
    "def calculate_mean(numbers):\n",
    "    \"\"\"Calculate the mean of a list of numbers.\"\"\"\n",
    "    if not numbers:\n",
    "        return None  # Handle empty list\n",
    "    return sum(numbers) / len(numbers)\n",
    "\n",
    "# Example\n",
    "numbers = [1, 2, 3, 4, 5]\n",
    "print(\"Mean:\", calculate_mean(numbers))  # Output: 3.0\n"
   ]
  },
  {
   "cell_type": "markdown",
   "metadata": {},
   "source": [
    "## Median Function\n",
    "## The median is the middle number in a sorted list. If the list length is even, it is the average of the two middle numbers."
   ]
  },
  {
   "cell_type": "code",
   "execution_count": 2,
   "metadata": {},
   "outputs": [
    {
     "name": "stdout",
     "output_type": "stream",
     "text": [
      "Median: 3\n"
     ]
    }
   ],
   "source": [
    "def calculate_median(numbers):\n",
    "    \"\"\"Calculate the median of a list of numbers.\"\"\"\n",
    "    if not numbers:\n",
    "        return None  # Handle empty list\n",
    "    sorted_numbers = sorted(numbers)\n",
    "    n = len(sorted_numbers)\n",
    "    middle = n // 2\n",
    "\n",
    "    if n % 2 == 0:  # Even number of elements\n",
    "        return (sorted_numbers[middle - 1] + sorted_numbers[middle]) / 2\n",
    "    else:  # Odd number of elements\n",
    "        return sorted_numbers[middle]\n",
    "\n",
    "# Example\n",
    "numbers = [1, 2, 3, 4, 5]\n",
    "print(\"Median:\", calculate_median(numbers))  # Output: 3\n"
   ]
  }
 ],
 "metadata": {
  "kernelspec": {
   "display_name": "Python 3",
   "language": "python",
   "name": "python3"
  },
  "language_info": {
   "codemirror_mode": {
    "name": "ipython",
    "version": 3
   },
   "file_extension": ".py",
   "mimetype": "text/x-python",
   "name": "python",
   "nbconvert_exporter": "python",
   "pygments_lexer": "ipython3",
   "version": "3.11.9"
  }
 },
 "nbformat": 4,
 "nbformat_minor": 2
}

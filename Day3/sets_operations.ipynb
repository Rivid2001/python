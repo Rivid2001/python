{
 "cells": [
  {
   "cell_type": "code",
   "execution_count": null,
   "id": "a1b0d92f",
   "metadata": {},
   "outputs": [],
   "source": [
    "# Creating sample sets\n",
    "set1 = {1, 2, 3, 4, 5}\n",
    "set2 = {4, 5, 6, 7, 8}"
   ]
  },
  {
   "cell_type": "code",
   "execution_count": null,
   "id": "e8125b5d",
   "metadata": {},
   "outputs": [],
   "source": [
    "# Adding elements\n",
    "print(\"Adding elements:\")\n",
    "set1.add(6)\n",
    "print(\"After adding element 6 to set1:\", set1)\n",
    "set1.update({7, 8, 9})\n",
    "print(\"After updating set1 with elements 7, 8, 9:\", set1)"
   ]
  },
  {
   "cell_type": "code",
   "execution_count": null,
   "id": "03e3487e",
   "metadata": {},
   "outputs": [],
   "source": [
    "# Removing elements\n",
    "print(\"\\nRemoving elements:\")\n",
    "set1.remove(6)\n",
    "print(\"After removing element 6 from set1:\", set1)\n",
    "set1.discard(9)\n",
    "print(\"After discarding element 9 from set1:\", set1)\n",
    "popped_element = set1.pop()\n",
    "print(\"Popped element from set1:\", popped_element)\n",
    "print(\"Set1 after popping an arbitrary element:\", set1)\n",
    "set1.clear()\n",
    "print(\"Cleared set1:\", set1)"
   ]
  },
  {
   "cell_type": "code",
   "execution_count": null,
   "id": "b361cab8",
   "metadata": {},
   "outputs": [],
   "source": [
    "# Checking membership\n",
    "print(\"\\nChecking membership:\")\n",
    "print(\"Is 5 in set2?\", 5 in set2)\n",
    "print(\"Is 3 not in set2?\", 3 not in set2)"
   ]
  },
  {
   "cell_type": "code",
   "execution_count": null,
   "id": "1cd04368",
   "metadata": {},
   "outputs": [],
   "source": [
    "# Length determination\n",
    "print(\"\\nLength determination:\")\n",
    "print(\"Length of set2:\", len(set2))"
   ]
  },
  {
   "cell_type": "code",
   "execution_count": null,
   "id": "a814e4ba",
   "metadata": {},
   "outputs": [],
   "source": [
    "# Set operations\n",
    "print(\"\\nSet operations:\")\n",
    "print(\"Union of set1 and set2:\", set1.union(set2))\n",
    "print(\"Intersection of set1 and set2:\", set1.intersection(set2))\n",
    "print(\"Difference of set1 and set2:\", set1.difference(set2))\n",
    "print(\"Symmetric difference of set1 and set2:\", set1.symmetric_difference(set2))"
   ]
  },
  {
   "cell_type": "code",
   "execution_count": null,
   "id": "bd2c2fbe",
   "metadata": {},
   "outputs": [],
   "source": [
    "# Subset and superset checking\n",
    "print(\"\\nSubset and superset checking:\")\n",
    "print(\"Is set1 a subset of set2?\", set1.issubset(set2))\n",
    "print(\"Is set2 a superset of set1?\", set2.issuperset(set1))"
   ]
  },
  {
   "cell_type": "code",
   "execution_count": null,
   "id": "bf1e4dbe",
   "metadata": {},
   "outputs": [],
   "source": [
    "# Disjoint checking\n",
    "print(\"\\nDisjoint checking:\")\n",
    "set3 = {9, 10, 11}\n",
    "print(\"Are set1 and set3 disjoint?\", set1.isdisjoint(set3))"
   ]
  },
  {
   "cell_type": "code",
   "execution_count": null,
   "id": "320e947e",
   "metadata": {},
   "outputs": [],
   "source": [
    "# Copying sets\n",
    "print(\"\\nCopying sets:\")\n",
    "copied_set2 = set2.copy()\n",
    "print(\"Copied set2:\", copied_set2)"
   ]
  },
  {
   "cell_type": "code",
   "execution_count": null,
   "id": "c2286807",
   "metadata": {},
   "outputs": [],
   "source": [
    "# Converting from other data types\n",
    "print(\"\\nConverting from other data types:\")\n",
    "my_list = [1, 2, 3, 4, 5]\n",
    "set_from_list = set(my_list)\n",
    "print(\"Set from list:\", set_from_list)"
   ]
  },
  {
   "cell_type": "code",
   "execution_count": null,
   "id": "95c47888",
   "metadata": {},
   "outputs": [],
   "source": [
    "# Set comprehension\n",
    "print(\"\\nSet comprehension:\")\n",
    "squared_set = {x ** 2 for x in set_from_list}\n",
    "print(\"Squared set:\", squared_set)"
   ]
  },
  {
   "cell_type": "code",
   "execution_count": null,
   "id": "f8ef3418",
   "metadata": {},
   "outputs": [],
   "source": [
    "# Frozen sets\n",
    "frozen_set = frozenset(set_from_list)\n",
    "print(\"\\nFrozen set:\", frozen_set)"
   ]
  }
 ],
 "metadata": {},
 "nbformat": 4,
 "nbformat_minor": 5
}
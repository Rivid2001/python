{
 "cells": [
  {
   "cell_type": "markdown",
   "id": "2df5332c",
   "metadata": {},
   "source": [
    "## Accessing elements"
   ]
  },
  {
   "cell_type": "code",
   "execution_count": null,
   "id": "5dcde305",
   "metadata": {},
   "outputs": [],
   "source": [
    "\n",
    "# Accessing elements\n",
    "my_tuple = (1, 2, 3, 4, 5, 3, 6)\n",
    "print(\"First element:\", my_tuple[0])\n",
    "print(\"Last element:\", my_tuple[-1])\n",
    "print(\"Slicing tuple:\", my_tuple[1:4])  # Slicing from index 1 to 3\n"
   ]
  },
  {
   "cell_type": "markdown",
   "id": "fef866db",
   "metadata": {},
   "source": [
    "## Tuple unpacking"
   ]
  },
  {
   "cell_type": "code",
   "execution_count": null,
   "id": "904b0d8d",
   "metadata": {},
   "outputs": [],
   "source": [
    "\n",
    "# Tuple unpacking\n",
    "my_tuple = (1, 2, 3, 4, 5, 3, 6)\n",
    "a, b, c, d, e, f, g = my_tuple\n",
    "print(\"Unpacked elements:\", a, b, c, d, e, f, g)\n"
   ]
  },
  {
   "cell_type": "markdown",
   "id": "cc1fdc19",
   "metadata": {},
   "source": [
    "## Concatenation"
   ]
  },
  {
   "cell_type": "code",
   "execution_count": null,
   "id": "2448a84e",
   "metadata": {},
   "outputs": [],
   "source": [
    "\n",
    "# Concatenation\n",
    "my_tuple = (1, 2, 3, 4, 5, 3, 6)\n",
    "new_tuple = my_tuple + (7, 8, 9)\n",
    "print(\"Concatenated tuple:\", new_tuple)\n"
   ]
  },
  {
   "cell_type": "markdown",
   "id": "32d312a1",
   "metadata": {},
   "source": [
    "## Repetition"
   ]
  },
  {
   "cell_type": "code",
   "execution_count": null,
   "id": "429e9840",
   "metadata": {},
   "outputs": [],
   "source": [
    "\n",
    "# Repetition\n",
    "my_tuple = (1, 2, 3, 4, 5, 3, 6)\n",
    "repeated_tuple = my_tuple * 2\n",
    "print(\"Repeated tuple:\", repeated_tuple)\n"
   ]
  },
  {
   "cell_type": "markdown",
   "id": "44a5901c",
   "metadata": {},
   "source": [
    "## Length determination"
   ]
  },
  {
   "cell_type": "code",
   "execution_count": null,
   "id": "a0f38338",
   "metadata": {},
   "outputs": [],
   "source": [
    "\n",
    "# Length determination\n",
    "my_tuple = (1, 2, 3, 4, 5, 3, 6)\n",
    "print(\"Length of the tuple:\", len(my_tuple))\n"
   ]
  },
  {
   "cell_type": "markdown",
   "id": "2d8aec3c",
   "metadata": {},
   "source": [
    "## Membership testing"
   ]
  },
  {
   "cell_type": "code",
   "execution_count": null,
   "id": "0c0d5847",
   "metadata": {},
   "outputs": [],
   "source": [
    "\n",
    "# Membership testing\n",
    "my_tuple = (1, 2, 3, 4, 5, 3, 6)\n",
    "print(\"Is 5 in the tuple?\", 5 in my_tuple)\n"
   ]
  },
  {
   "cell_type": "markdown",
   "id": "4e01bc55",
   "metadata": {},
   "source": [
    "## Iterating through elements"
   ]
  },
  {
   "cell_type": "code",
   "execution_count": null,
   "id": "cb71c169",
   "metadata": {},
   "outputs": [],
   "source": [
    "\n",
    "# Iterating through elements\n",
    "my_tuple = (1, 2, 3, 4, 5, 3, 6)\n",
    "for element in my_tuple:\n",
    "    print(element)\n"
   ]
  },
  {
   "cell_type": "markdown",
   "id": "fd887286",
   "metadata": {},
   "source": [
    "## Counting occurrences"
   ]
  },
  {
   "cell_type": "code",
   "execution_count": null,
   "id": "0e5eee44",
   "metadata": {},
   "outputs": [],
   "source": [
    "\n",
    "# Counting occurrences\n",
    "my_tuple = (1, 2, 3, 4, 5, 3, 6)\n",
    "print(\"Count of 3 in tuple:\", my_tuple.count(3))\n"
   ]
  },
  {
   "cell_type": "markdown",
   "id": "9552d3b7",
   "metadata": {},
   "source": [
    "## Finding index"
   ]
  },
  {
   "cell_type": "code",
   "execution_count": null,
   "id": "02415eeb",
   "metadata": {},
   "outputs": [],
   "source": [
    "\n",
    "# Finding index\n",
    "my_tuple = (1, 2, 3, 4, 5, 3, 6)\n",
    "print(\"Index of 5 in tuple:\", my_tuple.index(5))\n"
   ]
  },
  {
   "cell_type": "markdown",
   "id": "b7510209",
   "metadata": {},
   "source": [
    "## Conversion"
   ]
  },
  {
   "cell_type": "code",
   "execution_count": null,
   "id": "df73f4d2",
   "metadata": {},
   "outputs": [],
   "source": [
    "\n",
    "# Conversion\n",
    "my_tuple = (1, 2, 3, 4, 5, 3, 6)\n",
    "list_from_tuple = list(my_tuple)\n",
    "print(\"Converted to list:\", list_from_tuple)\n"
   ]
  },
  {
   "cell_type": "markdown",
   "id": "2fc05228",
   "metadata": {},
   "source": [
    "## Comparisons"
   ]
  },
  {
   "cell_type": "code",
   "execution_count": null,
   "id": "1fb3a222",
   "metadata": {},
   "outputs": [],
   "source": [
    "\n",
    "# Comparisons\n",
    "tuple1 = (1, 2, 3)\n",
    "tuple2 = (1, 2, 4)\n",
    "print(\"Tuple 1 == Tuple 2?\", tuple1 == tuple2)\n",
    "print(\"Tuple 1 < Tuple 2?\", tuple1 < tuple2)\n"
   ]
  },
  {
   "cell_type": "markdown",
   "id": "2bdfaeed",
   "metadata": {},
   "source": [
    "## Sorting"
   ]
  },
  {
   "cell_type": "code",
   "execution_count": null,
   "id": "0ea82ec5",
   "metadata": {},
   "outputs": [],
   "source": [
    "\n",
    "# Sorting\n",
    "my_tuple = (1, 2, 3, 4, 5, 3, 6)\n",
    "sorted_tuple = sorted(my_tuple)\n",
    "print(\"Sorted tuple:\", sorted_tuple)\n"
   ]
  },
  {
   "cell_type": "markdown",
   "id": "43c5e09a",
   "metadata": {},
   "source": [
    "## Hashing"
   ]
  },
  {
   "cell_type": "code",
   "execution_count": null,
   "id": "f48e9ad8",
   "metadata": {},
   "outputs": [],
   "source": [
    "\n",
    "# Hashing\n",
    "my_tuple = (1, 2, 3, 4, 5, 3, 6)\n",
    "my_dict = {}\n",
    "my_dict[my_tuple] = \"This is a tuple\"\n",
    "print(\"Dictionary with tuple key:\", my_dict)\n"
   ]
  }
 ],
 "metadata": {},
 "nbformat": 4,
 "nbformat_minor": 5
}
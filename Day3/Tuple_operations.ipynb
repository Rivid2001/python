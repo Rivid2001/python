{
 "cells": [
  {
   "cell_type": "markdown",
   "id": "bd4a3c13",
   "metadata": {},
   "source": [
    "## Tuple Operations"
   ]
  },
  {
   "cell_type": "markdown",
   "id": "d2ceae4c",
   "metadata": {},
   "source": [
    "## Accessing elements"
   ]
  },
  {
   "cell_type": "code",
   "execution_count": 1,
   "id": "5dcde305",
   "metadata": {},
   "outputs": [
    {
     "name": "stdout",
     "output_type": "stream",
     "text": [
      "First element: 1\n",
      "Last element: 6\n",
      "Slicing tuple: (2, 3, 4)\n"
     ]
    }
   ],
   "source": [
    "\n",
    "# Accessing elements\n",
    "my_tuple = (1, 2, 3, 4, 5, 3, 6)\n",
    "print(\"First element:\", my_tuple[0])\n",
    "print(\"Last element:\", my_tuple[-1])\n",
    "print(\"Slicing tuple:\", my_tuple[1:4])  # Slicing from index 1 to 3\n"
   ]
  },
  {
   "cell_type": "markdown",
   "id": "fef866db",
   "metadata": {},
   "source": [
    "## Tuple unpacking"
   ]
  },
  {
   "cell_type": "code",
   "execution_count": 2,
   "id": "904b0d8d",
   "metadata": {},
   "outputs": [
    {
     "name": "stdout",
     "output_type": "stream",
     "text": [
      "Unpacked elements: 1 2 3 4 5 3 6\n"
     ]
    }
   ],
   "source": [
    "\n",
    "# Tuple unpacking\n",
    "my_tuple = (1, 2, 3, 4, 5, 3, 6)\n",
    "a, b, c, d, e, f, g = my_tuple\n",
    "print(\"Unpacked elements:\", a, b, c, d, e, f, g)\n"
   ]
  },
  {
   "cell_type": "markdown",
   "id": "cc1fdc19",
   "metadata": {},
   "source": [
    "## Concatenation"
   ]
  },
  {
   "cell_type": "code",
   "execution_count": 3,
   "id": "2448a84e",
   "metadata": {},
   "outputs": [
    {
     "name": "stdout",
     "output_type": "stream",
     "text": [
      "Concatenated tuple: (1, 2, 3, 4, 5, 3, 6, 7, 8, 9)\n"
     ]
    }
   ],
   "source": [
    "\n",
    "# Concatenation\n",
    "my_tuple = (1, 2, 3, 4, 5, 3, 6)\n",
    "new_tuple = my_tuple + (7, 8, 9)\n",
    "print(\"Concatenated tuple:\", new_tuple)\n"
   ]
  },
  {
   "cell_type": "markdown",
   "id": "32d312a1",
   "metadata": {},
   "source": [
    "## Repetition"
   ]
  },
  {
   "cell_type": "code",
   "execution_count": 4,
   "id": "429e9840",
   "metadata": {},
   "outputs": [
    {
     "name": "stdout",
     "output_type": "stream",
     "text": [
      "Repeated tuple: (1, 2, 3, 4, 5, 3, 6, 1, 2, 3, 4, 5, 3, 6)\n"
     ]
    }
   ],
   "source": [
    "\n",
    "# Repetition\n",
    "my_tuple = (1, 2, 3, 4, 5, 3, 6)\n",
    "repeated_tuple = my_tuple * 2\n",
    "print(\"Repeated tuple:\", repeated_tuple)\n"
   ]
  },
  {
   "cell_type": "markdown",
   "id": "44a5901c",
   "metadata": {},
   "source": [
    "## Length determination"
   ]
  },
  {
   "cell_type": "code",
   "execution_count": 5,
   "id": "a0f38338",
   "metadata": {},
   "outputs": [
    {
     "name": "stdout",
     "output_type": "stream",
     "text": [
      "Length of the tuple: 7\n"
     ]
    }
   ],
   "source": [
    "\n",
    "# Length determination\n",
    "my_tuple = (1, 2, 3, 4, 5, 3, 6)\n",
    "print(\"Length of the tuple:\", len(my_tuple))\n"
   ]
  },
  {
   "cell_type": "markdown",
   "id": "2d8aec3c",
   "metadata": {},
   "source": [
    "## Membership testing"
   ]
  },
  {
   "cell_type": "code",
   "execution_count": 6,
   "id": "0c0d5847",
   "metadata": {},
   "outputs": [
    {
     "name": "stdout",
     "output_type": "stream",
     "text": [
      "Is 5 in the tuple? True\n"
     ]
    }
   ],
   "source": [
    "\n",
    "# Membership testing\n",
    "my_tuple = (1, 2, 3, 4, 5, 3, 6)\n",
    "print(\"Is 5 in the tuple?\", 5 in my_tuple)\n"
   ]
  },
  {
   "cell_type": "markdown",
   "id": "4e01bc55",
   "metadata": {},
   "source": [
    "## Iterating through elements"
   ]
  },
  {
   "cell_type": "code",
   "execution_count": 7,
   "id": "cb71c169",
   "metadata": {},
   "outputs": [
    {
     "name": "stdout",
     "output_type": "stream",
     "text": [
      "1\n",
      "2\n",
      "3\n",
      "4\n",
      "5\n",
      "3\n",
      "6\n"
     ]
    }
   ],
   "source": [
    "\n",
    "# Iterating through elements\n",
    "my_tuple = (1, 2, 3, 4, 5, 3, 6)\n",
    "for element in my_tuple:\n",
    "    print(element)\n"
   ]
  },
  {
   "cell_type": "markdown",
   "id": "fd887286",
   "metadata": {},
   "source": [
    "## Counting occurrences"
   ]
  },
  {
   "cell_type": "code",
   "execution_count": 8,
   "id": "0e5eee44",
   "metadata": {},
   "outputs": [
    {
     "name": "stdout",
     "output_type": "stream",
     "text": [
      "Count of 3 in tuple: 2\n"
     ]
    }
   ],
   "source": [
    "\n",
    "# Counting occurrences\n",
    "my_tuple = (1, 2, 3, 4, 5, 3, 6)\n",
    "print(\"Count of 3 in tuple:\", my_tuple.count(3))\n"
   ]
  },
  {
   "cell_type": "markdown",
   "id": "9552d3b7",
   "metadata": {},
   "source": [
    "## Finding index"
   ]
  },
  {
   "cell_type": "code",
   "execution_count": 9,
   "id": "02415eeb",
   "metadata": {},
   "outputs": [
    {
     "name": "stdout",
     "output_type": "stream",
     "text": [
      "Index of 5 in tuple: 4\n"
     ]
    }
   ],
   "source": [
    "\n",
    "# Finding index\n",
    "my_tuple = (1, 2, 3, 4, 5, 3, 6)\n",
    "print(\"Index of 5 in tuple:\", my_tuple.index(5))\n"
   ]
  },
  {
   "cell_type": "markdown",
   "id": "b7510209",
   "metadata": {},
   "source": [
    "## Conversion"
   ]
  },
  {
   "cell_type": "code",
   "execution_count": 10,
   "id": "df73f4d2",
   "metadata": {},
   "outputs": [
    {
     "name": "stdout",
     "output_type": "stream",
     "text": [
      "Converted to list: [1, 2, 3, 4, 5, 3, 6]\n"
     ]
    }
   ],
   "source": [
    "\n",
    "# Conversion\n",
    "my_tuple = (1, 2, 3, 4, 5, 3, 6)\n",
    "list_from_tuple = list(my_tuple)\n",
    "print(\"Converted to list:\", list_from_tuple)\n"
   ]
  },
  {
   "cell_type": "markdown",
   "id": "2fc05228",
   "metadata": {},
   "source": [
    "## Comparisons"
   ]
  },
  {
   "cell_type": "code",
   "execution_count": 11,
   "id": "1fb3a222",
   "metadata": {},
   "outputs": [
    {
     "name": "stdout",
     "output_type": "stream",
     "text": [
      "Tuple 1 == Tuple 2? False\n",
      "Tuple 1 < Tuple 2? True\n"
     ]
    }
   ],
   "source": [
    "\n",
    "# Comparisons\n",
    "tuple1 = (1, 2, 3)\n",
    "tuple2 = (1, 2, 4)\n",
    "print(\"Tuple 1 == Tuple 2?\", tuple1 == tuple2)\n",
    "print(\"Tuple 1 < Tuple 2?\", tuple1 < tuple2)\n"
   ]
  },
  {
   "cell_type": "markdown",
   "id": "2bdfaeed",
   "metadata": {},
   "source": [
    "## Sorting"
   ]
  },
  {
   "cell_type": "code",
   "execution_count": 12,
   "id": "0ea82ec5",
   "metadata": {},
   "outputs": [
    {
     "name": "stdout",
     "output_type": "stream",
     "text": [
      "Sorted tuple: [1, 2, 3, 3, 4, 5, 6]\n"
     ]
    }
   ],
   "source": [
    "\n",
    "# Sorting\n",
    "my_tuple = (1, 2, 3, 4, 5, 3, 6)\n",
    "sorted_tuple = sorted(my_tuple)\n",
    "print(\"Sorted tuple:\", sorted_tuple)\n"
   ]
  },
  {
   "cell_type": "markdown",
   "id": "43c5e09a",
   "metadata": {},
   "source": [
    "## Hashing"
   ]
  },
  {
   "cell_type": "code",
   "execution_count": 13,
   "id": "f48e9ad8",
   "metadata": {},
   "outputs": [
    {
     "name": "stdout",
     "output_type": "stream",
     "text": [
      "Dictionary with tuple key: {(1, 2, 3, 4, 5, 3, 6): 'This is a tuple'}\n"
     ]
    }
   ],
   "source": [
    "\n",
    "# Hashing\n",
    "my_tuple = (1, 2, 3, 4, 5, 3, 6)\n",
    "my_dict = {}\n",
    "my_dict[my_tuple] = \"This is a tuple\"\n",
    "print(\"Dictionary with tuple key:\", my_dict)\n"
   ]
  }
 ],
 "metadata": {
  "kernelspec": {
   "display_name": "Python 3",
   "language": "python",
   "name": "python3"
  },
  "language_info": {
   "codemirror_mode": {
    "name": "ipython",
    "version": 3
   },
   "file_extension": ".py",
   "mimetype": "text/x-python",
   "name": "python",
   "nbconvert_exporter": "python",
   "pygments_lexer": "ipython3",
   "version": "3.11.9"
  }
 },
 "nbformat": 4,
 "nbformat_minor": 5
}

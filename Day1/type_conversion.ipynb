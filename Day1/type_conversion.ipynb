{
 "cells": [
  {
   "cell_type": "code",
   "execution_count": null,
   "id": "3c5e95dd",
   "metadata": {},
   "outputs": [],
   "source": [
    "\n",
    "# Implicit Conversion\n",
    "a = 5\n",
    "b = 2.5\n",
    "result = a + b  # int + float = float\n",
    "print(f\"Result: {result}, Type: {type(result)}\")\n"
   ]
  },
  {
   "cell_type": "code",
   "execution_count": null,
   "id": "acb5d8cb",
   "metadata": {},
   "outputs": [],
   "source": [
    "\n",
    "# Explicit Conversion\n",
    "# String to Integer\n",
    "num_str = \"100\"\n",
    "num_int = int(num_str)\n",
    "print(f\"Converted to Integer: {num_int}, Type: {type(num_int)}\")\n"
   ]
  },
  {
   "cell_type": "code",
   "execution_count": null,
   "id": "e974bf23",
   "metadata": {},
   "outputs": [],
   "source": [
    "\n",
    "# Float to Integer\n",
    "num_float = 3.75\n",
    "num_int = int(num_float)\n",
    "print(f\"Converted to Integer (truncated): {num_int}\")\n"
   ]
  },
  {
   "cell_type": "code",
   "execution_count": null,
   "id": "5da47f2d",
   "metadata": {},
   "outputs": [],
   "source": [
    "\n",
    "# List to Tuple\n",
    "fruits = [\"apple\", \"banana\", \"cherry\"]\n",
    "fruits_tuple = tuple(fruits)\n",
    "print(f\"List to Tuple: {fruits_tuple}\")\n"
   ]
  },
  {
   "cell_type": "code",
   "execution_count": null,
   "id": "57418ba1",
   "metadata": {},
   "outputs": [],
   "source": [
    "\n",
    "# Tuple to List\n",
    "fruits_list = list(fruits_tuple)\n",
    "print(f\"Tuple to List: {fruits_list}\")\n"
   ]
  },
  {
   "cell_type": "code",
   "execution_count": null,
   "id": "e2b5706e",
   "metadata": {},
   "outputs": [],
   "source": [
    "\n",
    "# List to Set\n",
    "numbers = [1, 2, 2, 3, 4]\n",
    "unique_numbers = set(numbers)\n",
    "print(f\"List to Set (unique values): {unique_numbers}\")\n"
   ]
  },
  {
   "cell_type": "code",
   "execution_count": null,
   "id": "bb67c0b5",
   "metadata": {},
   "outputs": [],
   "source": [
    "\n",
    "# Dictionary Conversion\n",
    "pairs = [(\"name\", \"Alice\"), (\"age\", 30)]\n",
    "person = dict(pairs)\n",
    "print(f\"List of Pairs to Dictionary: {person}\")\n"
   ]
  },
  {
   "cell_type": "code",
   "execution_count": null,
   "id": "ee62c21e",
   "metadata": {},
   "outputs": [],
   "source": [
    "\n",
    "# Error Handling\n",
    "try:\n",
    "    invalid_num = int(\"Hello\")\n",
    "except ValueError:\n",
    "    print(\"Invalid conversion attempted!\")\n"
   ]
  }
 ],
 "metadata": {},
 "nbformat": 4,
 "nbformat_minor": 5
}

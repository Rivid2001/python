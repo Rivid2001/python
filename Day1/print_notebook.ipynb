{
 "cells": [
  {
   "cell_type": "code",
   "execution_count": null,
   "id": "f00d463d",
   "metadata": {},
   "outputs": [],
   "source": [
    "print(\"Hello, World!\")"
   ]
  },
  {
   "cell_type": "code",
   "execution_count": null,
   "id": "aa81fc69",
   "metadata": {},
   "outputs": [],
   "source": [
    "name = \"Alice\"\n",
    "age = 25\n",
    "print(\"Name:\", name, \"Age:\", age)"
   ]
  },
  {
   "cell_type": "code",
   "execution_count": null,
   "id": "58e6400a",
   "metadata": {},
   "outputs": [],
   "source": [
    "print(\"Python\", \"is\", \"fun\", sep=\"-\")"
   ]
  },
  {
   "cell_type": "code",
   "execution_count": null,
   "id": "5abc97cc",
   "metadata": {},
   "outputs": [],
   "source": [
    "print(\"Hello\", end=\" \")\n",
    "print(\"World!\")"
   ]
  },
  {
   "cell_type": "code",
   "execution_count": null,
   "id": "78e8d13b",
   "metadata": {},
   "outputs": [],
   "source": [
    "print(f\"My name is {name} and I am {age} years old.\")"
   ]
  },
  {
   "cell_type": "code",
   "execution_count": null,
   "id": "99dae1e1",
   "metadata": {},
   "outputs": [],
   "source": [
    "print(\"Line 1\\nLine 2\\nLine 3\")"
   ]
  },
  {
   "cell_type": "code",
   "execution_count": null,
   "id": "36db191e",
   "metadata": {},
   "outputs": [],
   "source": [
    "print(\"Tab\\tSpace\\nNew Line\")"
   ]
  },
  {
   "cell_type": "code",
   "execution_count": null,
   "id": "e1d8978c",
   "metadata": {},
   "outputs": [],
   "source": [
    "part1 = \"Hello\"\n",
    "part2 = \"World\"\n",
    "print(part1 + \" \" + part2 + \"!\")"
   ]
  },
  {
   "cell_type": "code",
   "execution_count": null,
   "id": "a570ccaf",
   "metadata": {},
   "outputs": [],
   "source": [
    "fruits = [\"apple\", \"banana\", \"cherry\"]\n",
    "print(\"Fruits:\", fruits)"
   ]
  },
  {
   "cell_type": "code",
   "execution_count": null,
   "id": "79b13987",
   "metadata": {},
   "outputs": [],
   "source": [
    "person = {\"name\": \"Alice\", \"age\": 25}\n",
    "print(\"Person details:\", person)"
   ]
  },
  {
   "cell_type": "code",
   "execution_count": null,
   "id": "3e90c8f7",
   "metadata": {},
   "outputs": [],
   "source": [
    "with open(\"output.txt\", \"w\") as file:\n",
    "    print(\"This is written to a file.\", file=file)"
   ]
  },
  {
   "cell_type": "code",
   "execution_count": null,
   "id": "0f276cd9",
   "metadata": {},
   "outputs": [],
   "source": [
    "print(\"\\u2764\\uFE0F\")  # Heart symbol"
   ]
  },
  {
   "cell_type": "code",
   "execution_count": null,
   "id": "bc2b04da",
   "metadata": {},
   "outputs": [],
   "source": [
    "print(\"*\" * 10)"
   ]
  },
  {
   "cell_type": "code",
   "execution_count": null,
   "id": "25839aea",
   "metadata": {},
   "outputs": [],
   "source": [
    "print(\"Hello\", end=\"\")\n",
    "print(\"World!\")"
   ]
  },
  {
   "cell_type": "code",
   "execution_count": null,
   "id": "03c38f14",
   "metadata": {},
   "outputs": [],
   "source": [
    "num = 255\n",
    "print(f\"Hexadecimal: {num:x}\")\n",
    "print(f\"Octal: {num:o}\")\n",
    "print(f\"Binary: {num:b}\")"
   ]
  },
  {
   "cell_type": "code",
   "execution_count": null,
   "id": "132e9fd2",
   "metadata": {},
   "outputs": [],
   "source": [
    "print(\"He said, \\\"Python is awesome!\\\"\")"
   ]
  },
  {
   "cell_type": "code",
   "execution_count": null,
   "id": "fe7bce01",
   "metadata": {},
   "outputs": [],
   "source": [
    "print(r\"C:\\\\Users\\\\Alice\\\\Documents\")"
   ]
  },
  {
   "cell_type": "code",
   "execution_count": null,
   "id": "46d2323d",
   "metadata": {},
   "outputs": [],
   "source": [
    "print(\"\"\"\n",
    "This is line 1\n",
    "This is line 2\n",
    "This is line 3\n",
    "\"\"\")"
   ]
  },
  {
   "cell_type": "code",
   "execution_count": null,
   "id": "c5717a59",
   "metadata": {},
   "outputs": [],
   "source": [
    "for i in range(1, 4):\n",
    "    print(f\"Counting: {i}\")"
   ]
  },
  {
   "cell_type": "code",
   "execution_count": null,
   "id": "798b8aff",
   "metadata": {},
   "outputs": [],
   "source": [
    "x = 10\n",
    "print(\"Positive\" if x > 0 else \"Non-positive\")"
   ]
  }
 ],
 "metadata": {},
 "nbformat": 4,
 "nbformat_minor": 5
}
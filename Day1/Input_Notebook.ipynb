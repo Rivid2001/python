{
 "cells": [
  {
   "cell_type": "code",
   "execution_count": null,
   "id": "e7858d1d",
   "metadata": {},
   "outputs": [],
   "source": [
    "# 1. Basic Input\n",
    "name = input(\"Enter your name: \")\n",
    "print(f\"Hello, {name}!\")"
   ]
  },
  {
   "cell_type": "code",
   "execution_count": null,
   "id": "91674548",
   "metadata": {},
   "outputs": [],
   "source": [
    "# 2. Converting Input to Integer\n",
    "age = input(\"Enter your age: \")\n",
    "age = int(age)  # Convert to integer\n",
    "print(f\"You are {age} years old.\")"
   ]
  },
  {
   "cell_type": "code",
   "execution_count": null,
   "id": "970c6374",
   "metadata": {},
   "outputs": [],
   "source": [
    "# 3. Converting Input to Float\n",
    "height = input(\"Enter your height in meters: \")\n",
    "height = float(height)  # Convert to float\n",
    "print(f\"Your height is {height} meters.\")"
   ]
  },
  {
   "cell_type": "code",
   "execution_count": null,
   "id": "6df33d67",
   "metadata": {},
   "outputs": [],
   "source": [
    "# 4. Boolean Input\n",
    "is_student = input(\"Are you a student? (yes/no): \").lower() == \"yes\"\n",
    "print(f\"Student status: {is_student}\")"
   ]
  },
  {
   "cell_type": "code",
   "execution_count": null,
   "id": "aacd761a",
   "metadata": {},
   "outputs": [],
   "source": [
    "# 5. Taking Multiple Inputs\n",
    "x, y = input(\"Enter two numbers separated by space: \").split()\n",
    "x, y = int(x), int(y)  # Convert both inputs to integers\n",
    "print(f\"Sum of {x} and {y} is {x + y}.\")"
   ]
  },
  {
   "cell_type": "code",
   "execution_count": null,
   "id": "857cac03",
   "metadata": {},
   "outputs": [],
   "source": [
    "# 6. Input Validation\n",
    "age = input(\"Enter your age: \")\n",
    "if age.isdigit():\n",
    "    age = int(age)\n",
    "    print(f\"You are {age} years old.\")\n",
    "else:\n",
    "    print(\"Invalid input! Please enter a number.\")"
   ]
  },
  {
   "cell_type": "code",
   "execution_count": null,
   "id": "356b575a",
   "metadata": {},
   "outputs": [],
   "source": [
    "# 7. Handling Inputs in a Loop\n",
    "while True:\n",
    "    number = input(\"Enter a positive number: \")\n",
    "    if number.isdigit() and int(number) > 0:\n",
    "        number = int(number)\n",
    "        break\n",
    "    print(\"Invalid input. Try again!\")\n",
    "print(f\"You entered: {number}\")"
   ]
  },
  {
   "cell_type": "code",
   "execution_count": null,
   "id": "625f8fd1",
   "metadata": {},
   "outputs": [],
   "source": [
    "# 8. Using Input in a Decision-Making Scenario\n",
    "score = int(input(\"Enter your score: \"))\n",
    "if score >= 90:\n",
    "    grade = \"A\"\n",
    "elif score >= 80:\n",
    "    grade = \"B\"\n",
    "elif score >= 70:\n",
    "    grade = \"C\"\n",
    "else:\n",
    "    grade = \"F\"\n",
    "print(f\"Your grade is {grade}.\")"
   ]
  },
  {
   "cell_type": "code",
   "execution_count": null,
   "id": "bcc2af15",
   "metadata": {},
   "outputs": [],
   "source": [
    "# 9. Taking a List as Input\n",
    "numbers = input(\"Enter a list of numbers separated by commas: \").split(',')\n",
    "numbers = [int(num) for num in numbers]  # Convert each input to integer\n",
    "print(f\"You entered the numbers: {numbers}\")"
   ]
  },
  {
   "cell_type": "code",
   "execution_count": null,
   "id": "22848602",
   "metadata": {},
   "outputs": [],
   "source": [
    "# 10. Advanced Use Case: Calculator\n",
    "num1 = float(input(\"Enter the first number: \"))\n",
    "num2 = float(input(\"Enter the second number: \"))\n",
    "operation = input(\"Enter operation (+, -, *, /): \")\n",
    "if operation == \"+\":\n",
    "    result = num1 + num2\n",
    "elif operation == \"-\":\n",
    "    result = num1 - num2\n",
    "elif operation == \"*\":\n",
    "    result = num1 * num2\n",
    "elif operation == \"/\":\n",
    "    result = num1 / num2 if num2 != 0 else \"undefined (division by zero)\"\n",
    "else:\n",
    "    result = \"Invalid operation!\"\n",
    "print(f\"The result is: {result}\")"
   ]
  }
 ],
 "metadata": {
  "kernelspec": {
   "display_name": ".venv",
   "language": "python",
   "name": "python3"
  },
  "language_info": {
   "name": "python",
   "version": "3.11.9"
  }
 },
 "nbformat": 4,
 "nbformat_minor": 5
}

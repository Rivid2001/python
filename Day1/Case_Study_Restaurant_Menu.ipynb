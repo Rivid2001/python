{
 "cells": [
  {
   "cell_type": "code",
   "execution_count": null,
   "id": "850860f9",
   "metadata": {},
   "outputs": [],
   "source": [
    "\n",
    "# Restaurant Menu\n",
    "menu = {\n",
    "    \"Burger\": 5.99,\n",
    "    \"Pizza\": 8.99,\n",
    "    \"Pasta\": 7.49,\n",
    "    \"Salad\": 4.99,\n",
    "    \"Soda\": 1.99,\n",
    "    \"Coffee\": 2.49\n",
    "}\n",
    "    "
   ]
  },
  {
   "cell_type": "code",
   "execution_count": null,
   "id": "125e567d",
   "metadata": {},
   "outputs": [],
   "source": [
    "\n",
    "# Welcome message\n",
    "print(\"Welcome to the Python Cafe!\")\n",
    "print(\"Here is our menu:\\n\")\n",
    "    "
   ]
  },
  {
   "cell_type": "code",
   "execution_count": null,
   "id": "6adb61df",
   "metadata": {},
   "outputs": [],
   "source": [
    "\n",
    "# Display the menu\n",
    "for item, price in menu.items():\n",
    "    print(f\"{item}: ${price:.2f}\")\n",
    "    "
   ]
  },
  {
   "cell_type": "code",
   "execution_count": null,
   "id": "1eee0b97",
   "metadata": {},
   "outputs": [],
   "source": [
    "\n",
    "# Taking orders\n",
    "order = {}\n",
    "print(\"\\nPlease place your order (type 'done' when finished):\")\n",
    "while True:\n",
    "    item = input(\"Enter item name: \").strip()\n",
    "    if item.lower() == 'done':\n",
    "        break\n",
    "    elif item in menu:\n",
    "        quantity = int(input(f\"How many {item}(s) would you like? \"))\n",
    "        if item in order:\n",
    "            order[item] += quantity\n",
    "        else:\n",
    "            order[item] = quantity\n",
    "    else:\n",
    "        print(\"Sorry, we don't have that item. Please choose from the menu.\")\n",
    "    "
   ]
  },
  {
   "cell_type": "code",
   "execution_count": null,
   "id": "cb87720f",
   "metadata": {},
   "outputs": [],
   "source": [
    "\n",
    "# Calculate total\n",
    "print(\"\\n--- Receipt ---\")\n",
    "total = 0.0\n",
    "for item, quantity in order.items():\n",
    "    item_total = menu[item] * quantity\n",
    "    total += item_total\n",
    "    print(f\"{item} x{quantity} - ${item_total:.2f}\")\n",
    "    "
   ]
  },
  {
   "cell_type": "code",
   "execution_count": null,
   "id": "b83c72f3",
   "metadata": {},
   "outputs": [],
   "source": [
    "\n",
    "# Display total\n",
    "print(\"----------------\")\n",
    "print(f\"Total: ${total:.2f}\")\n",
    "print(\"Thank you for dining with us!\")\n",
    "    "
   ]
  }
 ],
 "metadata": {},
 "nbformat": 4,
 "nbformat_minor": 5
}
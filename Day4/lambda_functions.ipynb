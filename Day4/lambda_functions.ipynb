{
 "cells": [
  {
   "cell_type": "markdown",
   "id": "37d1ccbf",
   "metadata": {},
   "source": [
    "## Creating a Simple Lambda Function"
   ]
  },
  {
   "cell_type": "code",
   "execution_count": null,
   "id": "d7068f2f",
   "metadata": {},
   "outputs": [],
   "source": [
    "# Example 1: Basic lambda function to double a number\n",
    "double = lambda x: x * 2\n",
    "print(\"Double of 5:\", double(5))  # Output: 10"
   ]
  },
  {
   "cell_type": "markdown",
   "id": "f9282c74",
   "metadata": {},
   "source": [
    "## Creating a Lambda Function with map() for mapping List values to X"
   ]
  },
  {
   "cell_type": "code",
   "execution_count": null,
   "id": "ea63b447",
   "metadata": {},
   "outputs": [],
   "source": [
    "# Example 2: Using lambda with map to square numbers\n",
    "numbers = [1, 2, 3, 4, 5]\n",
    "squared = map(lambda x: x ** 2, numbers)\n",
    "print(\"Squared numbers:\", list(squared))  # Output: [1, 4, 9, 16, 25]"
   ]
  },
  {
   "cell_type": "markdown",
   "id": "9a0202e3",
   "metadata": {},
   "source": [
    "## Creating a Lambda Function with filter() to conditionally filter the input values"
   ]
  },
  {
   "cell_type": "code",
   "execution_count": null,
   "id": "503a89ec",
   "metadata": {},
   "outputs": [],
   "source": [
    "# Example 3: Using lambda with filter to get even numbers\n",
    "numbers = [1, 2, 3, 4, 5]\n",
    "even_numbers = filter(lambda x: x % 2 == 0, numbers)\n",
    "print(\"Even numbers:\", list(even_numbers))  # Output: [2, 4]"
   ]
  },
  {
   "cell_type": "markdown",
   "id": "4a58928e",
   "metadata": {},
   "source": [
    "## Using Lambda with sorted() to sort the values "
   ]
  },
  {
   "cell_type": "code",
   "execution_count": null,
   "id": "2755d129",
   "metadata": {},
   "outputs": [],
   "source": [
    "# Example 4: Using lambda to sort a list of tuples by the second element\n",
    "students = [(\"Alice\", 85), (\"Bob\", 75), (\"Charlie\", 95)]\n",
    "sorted_students = sorted(students, key=lambda student: student[1])\n",
    "print(\"Sorted students by scores:\", sorted_students)\n",
    "# Output: [('Bob', 75), ('Alice', 85), ('Charlie', 95)]"
   ]
  },
  {
   "cell_type": "markdown",
   "id": "ec42c056",
   "metadata": {},
   "source": [
    "## Using Lambda for creating a inline function"
   ]
  },
  {
   "cell_type": "code",
   "execution_count": null,
   "id": "f9d5953b",
   "metadata": {},
   "outputs": [],
   "source": [
    "# Example 5: Using lambda for an inline function to add two numbers\n",
    "add = lambda x, y: x + y\n",
    "print(\"Sum of 3 and 7:\", add(3, 7))  # Output: 10"
   ]
  }
 ],
 "metadata": {
  "language_info": {
   "name": "python"
  }
 },
 "nbformat": 4,
 "nbformat_minor": 5
}

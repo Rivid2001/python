{
 "cells": [
  {
   "cell_type": "code",
   "execution_count": 4,
   "id": "ed13f454",
   "metadata": {},
   "outputs": [
    {
     "name": "stdout",
     "output_type": "stream",
     "text": [
      "Collecting numpy\n",
      "  Downloading numpy-2.1.3-cp311-cp311-win_amd64.whl.metadata (60 kB)\n",
      "Collecting pandas\n",
      "  Downloading pandas-2.2.3-cp311-cp311-win_amd64.whl.metadata (19 kB)\n",
      "Requirement already satisfied: python-dateutil>=2.8.2 in c:\\users\\data scientist\\desktop\\work\\us-genai\\.venv\\lib\\site-packages (from pandas) (2.9.0.post0)\n",
      "Collecting pytz>=2020.1 (from pandas)\n",
      "  Using cached pytz-2024.2-py2.py3-none-any.whl.metadata (22 kB)\n",
      "Collecting tzdata>=2022.7 (from pandas)\n",
      "  Downloading tzdata-2024.2-py2.py3-none-any.whl.metadata (1.4 kB)\n",
      "Requirement already satisfied: six>=1.5 in c:\\users\\data scientist\\desktop\\work\\us-genai\\.venv\\lib\\site-packages (from python-dateutil>=2.8.2->pandas) (1.16.0)\n",
      "Downloading numpy-2.1.3-cp311-cp311-win_amd64.whl (12.9 MB)\n",
      "   ---------------------------------------- 0.0/12.9 MB ? eta -:--:--\n",
      "   ---- ----------------------------------- 1.6/12.9 MB 7.6 MB/s eta 0:00:02\n",
      "   --------- ------------------------------ 3.1/12.9 MB 7.7 MB/s eta 0:00:02\n",
      "   ----------- ---------------------------- 3.7/12.9 MB 6.2 MB/s eta 0:00:02\n",
      "   --------------- ------------------------ 5.0/12.9 MB 5.9 MB/s eta 0:00:02\n",
      "   --------------------- ------------------ 6.8/12.9 MB 6.5 MB/s eta 0:00:01\n",
      "   -------------------------- ------------- 8.4/12.9 MB 6.7 MB/s eta 0:00:01\n",
      "   ------------------------------ --------- 10.0/12.9 MB 6.7 MB/s eta 0:00:01\n",
      "   --------------------------------- ------ 10.7/12.9 MB 6.3 MB/s eta 0:00:01\n",
      "   ----------------------------------- ---- 11.5/12.9 MB 6.1 MB/s eta 0:00:01\n",
      "   -------------------------------------- - 12.3/12.9 MB 5.8 MB/s eta 0:00:01\n",
      "   ---------------------------------------  12.8/12.9 MB 5.6 MB/s eta 0:00:01\n",
      "   ---------------------------------------- 12.9/12.9 MB 5.4 MB/s eta 0:00:00\n",
      "Downloading pandas-2.2.3-cp311-cp311-win_amd64.whl (11.6 MB)\n",
      "   ---------------------------------------- 0.0/11.6 MB ? eta -:--:--\n",
      "   -- ------------------------------------- 0.8/11.6 MB 3.7 MB/s eta 0:00:03\n",
      "   ----- ---------------------------------- 1.6/11.6 MB 4.2 MB/s eta 0:00:03\n",
      "   --------- ------------------------------ 2.6/11.6 MB 4.4 MB/s eta 0:00:03\n",
      "   --------------- ------------------------ 4.5/11.6 MB 5.5 MB/s eta 0:00:02\n",
      "   -------------------- ------------------- 6.0/11.6 MB 5.8 MB/s eta 0:00:01\n",
      "   ----------------------- ---------------- 6.8/11.6 MB 5.4 MB/s eta 0:00:01\n",
      "   ------------------------- -------------- 7.3/11.6 MB 5.1 MB/s eta 0:00:01\n",
      "   ---------------------------- ----------- 8.4/11.6 MB 5.1 MB/s eta 0:00:01\n",
      "   ---------------------------------- ----- 10.0/11.6 MB 5.3 MB/s eta 0:00:01\n",
      "   -------------------------------------- - 11.3/11.6 MB 5.3 MB/s eta 0:00:01\n",
      "   ---------------------------------------- 11.6/11.6 MB 5.2 MB/s eta 0:00:00\n",
      "Using cached pytz-2024.2-py2.py3-none-any.whl (508 kB)\n",
      "Downloading tzdata-2024.2-py2.py3-none-any.whl (346 kB)\n",
      "Installing collected packages: pytz, tzdata, numpy, pandas\n",
      "Successfully installed numpy-2.1.3 pandas-2.2.3 pytz-2024.2 tzdata-2024.2\n",
      "Note: you may need to restart the kernel to use updated packages.\n"
     ]
    }
   ],
   "source": [
    "pip install numpy pandas"
   ]
  },
  {
   "cell_type": "code",
   "execution_count": 1,
   "id": "c1c14864",
   "metadata": {},
   "outputs": [
    {
     "name": "stdout",
     "output_type": "stream",
     "text": [
      "Square root of 16 (math.sqrt): 4.0\n"
     ]
    }
   ],
   "source": [
    "# Example 1: Importing an entire module\n",
    "import math\n",
    "\n",
    "# Using a function from the math module\n",
    "print(\"Square root of 16 (math.sqrt):\", math.sqrt(16))  # Output: 4.0"
   ]
  },
  {
   "cell_type": "code",
   "execution_count": 5,
   "id": "36847b04",
   "metadata": {},
   "outputs": [
    {
     "name": "stdout",
     "output_type": "stream",
     "text": [
      "Square root of 25 (sqrt): 5.0\n",
      "Value of pi: 3.141592653589793\n"
     ]
    }
   ],
   "source": [
    "# Example 2: Importing specific components\n",
    "from math import sqrt, pi\n",
    "\n",
    "# Using imported components\n",
    "print(\"Square root of 25 (sqrt):\", sqrt(25))  # Output: 5.0\n",
    "print(\"Value of pi:\", pi)  # Output: 3.141592653589793"
   ]
  },
  {
   "cell_type": "code",
   "execution_count": 6,
   "id": "0e3af08f",
   "metadata": {},
   "outputs": [
    {
     "name": "stdout",
     "output_type": "stream",
     "text": [
      "Numpy Array: [1 2 3]\n"
     ]
    }
   ],
   "source": [
    "# Example 3: Using an alias for a module\n",
    "import numpy as np\n",
    "\n",
    "# Using numpy with its alias\n",
    "array = np.array([1, 2, 3])\n",
    "print(\"Numpy Array:\", array)  # Output: [1 2 3]"
   ]
  },
  {
   "cell_type": "code",
   "execution_count": 7,
   "id": "2d1590ef",
   "metadata": {},
   "outputs": [
    {
     "name": "stdout",
     "output_type": "stream",
     "text": [
      "Square root of 36 (square_root): 6.0\n"
     ]
    }
   ],
   "source": [
    "# Example 4: Using an alias for a specific function\n",
    "from math import sqrt as square_root\n",
    "\n",
    "# Using the aliased function\n",
    "print(\"Square root of 36 (square_root):\", square_root(36))  # Output: 6.0"
   ]
  },
  {
   "cell_type": "code",
   "execution_count": 8,
   "id": "9054858f",
   "metadata": {},
   "outputs": [
    {
     "name": "stdout",
     "output_type": "stream",
     "text": [
      "Sine of pi/2 (sin): 1.0\n"
     ]
    }
   ],
   "source": [
    "# Example 5: Importing all components (not recommended)\n",
    "from math import *\n",
    "\n",
    "# Using a function from the math module\n",
    "print(\"Sine of pi/2 (sin):\", sin(pi / 2))  # Output: 1.0"
   ]
  },
  {
   "cell_type": "code",
   "execution_count": 9,
   "id": "0efe98e0",
   "metadata": {},
   "outputs": [
    {
     "name": "stdout",
     "output_type": "stream",
     "text": [
      "Pandas DataFrame:\n",
      "    Name  Age\n",
      "0  Alice   25\n",
      "1    Bob   30\n"
     ]
    }
   ],
   "source": [
    "# Example 6: Using external modules (e.g., pandas)\n",
    "# Uncomment the following line if pandas is not installed: pip install pandas\n",
    "import pandas as pd\n",
    "\n",
    "# Using pandas to create a DataFrame\n",
    "data = {'Name': ['Alice', 'Bob'], 'Age': [25, 30]}\n",
    "df = pd.DataFrame(data)\n",
    "print(\"Pandas DataFrame:\")\n",
    "print(df)\n",
    "# Output:\n",
    "#     Name  Age\n",
    "# 0  Alice   25\n",
    "# 1    Bob   30"
   ]
  },
  {
   "cell_type": "code",
   "execution_count": 15,
   "id": "2e43a971",
   "metadata": {},
   "outputs": [],
   "source": [
    "# Example 7: Importing a custom module (Assume mymodule.py exists in the same directory)\n",
    "# Custom module content (mymodule.py):\n",
    "# def greet(name):\n",
    "#     return f\"Hello, {name}!\"\n",
    "\n",
    "# Import the custom module\n",
    "# Uncomment the below code if you have the custom module\n",
    "# import mymodule\n",
    "# print(\"Greeting from custom module (mymodule.greet):\", mymodule.greet(\"Alice\"))  # Output: Hello, Alice!\n",
    "\n",
    "# Importing a specific function from the custom module\n",
    "# Uncomment the below code if you have the custom module\n",
    "# from mymodule import greet\n",
    "# print(\"Greeting from custom module (greet):\", greet(\"Bob\"))  # Output: Hello, Bob!"
   ]
  },
  {
   "cell_type": "code",
   "execution_count": 16,
   "id": "0c5ae3dd",
   "metadata": {},
   "outputs": [],
   "source": [
    "# Example 8: Reloading a module\n",
    "# Uncomment the below code if you are modifying and testing a custom module\n",
    "# from importlib import reload\n",
    "# reload(mymodule)"
   ]
  },
  {
   "cell_type": "code",
   "execution_count": 17,
   "id": "493f5565",
   "metadata": {},
   "outputs": [
    {
     "name": "stdout",
     "output_type": "stream",
     "text": [
      "Random integer between 1 and 10 (random_integer): 6\n"
     ]
    }
   ],
   "source": [
    "# Example 9: Using random module with an alias\n",
    "from random import randint as random_integer\n",
    "\n",
    "# Generating a random integer\n",
    "print(\"Random integer between 1 and 10 (random_integer):\", random_integer(1, 10))"
   ]
  },
  {
   "cell_type": "code",
   "execution_count": 18,
   "id": "3b3602f9",
   "metadata": {},
   "outputs": [
    {
     "name": "stdout",
     "output_type": "stream",
     "text": [
      "Combination of imports example:\n",
      "Value of pi (from math): 3.141592653589793\n",
      "Square root of 49 (from math): 7.0\n",
      "Random integer between 1 and 100 (from random): 59\n"
     ]
    }
   ],
   "source": [
    "# Example 10: Combining various imports\n",
    "print(\"Combination of imports example:\")\n",
    "print(\"Value of pi (from math):\", pi)  # Output: 3.141592653589793\n",
    "print(\"Square root of 49 (from math):\", sqrt(49))  # Output: 7.0\n",
    "print(\"Random integer between 1 and 100 (from random):\", random_integer(1, 100))  # Random"
   ]
  }
 ],
 "metadata": {
  "kernelspec": {
   "display_name": ".venv",
   "language": "python",
   "name": "python3"
  },
  "language_info": {
   "codemirror_mode": {
    "name": "ipython",
    "version": 3
   },
   "file_extension": ".py",
   "mimetype": "text/x-python",
   "name": "python",
   "nbconvert_exporter": "python",
   "pygments_lexer": "ipython3",
   "version": "3.11.9"
  }
 },
 "nbformat": 4,
 "nbformat_minor": 5
}

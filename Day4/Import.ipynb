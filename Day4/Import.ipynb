{
 "cells": [
  {
   "cell_type": "markdown",
   "id": "474aa043",
   "metadata": {},
   "source": [
    "# Introduction to Imports"
   ]
  },
  {
   "cell_type": "code",
   "execution_count": 1,
   "id": "ed13f454",
   "metadata": {},
   "outputs": [
    {
     "name": "stdout",
     "output_type": "stream",
     "text": [
      "Requirement already satisfied: numpy in c:\\users\\data scientist\\desktop\\work\\us-genai\\.venv\\lib\\site-packages (2.1.3)\n",
      "Requirement already satisfied: pandas in c:\\users\\data scientist\\desktop\\work\\us-genai\\.venv\\lib\\site-packages (2.2.3)\n",
      "Requirement already satisfied: python-dateutil>=2.8.2 in c:\\users\\data scientist\\desktop\\work\\us-genai\\.venv\\lib\\site-packages (from pandas) (2.9.0.post0)\n",
      "Requirement already satisfied: pytz>=2020.1 in c:\\users\\data scientist\\desktop\\work\\us-genai\\.venv\\lib\\site-packages (from pandas) (2024.2)\n",
      "Requirement already satisfied: tzdata>=2022.7 in c:\\users\\data scientist\\desktop\\work\\us-genai\\.venv\\lib\\site-packages (from pandas) (2024.2)\n",
      "Requirement already satisfied: six>=1.5 in c:\\users\\data scientist\\desktop\\work\\us-genai\\.venv\\lib\\site-packages (from python-dateutil>=2.8.2->pandas) (1.16.0)\n",
      "Note: you may need to restart the kernel to use updated packages.\n"
     ]
    }
   ],
   "source": [
    "pip install numpy pandas"
   ]
  },
  {
   "cell_type": "markdown",
   "id": "4ce639a0",
   "metadata": {},
   "source": [
    "# Importing Built-in Modules"
   ]
  },
  {
   "cell_type": "code",
   "execution_count": 2,
   "id": "c1c14864",
   "metadata": {},
   "outputs": [
    {
     "name": "stdout",
     "output_type": "stream",
     "text": [
      "Square root of 16 (math.sqrt): 4.0\n"
     ]
    }
   ],
   "source": [
    "# Example 1: Importing an entire module\n",
    "import math\n",
    "\n",
    "# Using a function from the math module\n",
    "print(\"Square root of 16 (math.sqrt):\", math.sqrt(16))  # Output: 4.0"
   ]
  },
  {
   "cell_type": "markdown",
   "id": "2baccb0e",
   "metadata": {},
   "source": [
    "# Using Specific Functions from a Module"
   ]
  },
  {
   "cell_type": "code",
   "execution_count": 3,
   "id": "36847b04",
   "metadata": {},
   "outputs": [
    {
     "name": "stdout",
     "output_type": "stream",
     "text": [
      "Square root of 25 (sqrt): 5.0\n",
      "Value of pi: 3.141592653589793\n"
     ]
    }
   ],
   "source": [
    "# Example 2: Importing specific components\n",
    "from math import sqrt, pi\n",
    "\n",
    "# Using imported components\n",
    "print(\"Square root of 25 (sqrt):\", sqrt(25))  # Output: 5.0\n",
    "print(\"Value of pi:\", pi)  # Output: 3.141592653589793"
   ]
  },
  {
   "cell_type": "markdown",
   "id": "7555760d",
   "metadata": {},
   "source": [
    "# Renaming Imports with Aliases"
   ]
  },
  {
   "cell_type": "code",
   "execution_count": 4,
   "id": "0e3af08f",
   "metadata": {},
   "outputs": [
    {
     "name": "stdout",
     "output_type": "stream",
     "text": [
      "Numpy Array: [1 2 3]\n"
     ]
    }
   ],
   "source": [
    "# Example 3: Using an alias for a module\n",
    "import numpy as np\n",
    "\n",
    "# Using numpy with its alias\n",
    "array = np.array([1, 2, 3])\n",
    "print(\"Numpy Array:\", array)  # Output: [1 2 3]"
   ]
  },
  {
   "cell_type": "markdown",
   "id": "2bc489d2",
   "metadata": {},
   "source": [
    "# Importing Custom Modules"
   ]
  },
  {
   "cell_type": "code",
   "execution_count": 5,
   "id": "2d1590ef",
   "metadata": {},
   "outputs": [
    {
     "name": "stdout",
     "output_type": "stream",
     "text": [
      "Square root of 36 (square_root): 6.0\n"
     ]
    }
   ],
   "source": [
    "# Example 4: Using an alias for a specific function\n",
    "from math import sqrt as square_root\n",
    "\n",
    "# Using the aliased function\n",
    "print(\"Square root of 36 (square_root):\", square_root(36))  # Output: 6.0"
   ]
  },
  {
   "cell_type": "markdown",
   "id": "3f58b29c",
   "metadata": {},
   "source": [
    "# Best Practices for Imports"
   ]
  },
  {
   "cell_type": "code",
   "execution_count": 6,
   "id": "9054858f",
   "metadata": {},
   "outputs": [
    {
     "name": "stdout",
     "output_type": "stream",
     "text": [
      "Sine of pi/2 (sin): 1.0\n"
     ]
    }
   ],
   "source": [
    "# Example 5: Importing all components (not recommended)\n",
    "from math import *\n",
    "\n",
    "# Using a function from the math module\n",
    "print(\"Sine of pi/2 (sin):\", sin(pi / 2))  # Output: 1.0"
   ]
  },
  {
   "cell_type": "code",
   "execution_count": 7,
   "id": "0efe98e0",
   "metadata": {},
   "outputs": [
    {
     "name": "stdout",
     "output_type": "stream",
     "text": [
      "Pandas DataFrame:\n",
      "    Name  Age\n",
      "0  Alice   25\n",
      "1    Bob   30\n"
     ]
    }
   ],
   "source": [
    "# Example 6: Using external modules (e.g., pandas)\n",
    "# Uncomment the following line if pandas is not installed: pip install pandas\n",
    "import pandas as pd\n",
    "\n",
    "# Using pandas to create a DataFrame\n",
    "data = {'Name': ['Alice', 'Bob'], 'Age': [25, 30]}\n",
    "df = pd.DataFrame(data)\n",
    "print(\"Pandas DataFrame:\")\n",
    "print(df)\n",
    "# Output:\n",
    "#     Name  Age\n",
    "# 0  Alice   25\n",
    "# 1    Bob   30"
   ]
  },
  {
   "cell_type": "code",
   "execution_count": 21,
   "id": "2e43a971",
   "metadata": {},
   "outputs": [
    {
     "name": "stdout",
     "output_type": "stream",
     "text": [
      "Greeting from custom module (mymodule.greet): Hello, Alice!\n",
      "Greeting from custom module (greet): Hello, Bob!\n"
     ]
    }
   ],
   "source": [
    "# Import the entire module\n",
    "import mymodule\n",
    "\n",
    "# Call the function from the module\n",
    "print(\"Greeting from custom module (mymodule.greet):\", mymodule.greet(\"Alice\"))  \n",
    "\n",
    "# Import the specific function from the module\n",
    "from mymodule import greet\n",
    "\n",
    "# Call the function directly\n",
    "print(\"Greeting from custom module (greet):\", greet(\"Bob\"))\n"
   ]
  },
  {
   "cell_type": "code",
   "execution_count": 22,
   "id": "0c5ae3dd",
   "metadata": {},
   "outputs": [
    {
     "data": {
      "text/plain": [
       "<module 'mymodule' from 'c:\\\\Users\\\\Data Scientist\\\\Desktop\\\\mymodule.py'>"
      ]
     },
     "execution_count": 22,
     "metadata": {},
     "output_type": "execute_result"
    }
   ],
   "source": [
    "# Example 8: Reloading a module\n",
    "# Uncomment the below code if you are modifying and testing a custom module\n",
    "from importlib import reload\n",
    "reload(mymodule)"
   ]
  },
  {
   "cell_type": "code",
   "execution_count": 10,
   "id": "493f5565",
   "metadata": {},
   "outputs": [
    {
     "name": "stdout",
     "output_type": "stream",
     "text": [
      "Random integer between 1 and 10 (random_integer): 8\n"
     ]
    }
   ],
   "source": [
    "# Example 9: Using random module with an alias\n",
    "from random import randint as random_integer\n",
    "\n",
    "# Generating a random integer\n",
    "print(\"Random integer between 1 and 10 (random_integer):\", random_integer(1, 10))"
   ]
  },
  {
   "cell_type": "code",
   "execution_count": 11,
   "id": "3b3602f9",
   "metadata": {},
   "outputs": [
    {
     "name": "stdout",
     "output_type": "stream",
     "text": [
      "Combination of imports example:\n",
      "Value of pi (from math): 3.141592653589793\n",
      "Square root of 49 (from math): 7.0\n",
      "Random integer between 1 and 100 (from random): 11\n"
     ]
    }
   ],
   "source": [
    "# Example 10: Combining various imports\n",
    "print(\"Combination of imports example:\")\n",
    "print(\"Value of pi (from math):\", pi)  # Output: 3.141592653589793\n",
    "print(\"Square root of 49 (from math):\", sqrt(49))  # Output: 7.0\n",
    "print(\"Random integer between 1 and 100 (from random):\", random_integer(1, 100))  # Random"
   ]
  }
 ],
 "metadata": {
  "kernelspec": {
   "display_name": ".venv",
   "language": "python",
   "name": "python3"
  },
  "language_info": {
   "codemirror_mode": {
    "name": "ipython",
    "version": 3
   },
   "file_extension": ".py",
   "mimetype": "text/x-python",
   "name": "python",
   "nbconvert_exporter": "python",
   "pygments_lexer": "ipython3",
   "version": "3.11.9"
  }
 },
 "nbformat": 4,
 "nbformat_minor": 5
}

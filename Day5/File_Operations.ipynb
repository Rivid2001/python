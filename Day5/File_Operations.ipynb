{
 "cells": [
  {
   "cell_type": "markdown",
   "id": "2e06af7d",
   "metadata": {},
   "source": [
    "# Python File Operations Examples\n",
    "---\n",
    "This notebook demonstrates various file operations in Python. Each example is in a separate cell for clarity.\n"
   ]
  },
  {
   "cell_type": "markdown",
   "id": "3a3f53ac",
   "metadata": {},
   "source": [
    "## 1. Open and Read a File"
   ]
  },
  {
   "cell_type": "code",
   "execution_count": null,
   "id": "a0974182",
   "metadata": {},
   "outputs": [],
   "source": [
    "\n",
    "# Example of reading a file\n",
    "with open('example.txt', 'r') as file:\n",
    "    content = file.read()\n",
    "    print(content)\n"
   ]
  },
  {
   "cell_type": "markdown",
   "id": "f06b984b",
   "metadata": {},
   "source": [
    "## 2. Write to a File"
   ]
  },
  {
   "cell_type": "code",
   "execution_count": null,
   "id": "54373b39",
   "metadata": {},
   "outputs": [],
   "source": [
    "\n",
    "# Example of writing to a file\n",
    "with open('example.txt', 'w') as file:\n",
    "    file.write('This is an example of writing to a file.')\n"
   ]
  },
  {
   "cell_type": "markdown",
   "id": "a490d810",
   "metadata": {},
   "source": [
    "## 3. Append to a File"
   ]
  },
  {
   "cell_type": "code",
   "execution_count": null,
   "id": "bd47a3ca",
   "metadata": {},
   "outputs": [],
   "source": [
    "\n",
    "# Example of appending to a file\n",
    "with open('example.txt', 'a') as file:\n",
    "    file.write('\\nAppending a new line to the file.')\n"
   ]
  },
  {
   "cell_type": "markdown",
   "id": "676555eb",
   "metadata": {},
   "source": [
    "## 4. Read Lines from a File"
   ]
  },
  {
   "cell_type": "code",
   "execution_count": null,
   "id": "ac3a432f",
   "metadata": {},
   "outputs": [],
   "source": [
    "\n",
    "# Example of reading lines from a file\n",
    "with open('example.txt', 'r') as file:\n",
    "    lines = file.readlines()\n",
    "    for line in lines:\n",
    "        print(line.strip())\n"
   ]
  },
  {
   "cell_type": "markdown",
   "id": "a97f4439",
   "metadata": {},
   "source": [
    "## 5. Check if File Exists"
   ]
  },
  {
   "cell_type": "code",
   "execution_count": null,
   "id": "63c47e0e",
   "metadata": {},
   "outputs": [],
   "source": [
    "\n",
    "import os\n",
    "\n",
    "# Example of checking if a file exists\n",
    "file_path = 'example.txt'\n",
    "if os.path.exists(file_path):\n",
    "    print(f\"{file_path} exists.\")\n",
    "else:\n",
    "    print(f\"{file_path} does not exist.\")\n"
   ]
  },
  {
   "cell_type": "markdown",
   "id": "d3e7062e",
   "metadata": {},
   "source": [
    "## 6. Rename a File"
   ]
  },
  {
   "cell_type": "code",
   "execution_count": null,
   "id": "6966c659",
   "metadata": {},
   "outputs": [],
   "source": [
    "\n",
    "# Example of renaming a file\n",
    "import os\n",
    "\n",
    "old_name = 'example.txt'\n",
    "new_name = 'renamed_example.txt'\n",
    "\n",
    "if os.path.exists(old_name):\n",
    "    os.rename(old_name, new_name)\n",
    "    print(f\"Renamed {old_name} to {new_name}.\")\n",
    "else:\n",
    "    print(f\"{old_name} does not exist.\")\n"
   ]
  },
  {
   "cell_type": "markdown",
   "id": "19f2f727",
   "metadata": {},
   "source": [
    "## 7. Delete a File"
   ]
  },
  {
   "cell_type": "code",
   "execution_count": null,
   "id": "2760febd",
   "metadata": {},
   "outputs": [],
   "source": [
    "\n",
    "# Example of deleting a file\n",
    "import os\n",
    "\n",
    "file_to_delete = 'renamed_example.txt'\n",
    "\n",
    "if os.path.exists(file_to_delete):\n",
    "    os.remove(file_to_delete)\n",
    "    print(f\"{file_to_delete} has been deleted.\")\n",
    "else:\n",
    "    print(f\"{file_to_delete} does not exist.\")\n"
   ]
  },
  {
   "cell_type": "markdown",
   "id": "92d85466",
   "metadata": {},
   "source": [
    "## 8. Copy a File"
   ]
  },
  {
   "cell_type": "code",
   "execution_count": null,
   "id": "68b6157e",
   "metadata": {},
   "outputs": [],
   "source": [
    "\n",
    "# Example of copying a file\n",
    "import shutil\n",
    "\n",
    "source = 'example.txt'\n",
    "destination = 'copy_of_example.txt'\n",
    "\n",
    "if os.path.exists(source):\n",
    "    shutil.copy(source, destination)\n",
    "    print(f\"Copied {source} to {destination}.\")\n",
    "else:\n",
    "    print(f\"{source} does not exist.\")\n"
   ]
  }
 ],
 "metadata": {},
 "nbformat": 4,
 "nbformat_minor": 5
}

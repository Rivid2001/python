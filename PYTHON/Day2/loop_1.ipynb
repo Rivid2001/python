{
 "cells": [
  {
   "cell_type": "code",
   "execution_count": null,
   "id": "1ffac38d",
   "metadata": {},
   "outputs": [],
   "source": [
    "# Demonstrating For Loop\n",
    "print(\"For Loop Example:\")\n",
    "fruits = [\"apple\", \"banana\", \"cherry\"]\n",
    "for fruit in fruits:\n",
    "    print(fruit)"
   ]
  },
  {
   "cell_type": "code",
   "execution_count": null,
   "id": "b9925c85",
   "metadata": {},
   "outputs": [],
   "source": [
    "# Demonstrating While Loop\n",
    "print(\"\\nWhile Loop Example:\")\n",
    "count = 0\n",
    "while count < 5:\n",
    "    print(count)\n",
    "    count += 1"
   ]
  },
  {
   "cell_type": "code",
   "execution_count": null,
   "id": "bd963baf",
   "metadata": {},
   "outputs": [],
   "source": [
    "# Demonstrating Break Statement\n",
    "print(\"\\nBreak Statement Example:\")\n",
    "for number in range(10):\n",
    "    if number == 5:\n",
    "        break\n",
    "    print(number)\n",
    "print(\"Loop terminated at number:\", number)"
   ]
  },
  {
   "cell_type": "code",
   "execution_count": null,
   "id": "1f15e8de",
   "metadata": {},
   "outputs": [],
   "source": [
    "# Demonstrating Continue Statement\n",
    "print(\"\\nContinue Statement Example:\")\n",
    "for number in range(10):\n",
    "    if number % 2 == 0:   # Skip even numbers\n",
    "        continue\n",
    "    print(number)\n",
    "print(\"Loop skipped even numbers\")"
   ]
  },
  {
   "cell_type": "code",
   "execution_count": null,
   "id": "237ae4f4",
   "metadata": {},
   "outputs": [],
   "source": [
    "# Demonstrating Range Function with For Loop\n",
    "print(\"\\nRange Function Example:\")\n",
    "for i in range(1, 10, 2):   # Odd numbers from 1 to 9\n",
    "    print(i)"
   ]
  },
  {
   "cell_type": "code",
   "execution_count": null,
   "id": "5b98b8e9",
   "metadata": {},
   "outputs": [],
   "source": [
    "# Demonstrating Nested Loops\n",
    "print(\"\\nNested Loops Example:\")\n",
    "for i in range(1, 4):       # Outer Loop\n",
    "    for j in range(1, 4):   # Inner Loop\n",
    "        print(f\"i: {i}, j: {j}\")"
   ]
  },
  {
   "cell_type": "code",
   "execution_count": null,
   "id": "589c49a0",
   "metadata": {},
   "outputs": [],
   "source": [
    "# Demonstrating Else Clause in For Loop\n",
    "print(\"\\nElse Clause Example:\")\n",
    "for i in range(5):\n",
    "    print(i)\n",
    "else:\n",
    "    print(\"Loop completed without break.\")"
   ]
  }
 ],
 "metadata": {},
 "nbformat": 4,
 "nbformat_minor": 5
}

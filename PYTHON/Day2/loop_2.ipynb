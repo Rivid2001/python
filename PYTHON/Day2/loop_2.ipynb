{
 "cells": [
  {
   "cell_type": "code",
   "execution_count": null,
   "id": "9939b36b",
   "metadata": {},
   "outputs": [],
   "source": [
    "# 1. `for` Loop\n",
    "print(\"For loop example:\")\n",
    "fruits = [\"apple\", \"banana\", \"cherry\"]\n",
    "for fruit in fruits:\n",
    "    print(fruit)"
   ]
  },
  {
   "cell_type": "code",
   "execution_count": null,
   "id": "1bc475f8",
   "metadata": {},
   "outputs": [],
   "source": [
    "# 2. `while` Loop\n",
    "print(\"\\nWhile loop example:\")\n",
    "count = 0\n",
    "while count < 3:\n",
    "    print(f\"Count is {count}\")\n",
    "    count += 1"
   ]
  },
  {
   "cell_type": "code",
   "execution_count": null,
   "id": "583acc8a",
   "metadata": {},
   "outputs": [],
   "source": [
    "# 3. Using `break`\n",
    "print(\"\\nUsing `break` in a loop:\")\n",
    "for i in range(10):\n",
    "    if i == 5:\n",
    "        break\n",
    "    print(i)"
   ]
  },
  {
   "cell_type": "code",
   "execution_count": null,
   "id": "3726f747",
   "metadata": {},
   "outputs": [],
   "source": [
    "# 4. Using `continue`\n",
    "print(\"\\nUsing `continue` in a loop:\")\n",
    "for i in range(10):\n",
    "    if i % 2 == 0:\n",
    "        continue\n",
    "    print(i)"
   ]
  },
  {
   "cell_type": "code",
   "execution_count": null,
   "id": "1dab3ae6",
   "metadata": {},
   "outputs": [],
   "source": [
    "# 5. Nested Loops\n",
    "print(\"\\nNested loops example:\")\n",
    "for i in range(3):\n",
    "    for j in range(3):\n",
    "        print(f\"i={i}, j={j}\")"
   ]
  },
  {
   "cell_type": "code",
   "execution_count": null,
   "id": "70960e15",
   "metadata": {},
   "outputs": [],
   "source": [
    "# 6. Looping through a dictionary\n",
    "print(\"\\nLooping through a dictionary:\")\n",
    "person = {\"name\": \"Alice\", \"age\": 25, \"city\": \"New York\"}\n",
    "for key, value in person.items():\n",
    "    print(f\"{key}: {value}\")"
   ]
  },
  {
   "cell_type": "code",
   "execution_count": null,
   "id": "bc9b36ed",
   "metadata": {},
   "outputs": [],
   "source": [
    "# 7. Using `else` with a loop\n",
    "print(\"\\nUsing `else` with a loop:\")\n",
    "for i in range(5):\n",
    "    print(i)\n",
    "else:\n",
    "    print(\"Loop finished successfully!\")"
   ]
  },
  {
   "cell_type": "code",
   "execution_count": null,
   "id": "2fd65be7",
   "metadata": {},
   "outputs": [],
   "source": [
    "# 8. Infinite Loop (with `break` to stop it)\n",
    "print(\"\\nInfinite loop example:\")\n",
    "count = 0\n",
    "while True:\n",
    "    print(f\"Infinite Loop, Count = {count}\")\n",
    "    count += 1\n",
    "    if count == 3:\n",
    "        break  # Exit the loop"
   ]
  },
  {
   "cell_type": "code",
   "execution_count": null,
   "id": "a458e5b2",
   "metadata": {},
   "outputs": [],
   "source": [
    "# 9. Looping through a string\n",
    "print(\"\\nLooping through a string:\")\n",
    "for char in \"Python\":\n",
    "    print(char)"
   ]
  },
  {
   "cell_type": "code",
   "execution_count": null,
   "id": "10a5b679",
   "metadata": {},
   "outputs": [],
   "source": [
    "# 10. Using `pass` as a placeholder\n",
    "print(\"\\nUsing `pass` in a loop:\")\n",
    "for i in range(5):\n",
    "    if i == 2:\n",
    "        pass  # Placeholder\n",
    "    print(i)"
   ]
  }
 ],
 "metadata": {},
 "nbformat": 4,
 "nbformat_minor": 5
}
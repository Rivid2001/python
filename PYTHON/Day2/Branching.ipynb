{
 "cells": [
  {
   "cell_type": "code",
   "execution_count": null,
   "id": "5c1e06c2",
   "metadata": {},
   "outputs": [],
   "source": [
    "\n",
    "# 1. Simple `if` Statement\n",
    "temperature = 30\n",
    "if temperature > 25:\n",
    "    print(\"It's hot outside!\")\n"
   ]
  },
  {
   "cell_type": "code",
   "execution_count": null,
   "id": "ddeaa30f",
   "metadata": {},
   "outputs": [],
   "source": [
    "\n",
    "# 2. `if-else` Statement\n",
    "number = 10\n",
    "if number % 2 == 0:\n",
    "    print(\"Even number\")\n",
    "else:\n",
    "    print(\"Odd number\")\n"
   ]
  },
  {
   "cell_type": "code",
   "execution_count": null,
   "id": "e06f8519",
   "metadata": {},
   "outputs": [],
   "source": [
    "\n",
    "# 3. `if-elif-else` Statement\n",
    "marks = 85\n",
    "if marks >= 90:\n",
    "    print(\"Grade: A\")\n",
    "elif marks >= 80:\n",
    "    print(\"Grade: B\")\n",
    "elif marks >= 70:\n",
    "    print(\"Grade: C\")\n",
    "else:\n",
    "    print(\"Grade: F\")\n"
   ]
  },
  {
   "cell_type": "code",
   "execution_count": null,
   "id": "af217d12",
   "metadata": {},
   "outputs": [],
   "source": [
    "\n",
    "# 4. Nested `if` Statements\n",
    "age = 20\n",
    "citizen = True\n",
    "if age >= 18:\n",
    "    if citizen:\n",
    "        print(\"You are eligible to vote.\")\n",
    "    else:\n",
    "        print(\"You need to be a citizen to vote.\")\n",
    "else:\n",
    "    print(\"You are not old enough to vote.\")\n"
   ]
  },
  {
   "cell_type": "code",
   "execution_count": null,
   "id": "17a3cd11",
   "metadata": {},
   "outputs": [],
   "source": [
    "\n",
    "# 5. One-Line Branching\n",
    "x = -5\n",
    "result = \"Positive\" if x > 0 else \"Negative\"\n",
    "print(f\"x is {result}\")\n"
   ]
  },
  {
   "cell_type": "code",
   "execution_count": null,
   "id": "9651fbe9",
   "metadata": {},
   "outputs": [],
   "source": [
    "\n",
    "# 6. Logical Operators in Branching\n",
    "is_registered = True\n",
    "if age >= 18 and is_registered:\n",
    "    print(\"You can vote.\")\n",
    "else:\n",
    "    print(\"You cannot vote.\")\n"
   ]
  },
  {
   "cell_type": "code",
   "execution_count": null,
   "id": "c353536b",
   "metadata": {},
   "outputs": [],
   "source": [
    "\n",
    "# 7. Real-World Example: Traffic Light\n",
    "traffic_light = \"red\"\n",
    "if traffic_light == \"green\":\n",
    "    print(\"Go!\")\n",
    "elif traffic_light == \"yellow\":\n",
    "    print(\"Slow down!\")\n",
    "elif traffic_light == \"red\":\n",
    "    print(\"Stop!\")\n",
    "else:\n",
    "    print(\"Invalid traffic light signal.\")\n"
   ]
  },
  {
   "cell_type": "code",
   "execution_count": null,
   "id": "9a2201cf",
   "metadata": {},
   "outputs": [],
   "source": [
    "\n",
    "# 8. Error Handling Using Branching\n",
    "try:\n",
    "    number = int(input(\"Enter a number: \"))\n",
    "    if number > 0:\n",
    "        print(\"You entered a positive number.\")\n",
    "    elif number < 0:\n",
    "        print(\"You entered a negative number.\")\n",
    "    else:\n",
    "        print(\"You entered zero.\")\n",
    "except ValueError:\n",
    "    print(\"That's not a valid number!\")\n"
   ]
  }
 ],
 "metadata": {},
 "nbformat": 4,
 "nbformat_minor": 5
}

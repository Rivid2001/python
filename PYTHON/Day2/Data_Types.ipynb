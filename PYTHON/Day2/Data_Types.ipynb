{
 "cells": [
  {
   "cell_type": "code",
   "execution_count": null,
   "id": "23ab597b",
   "metadata": {},
   "outputs": [],
   "source": [
    "\n",
    "# Numeric Types\n",
    "x = 42  # int\n",
    "y = 3.14159  # float\n",
    "z = 1 + 2j  # complex\n",
    "print(f\"Integer: {x}, Float: {y}, Complex: {z}\")\n"
   ]
  },
  {
   "cell_type": "code",
   "execution_count": null,
   "id": "89fb4000",
   "metadata": {},
   "outputs": [],
   "source": [
    "\n",
    "# Sequence Types\n",
    "text = \"Hello, Python!\"  # str\n",
    "fruits = [\"apple\", \"banana\", \"cherry\"]  # list\n",
    "coordinates = (10, 20, 30)  # tuple\n",
    "numbers = range(1, 5)  # range\n",
    "print(f\"String: {text}, List: {fruits}, Tuple: {coordinates}, Range: {list(numbers)}\")\n"
   ]
  },
  {
   "cell_type": "code",
   "execution_count": null,
   "id": "219223d6",
   "metadata": {},
   "outputs": [],
   "source": [
    "\n",
    "# Set Types\n",
    "unique_numbers = {1, 2, 3, 4}  # set\n",
    "frozen_set = frozenset([1, 2, 3, 4])  # frozenset\n",
    "print(f\"Set: {unique_numbers}, Frozen Set: {frozen_set}\")\n"
   ]
  },
  {
   "cell_type": "code",
   "execution_count": null,
   "id": "68f3ca48",
   "metadata": {},
   "outputs": [],
   "source": [
    "\n",
    "# Mapping Type\n",
    "person = {\"name\": \"Alice\", \"age\": 25}  # dict\n",
    "print(f\"Dictionary: {person}\")\n"
   ]
  },
  {
   "cell_type": "code",
   "execution_count": null,
   "id": "08f89207",
   "metadata": {},
   "outputs": [],
   "source": [
    "\n",
    "# Binary Types\n",
    "byte_data = b\"Hello\"  # bytes\n",
    "mutable_bytes = bytearray(b\"World\")  # bytearray\n",
    "mem_view = memoryview(byte_data)  # memoryview\n",
    "print(f\"Bytes: {byte_data}, Bytearray: {mutable_bytes}, Memoryview: {mem_view.tobytes()}\")\n"
   ]
  },
  {
   "cell_type": "code",
   "execution_count": null,
   "id": "b1a19c80",
   "metadata": {},
   "outputs": [],
   "source": [
    "\n",
    "# Boolean Type\n",
    "is_valid = True\n",
    "is_expired = False\n",
    "print(f\"Boolean: {is_valid}, {is_expired}\")\n"
   ]
  },
  {
   "cell_type": "code",
   "execution_count": null,
   "id": "cf0a037e",
   "metadata": {},
   "outputs": [],
   "source": [
    "\n",
    "# None Type\n",
    "value = None\n",
    "print(f\"None Type: {value}\")\n"
   ]
  }
 ],
 "metadata": {},
 "nbformat": 4,
 "nbformat_minor": 5
}

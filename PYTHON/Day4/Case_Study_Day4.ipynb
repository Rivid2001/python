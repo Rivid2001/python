{
 "cells": [
  {
   "cell_type": "markdown",
   "metadata": {},
   "source": [
    "## Python script to analyze Customer Survey Data"
   ]
  },
  {
   "cell_type": "code",
   "execution_count": 3,
   "metadata": {},
   "outputs": [
    {
     "name": "stdout",
     "output_type": "stream",
     "text": [
      "Customer Survey Analysis:\n",
      "Mean Rating: 4\n",
      "Median Rating: 4.0\n",
      "Mode Rating: 5\n"
     ]
    }
   ],
   "source": [
    "# Import the statistics module for analysis\n",
    "import statistics\n",
    "\n",
    "# Example customer survey data (ratings out of 5)\n",
    "customer_ratings = [4, 5, 3, 5, 4, 3, 5, 2, 4, 5]\n",
    "\n",
    "# Analyze the data\n",
    "mean_rating = statistics.mean(customer_ratings)  # Calculate mean\n",
    "median_rating = statistics.median(customer_ratings)  # Calculate median\n",
    "mode_rating = statistics.mode(customer_ratings)  # Calculate mode\n",
    "\n",
    "# Display the results\n",
    "print(\"Customer Survey Analysis:\")\n",
    "print(f\"Mean Rating: {mean_rating}\")\n",
    "print(f\"Median Rating: {median_rating}\")\n",
    "print(f\"Mode Rating: {mode_rating}\")"
   ]
  }
 ],
 "metadata": {
  "kernelspec": {
   "display_name": "Python 3",
   "language": "python",
   "name": "python3"
  },
  "language_info": {
   "codemirror_mode": {
    "name": "ipython",
    "version": 3
   },
   "file_extension": ".py",
   "mimetype": "text/x-python",
   "name": "python",
   "nbconvert_exporter": "python",
   "pygments_lexer": "ipython3",
   "version": "3.11.9"
  }
 },
 "nbformat": 4,
 "nbformat_minor": 2
}

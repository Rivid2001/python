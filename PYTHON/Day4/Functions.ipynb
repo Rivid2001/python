{
 "cells": [
  {
   "cell_type": "markdown",
   "id": "0176633d",
   "metadata": {},
   "source": [
    "## 1. # 2. Creating a simple Function that takes a string as a input value"
   ]
  },
  {
   "cell_type": "code",
   "execution_count": 2,
   "id": "2ed84022",
   "metadata": {},
   "outputs": [
    {
     "name": "stdout",
     "output_type": "stream",
     "text": [
      "Hello, Alice!\n"
     ]
    }
   ],
   "source": [
    "# 1. Simple Function\n",
    "def greet(name):\n",
    "    \"\"\"\n",
    "    Returns a greeting message.\n",
    "\n",
    "    Parameters:\n",
    "    name (str): The name of the person to greet.\n",
    "\n",
    "    Returns:\n",
    "    str: A greeting message.\n",
    "    \"\"\"\n",
    "    return f\"Hello, {name}!\"\n",
    "\n",
    "# Example usage\n",
    "print(greet(\"Alice\"))  # Output: Hello, Alice!\n"
   ]
  },
  {
   "cell_type": "markdown",
   "id": "db19ed39",
   "metadata": {},
   "source": [
    "## 2. Creating a Function that atkes parameters as input values"
   ]
  },
  {
   "cell_type": "code",
   "execution_count": 3,
   "id": "c2ef042f",
   "metadata": {},
   "outputs": [
    {
     "name": "stdout",
     "output_type": "stream",
     "text": [
      "8\n"
     ]
    }
   ],
   "source": [
    "# 2. Function with Parameters\n",
    "def add_numbers(a, b):\n",
    "    \"\"\"\n",
    "    Adds two numbers.\n",
    "\n",
    "    Parameters:\n",
    "    a (int or float): The first number.\n",
    "    b (int or float): The second number.\n",
    "\n",
    "    Returns:\n",
    "    int or float: The sum of the two numbers.\n",
    "    \"\"\"\n",
    "    return a + b\n",
    "\n",
    "# Example usage\n",
    "print(add_numbers(3, 5))  # Output: 8\n"
   ]
  },
  {
   "cell_type": "markdown",
   "id": "ab929d6c",
   "metadata": {},
   "source": [
    "## 3. Creating a Function that takes default parameters as input values"
   ]
  },
  {
   "cell_type": "code",
   "execution_count": 4,
   "id": "b17eff36",
   "metadata": {},
   "outputs": [
    {
     "name": "stdout",
     "output_type": "stream",
     "text": [
      "Hello, Guest!\n",
      "Hello, Alice!\n"
     ]
    }
   ],
   "source": [
    "# 3. Function with Default Parameters\n",
    "def greet_with_default(name=\"Guest\"):\n",
    "    \"\"\"\n",
    "    Returns a greeting message with a default name.\n",
    "\n",
    "    Parameters:\n",
    "    name (str): The name of the person to greet. Defaults to \"Guest\".\n",
    "\n",
    "    Returns:\n",
    "    str: A greeting message.\n",
    "    \"\"\"\n",
    "    return f\"Hello, {name}!\"\n",
    "\n",
    "# Example usage\n",
    "print(greet_with_default())         # Output: Hello, Guest!\n",
    "print(greet_with_default(\"Alice\"))  # Output: Hello, Alice!\n"
   ]
  },
  {
   "cell_type": "markdown",
   "id": "64eedc69",
   "metadata": {},
   "source": [
    "## 4. Creating a Function that does take any number of Parameters "
   ]
  },
  {
   "cell_type": "code",
   "execution_count": 5,
   "id": "7f4821e5",
   "metadata": {},
   "outputs": [
    {
     "name": "stdout",
     "output_type": "stream",
     "text": [
      "10\n"
     ]
    }
   ],
   "source": [
    "# 4. Function with Variable-Length Arguments (*args)\n",
    "def add_all(*args):\n",
    "    \"\"\"\n",
    "    Adds all the numbers provided as arguments.\n",
    "\n",
    "    Parameters:\n",
    "    *args (int or float): A variable-length list of numbers.\n",
    "    * is used to collect positional arguments (e.g., *args). Useful when you don't know how many arguments will be passed to the function.\n",
    "    ** is used to collect keyword arguments, which are arguments passed as key-value pairs (e.g., name='John'). Useful as a dictionary\n",
    "\n",
    "    Returns:\n",
    "    int or float: The sum of all the numbers.\n",
    "    \"\"\"\n",
    "    return sum(args)\n",
    "\n",
    "# Example usage\n",
    "print(add_all(1, 2, 3, 4))  # Output: 10\n"
   ]
  },
  {
   "cell_type": "markdown",
   "id": "d264247f",
   "metadata": {},
   "source": [
    "## 5. Creating a Function that take key and vallue pairs as parameters (Dictionary)"
   ]
  },
  {
   "cell_type": "code",
   "execution_count": 6,
   "id": "e86708c4",
   "metadata": {},
   "outputs": [
    {
     "name": "stdout",
     "output_type": "stream",
     "text": [
      "name: Alice\n",
      "age: 30\n"
     ]
    }
   ],
   "source": [
    "# 5. Function with Variable-Length Keyword Arguments (**kwargs)\n",
    "def display_info(**kwargs):\n",
    "    \"\"\"\n",
    "    Displays information provided as keyword arguments.\n",
    "\n",
    "    Parameters:\n",
    "    The name kwargs is a convention and stands for \"keyword arguments.\n",
    "    * is used to collect positional arguments (e.g., *args). Useful when you don't know how many arguments will be passed to the function.\n",
    "    ** is used to collect keyword arguments, which are arguments passed as key-value pairs (e.g., name='John'). Useful as a dictionary\n",
    "    \n",
    "    Returns:\n",
    "    None\n",
    "    \"\"\"\n",
    "    for key, value in kwargs.items():\n",
    "        print(f\"{key}: {value}\")\n",
    "\n",
    "# Example usage\n",
    "display_info(name=\"Alice\", age=30)\n",
    "# Output:\n",
    "# name: Alice\n",
    "# age: 30\n"
   ]
  },
  {
   "cell_type": "markdown",
   "id": "93b32b73",
   "metadata": {},
   "source": [
    "## 6. Creating a Function that does not take any Parameters"
   ]
  },
  {
   "cell_type": "code",
   "execution_count": 7,
   "id": "8fce402e",
   "metadata": {},
   "outputs": [
    {
     "name": "stdout",
     "output_type": "stream",
     "text": [
      "Hello!\n"
     ]
    }
   ],
   "source": [
    "# 6. Function with No Parameters\n",
    "def say_hello():\n",
    "    \"\"\"\n",
    "    Returns a simple greeting.\n",
    "\n",
    "    Returns:\n",
    "    str: A greeting message.\n",
    "    \"\"\"\n",
    "    return \"Hello!\"\n",
    "\n",
    "# Example usage\n",
    "print(say_hello())  # Output: Hello!\n"
   ]
  },
  {
   "cell_type": "markdown",
   "id": "36460871",
   "metadata": {},
   "source": [
    "## 7. Creating a Function that has a Return Statement"
   ]
  },
  {
   "cell_type": "code",
   "execution_count": 8,
   "id": "8ca4f7cc",
   "metadata": {},
   "outputs": [
    {
     "name": "stdout",
     "output_type": "stream",
     "text": [
      "12\n"
     ]
    }
   ],
   "source": [
    "# 7. Function with a Return Statement\n",
    "def multiply(a, b):\n",
    "    \"\"\"\n",
    "    Multiplies two numbers.\n",
    "\n",
    "    Parameters:\n",
    "    a (int or float): The first number.\n",
    "    b (int or float): The second number.\n",
    "\n",
    "    Returns:\n",
    "    int or float: The product of the two numbers.\n",
    "    \"\"\"\n",
    "    return a * b\n",
    "\n",
    "# Example usage\n",
    "result = multiply(3, 4)\n",
    "print(result)  # Output: 12\n"
   ]
  },
  {
   "cell_type": "markdown",
   "id": "7f57e397",
   "metadata": {},
   "source": [
    "## 8. Creating a Lambda Function (Anonymous Function)"
   ]
  },
  {
   "cell_type": "code",
   "execution_count": 9,
   "id": "ec01316d",
   "metadata": {},
   "outputs": [
    {
     "name": "stdout",
     "output_type": "stream",
     "text": [
      "25\n"
     ]
    }
   ],
   "source": [
    "# 8. Lambda Function (Anonymous Function)\n",
    "square = lambda x: x ** 2\n",
    "\"\"\"\n",
    "An anonymous function that calculates the square of a number.\n",
    "\n",
    "Parameters:\n",
    "x (int or float): The number to square.\n",
    "\n",
    "Returns:\n",
    "int or float: The square of the input number.\n",
    "\"\"\"\n",
    "print(square(5))  # Output: 25\n"
   ]
  }
 ],
 "metadata": {
  "kernelspec": {
   "display_name": "Python 3",
   "language": "python",
   "name": "python3"
  },
  "language_info": {
   "codemirror_mode": {
    "name": "ipython",
    "version": 3
   },
   "file_extension": ".py",
   "mimetype": "text/x-python",
   "name": "python",
   "nbconvert_exporter": "python",
   "pygments_lexer": "ipython3",
   "version": "3.11.9"
  }
 },
 "nbformat": 4,
 "nbformat_minor": 5
}

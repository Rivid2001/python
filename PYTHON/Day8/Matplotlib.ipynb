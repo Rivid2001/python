{
 "cells": [
  {
   "cell_type": "code",
   "execution_count": null,
   "id": "adab356a",
   "metadata": {
    "description": "A simple line plot to show trends.",
    "title": "1. Line Plot"
   },
   "outputs": [],
   "source": [
    "\n",
    "import matplotlib.pyplot as plt\n",
    "x = [0, 1, 2, 3, 4]\n",
    "y = [0, 1, 4, 9, 16]\n",
    "plt.plot(x, y, marker='o', label='y=x^2')\n",
    "plt.title('Line Plot Example')\n",
    "plt.xlabel('X-axis')\n",
    "plt.ylabel('Y-axis')\n",
    "plt.legend()\n",
    "plt.grid(True)\n",
    "plt.show()\n"
   ]
  },
  {
   "cell_type": "code",
   "execution_count": null,
   "id": "bd54ebfe",
   "metadata": {
    "description": "A scatter plot to show relationships between data points.",
    "title": "2. Scatter Plot"
   },
   "outputs": [],
   "source": [
    "\n",
    "import matplotlib.pyplot as plt\n",
    "import numpy as np\n",
    "x = np.random.rand(50)\n",
    "y = np.random.rand(50)\n",
    "plt.scatter(x, y, color='purple', alpha=0.7)\n",
    "plt.title('Scatter Plot Example')\n",
    "plt.xlabel('Random X')\n",
    "plt.ylabel('Random Y')\n",
    "plt.grid(True)\n",
    "plt.show()\n"
   ]
  },
  {
   "cell_type": "code",
   "execution_count": null,
   "id": "d769216a",
   "metadata": {
    "description": "A bar chart to compare categories.",
    "title": "3. Bar Chart"
   },
   "outputs": [],
   "source": [
    "\n",
    "import matplotlib.pyplot as plt\n",
    "categories = ['A', 'B', 'C', 'D']\n",
    "values = [5, 7, 3, 8]\n",
    "plt.bar(categories, values, color='blue', alpha=0.7)\n",
    "plt.title('Bar Chart Example')\n",
    "plt.xlabel('Categories')\n",
    "plt.ylabel('Values')\n",
    "plt.grid(axis='y', linestyle='--', alpha=0.7)\n",
    "plt.show()\n"
   ]
  },
  {
   "cell_type": "code",
   "execution_count": null,
   "id": "c053b540",
   "metadata": {
    "description": "A histogram to show the distribution of data.",
    "title": "4. Histogram"
   },
   "outputs": [],
   "source": [
    "\n",
    "import matplotlib.pyplot as plt\n",
    "import numpy as np\n",
    "data = np.random.randn(1000)\n",
    "plt.hist(data, bins=30, color='green', alpha=0.7)\n",
    "plt.title('Histogram Example')\n",
    "plt.xlabel('Bins')\n",
    "plt.ylabel('Frequency')\n",
    "plt.grid(axis='y', linestyle='--', alpha=0.7)\n",
    "plt.show()\n"
   ]
  },
  {
   "cell_type": "code",
   "execution_count": null,
   "id": "4750b9b4",
   "metadata": {
    "description": "A pie chart to represent proportions.",
    "title": "5. Pie Chart"
   },
   "outputs": [],
   "source": [
    "\n",
    "import matplotlib.pyplot as plt\n",
    "sizes = [25, 30, 20, 25]\n",
    "labels = ['Category A', 'Category B', 'Category C', 'Category D']\n",
    "colors = ['gold', 'lightblue', 'lightgreen', 'pink']\n",
    "plt.pie(sizes, labels=labels, colors=colors, autopct='%1.1f%%', startangle=140)\n",
    "plt.title('Pie Chart Example')\n",
    "plt.show()\n"
   ]
  },
  {
   "cell_type": "code",
   "execution_count": null,
   "id": "e3055931",
   "metadata": {
    "description": "A heatmap to show correlations or intensities.",
    "title": "6. Heatmap"
   },
   "outputs": [],
   "source": [
    "\n",
    "import matplotlib.pyplot as plt\n",
    "import numpy as np\n",
    "data = np.random.rand(10, 10)\n",
    "plt.imshow(data, cmap='viridis', interpolation='nearest')\n",
    "plt.title('Heatmap Example')\n",
    "plt.colorbar()\n",
    "plt.show()\n"
   ]
  },
  {
   "cell_type": "code",
   "execution_count": null,
   "id": "c5f4a59e",
   "metadata": {
    "description": "A 3D surface plot to represent data in three dimensions.",
    "title": "7. 3D Plot"
   },
   "outputs": [],
   "source": [
    "\n",
    "from mpl_toolkits.mplot3d import Axes3D\n",
    "import matplotlib.pyplot as plt\n",
    "import numpy as np\n",
    "\n",
    "fig = plt.figure()\n",
    "ax = fig.add_subplot(111, projection='3d')\n",
    "x = np.linspace(-5, 5, 100)\n",
    "y = np.linspace(-5, 5, 100)\n",
    "x, y = np.meshgrid(x, y)\n",
    "z = np.sin(np.sqrt(x**2 + y**2))\n",
    "ax.plot_surface(x, y, z, cmap='plasma')\n",
    "plt.title('3D Plot Example')\n",
    "plt.show()\n"
   ]
  }
 ],
 "metadata": {},
 "nbformat": 4,
 "nbformat_minor": 5
}
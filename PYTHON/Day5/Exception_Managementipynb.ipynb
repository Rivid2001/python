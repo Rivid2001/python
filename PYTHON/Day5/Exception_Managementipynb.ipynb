{
 "cells": [
  {
   "cell_type": "markdown",
   "id": "2e61d4c9",
   "metadata": {},
   "source": [
    "# Python Exception Management"
   ]
  },
  {
   "cell_type": "markdown",
   "id": "c533dab1",
   "metadata": {},
   "source": [
    "This notebook provides examples of exception management in Python. Each example is presented in a separate cell for clarity."
   ]
  },
  {
   "cell_type": "markdown",
   "id": "1a4cd871",
   "metadata": {},
   "source": [
    "## 1. Basic try-except block"
   ]
  },
  {
   "cell_type": "code",
   "execution_count": null,
   "id": "21045512",
   "metadata": {},
   "outputs": [],
   "source": [
    "\n",
    "try:\n",
    "    x = 10 / 0\n",
    "except ZeroDivisionError as e:\n",
    "    print(\"Caught an exception:\", e)\n"
   ]
  },
  {
   "cell_type": "markdown",
   "id": "3686d84d",
   "metadata": {},
   "source": [
    "## 2. Catching multiple exceptions"
   ]
  },
  {
   "cell_type": "code",
   "execution_count": null,
   "id": "09c25d78",
   "metadata": {},
   "outputs": [],
   "source": [
    "\n",
    "try:\n",
    "    x = int(\"not a number\")\n",
    "except (ValueError, TypeError) as e:\n",
    "    print(\"Caught an exception:\", e)\n"
   ]
  },
  {
   "cell_type": "markdown",
   "id": "c803444d",
   "metadata": {},
   "source": [
    "## 3. Using finally block"
   ]
  },
  {
   "cell_type": "code",
   "execution_count": null,
   "id": "e76a5789",
   "metadata": {},
   "outputs": [],
   "source": [
    "\n",
    "try:\n",
    "    print(\"Trying to open a file...\")\n",
    "    file = open(\"non_existent_file.txt\", \"r\")\n",
    "except FileNotFoundError as e:\n",
    "    print(\"Caught an exception:\", e)\n",
    "finally:\n",
    "    print(\"This block always executes, even if there is an exception.\")\n"
   ]
  },
  {
   "cell_type": "markdown",
   "id": "03c04f21",
   "metadata": {},
   "source": [
    "## 4. Using else with try"
   ]
  },
  {
   "cell_type": "code",
   "execution_count": null,
   "id": "3481803e",
   "metadata": {},
   "outputs": [],
   "source": [
    "\n",
    "try:\n",
    "    x = 10 / 2\n",
    "except ZeroDivisionError as e:\n",
    "    print(\"Caught an exception:\", e)\n",
    "else:\n",
    "    print(\"No exceptions occurred. The result is:\", x)\n"
   ]
  },
  {
   "cell_type": "markdown",
   "id": "da3be539",
   "metadata": {},
   "source": [
    "## 5. Raising exceptions"
   ]
  },
  {
   "cell_type": "code",
   "execution_count": null,
   "id": "3323b3e9",
   "metadata": {},
   "outputs": [],
   "source": [
    "\n",
    "try:\n",
    "    raise ValueError(\"This is a custom exception\")\n",
    "except ValueError as e:\n",
    "    print(\"Caught an exception:\", e)\n"
   ]
  },
  {
   "cell_type": "markdown",
   "id": "e67d0073",
   "metadata": {},
   "source": [
    "## 6. Custom exception classes"
   ]
  },
  {
   "cell_type": "code",
   "execution_count": null,
   "id": "a0df1153",
   "metadata": {},
   "outputs": [],
   "source": [
    "\n",
    "class CustomException(Exception):\n",
    "    pass\n",
    "\n",
    "try:\n",
    "    raise CustomException(\"This is a custom-defined exception\")\n",
    "except CustomException as e:\n",
    "    print(\"Caught an exception:\", e)\n"
   ]
  },
  {
   "cell_type": "markdown",
   "id": "f09acf1e",
   "metadata": {},
   "source": [
    "## 7. Nested try-except blocks"
   ]
  },
  {
   "cell_type": "code",
   "execution_count": null,
   "id": "85777a36",
   "metadata": {},
   "outputs": [],
   "source": [
    "\n",
    "try:\n",
    "    try:\n",
    "        x = 10 / 0\n",
    "    except ZeroDivisionError as e:\n",
    "        print(\"Inner exception caught:\", e)\n",
    "        raise ValueError(\"ValueError raised after ZeroDivisionError\")\n",
    "except ValueError as e:\n",
    "    print(\"Outer exception caught:\", e)\n"
   ]
  },
  {
   "cell_type": "markdown",
   "id": "ec1359b3",
   "metadata": {},
   "source": [
    "## 8. Logging exceptions"
   ]
  },
  {
   "cell_type": "code",
   "execution_count": null,
   "id": "46dcaf69",
   "metadata": {},
   "outputs": [],
   "source": [
    "\n",
    "import logging\n",
    "\n",
    "logging.basicConfig(level=logging.ERROR)\n",
    "\n",
    "try:\n",
    "    x = 10 / 0\n",
    "except ZeroDivisionError as e:\n",
    "    logging.error(\"Caught an exception\", exc_info=True)\n"
   ]
  },
  {
   "cell_type": "markdown",
   "id": "25b831d5",
   "metadata": {},
   "source": [
    "## 9. Suppressing exceptions with contextlib"
   ]
  },
  {
   "cell_type": "code",
   "execution_count": null,
   "id": "77f6f74d",
   "metadata": {},
   "outputs": [],
   "source": [
    "\n",
    "from contextlib import suppress\n",
    "\n",
    "with suppress(ZeroDivisionError):\n",
    "    x = 10 / 0\n",
    "    print(\"This line will not execute due to suppression.\")\n",
    "print(\"Program continues...\")\n"
   ]
  }
 ],
 "metadata": {},
 "nbformat": 4,
 "nbformat_minor": 5
}

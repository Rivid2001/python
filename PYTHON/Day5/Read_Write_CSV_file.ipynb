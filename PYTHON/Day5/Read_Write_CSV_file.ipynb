{
  "cells": [
    {
      "cell_type": "markdown",
      "metadata": {},
      "source": [
        "# Reading and Writing CSV Files with Python\n\nThis notebook demonstrates how to read and write CSV files using Python. Each example is in a separate cell."
      ]
    },
    {
      "cell_type": "code",
      "execution_count": null,
      "metadata": {},
      "outputs": [],
      "source": [
        "import pandas as pd\n\n# Example CSV data\ncsv_data = 'Name,Age,City\\nAlice,25,New York\\nBob,30,Los Angeles\\nCharlie,35,Chicago'\n\n# Write CSV data to a file\nwith open('example.csv', 'w') as file:\n    file.write(csv_data)\n\nprint(\"CSV file 'example.csv' created with example data.\")"
      ]
    },
    {
      "cell_type": "markdown",
      "metadata": {},
      "source": [
        "## Reading a CSV File"
      ]
    },
    {
      "cell_type": "code",
      "execution_count": null,
      "metadata": {},
      "outputs": [],
      "source": [
        "# Read the CSV file\nread_data = pd.read_csv('example.csv')\nprint(\"CSV file read successfully:\")\nprint(read_data)"
      ]
    },
    {
      "cell_type": "markdown",
      "metadata": {},
      "source": [
        "## Writing to a CSV File"
      ]
    },
    {
      "cell_type": "code",
      "execution_count": null,
      "metadata": {},
      "outputs": [],
      "source": [
        "# Modify data\nread_data['Age'] += 1  # Increment age by 1\n\n# Write the modified data to a new CSV file\nread_data.to_csv('modified_example.csv', index=False)\nprint(\"Modified data written to 'modified_example.csv'.\")"
      ]
    }
  ],
  "metadata": {
    "kernelspec": {
      "display_name": "Python 3",
      "language": "python",
      "name": "python3"
    },
    "language_info": {
      "codemirror_mode": {
        "name": "ipython",
        "version": 3
      },
      "file_extension": ".py",
      "mimetype": "text/x-python",
      "name": "python",
      "nbconvert_exporter": "python",
      "pygments_lexer": "ipython3",
      "version": "3.8.10"
    }
  },
  "nbformat": 4,
  "nbformat_minor": 2
}
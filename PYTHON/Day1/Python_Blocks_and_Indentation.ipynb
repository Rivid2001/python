{
 "cells": [
  {
   "cell_type": "markdown",
   "id": "e7727bbc",
   "metadata": {},
   "source": [
    "### Demonstrating Python Blocks and Indentation"
   ]
  },
  {
   "cell_type": "code",
   "execution_count": 1,
   "id": "130ada83",
   "metadata": {},
   "outputs": [
    {
     "name": "stdout",
     "output_type": "stream",
     "text": [
      "x is greater than 5\n",
      "This is part of the same block\n"
     ]
    }
   ],
   "source": [
    "# 1. Conditional Statements Block\n",
    "x = 10\n",
    "if x > 5:  # Block starts here\n",
    "    print(\"x is greater than 5\")  # Part of the 'if' block\n",
    "    print(\"This is part of the same block\")\n",
    "else:\n",
    "    print(\"x is 5 or less\")  # Block for 'else'\n"
   ]
  },
  {
   "cell_type": "code",
   "execution_count": null,
   "id": "bae912f8",
   "metadata": {},
   "outputs": [],
   "source": [
    "# 2. Loop Blocks\n",
    "print(\"\\nLoop Example:\")\n",
    "for i in range(3):  # Block starts for the loop\n",
    "    print(f\"Iteration {i}\")  # Inside the loop block\n",
    "    if i == 2:  # Nested block\n",
    "        print(\"This is inside a nested block\")\n"
   ]
  },
  {
   "cell_type": "code",
   "execution_count": null,
   "id": "e0c28eb3",
   "metadata": {},
   "outputs": [],
   "source": [
    "# 3. Function Block\n",
    "def greet(name):\n",
    "    print(f\"Hello, {name}\")  # Part of the function block\n",
    "    print(\"Welcome to Python!\")  # Same block\n",
    "\n",
    "print(\"\\nFunction Example:\")\n",
    "greet(\"Alice\")\n"
   ]
  },
  {
   "cell_type": "code",
   "execution_count": null,
   "id": "df555121",
   "metadata": {},
   "outputs": [],
   "source": [
    "# 4. Class Definition Block\n",
    "class MyClass:\n",
    "    def __init__(self, value):  # Constructor block\n",
    "        self.value = value\n",
    "    def display(self):  # Method block\n",
    "        print(f\"Value: {self.value}\")\n",
    "print(\"\\nClass Example:\")\n",
    "obj = MyClass(42)\n",
    "obj.display()\n"
   ]
  },
  {
   "cell_type": "code",
   "execution_count": null,
   "id": "8e3f3d1d",
   "metadata": {},
   "outputs": [],
   "source": [
    "# 5. Nested Blocks Example\n",
    "print(\"\\nNested Blocks Example:\")\n",
    "if x > 0:  # Outer block\n",
    "    print(\"x is positive\")\n",
    "    for i in range(3):  # Loop block\n",
    "        if i % 2 == 0:  # Nested block inside the loop\n",
    "            print(f\"{i} is even\")\n"
   ]
  },
  {
   "cell_type": "code",
   "execution_count": null,
   "id": "60a6b27d",
   "metadata": {},
   "outputs": [],
   "source": [
    "# 6. Improper Indentation (Commented Out to Avoid Error)\n",
    "# Uncomment the following block to see errors caused by improper indentation.\n",
    "# if True:\n",
    "# print(\"This will raise an error\")  # Missing indentation\n",
    "# if True:\n",
    "#     print(\"Correct indentation\")\n",
    "# \tprint(\"This will cause an error\")  # Mixing spaces and tabs\n"
   ]
  }
 ],
 "metadata": {
  "kernelspec": {
   "display_name": "Python 3",
   "language": "python",
   "name": "python3"
  },
  "language_info": {
   "codemirror_mode": {
    "name": "ipython",
    "version": 3
   },
   "file_extension": ".py",
   "mimetype": "text/x-python",
   "name": "python",
   "nbconvert_exporter": "python",
   "pygments_lexer": "ipython3",
   "version": "3.11.9"
  }
 },
 "nbformat": 4,
 "nbformat_minor": 5
}

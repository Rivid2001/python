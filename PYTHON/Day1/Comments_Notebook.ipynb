{
 "cells": [
  {
   "cell_type": "code",
   "execution_count": 1,
   "id": "95137d1e",
   "metadata": {},
   "outputs": [
    {
     "name": "stdout",
     "output_type": "stream",
     "text": [
      "Sum: 30\n"
     ]
    }
   ],
   "source": [
    "\n",
    "# ---------------------------------\n",
    "#  Demonstrating Comments in Python\n",
    "# ---------------------------------\n",
    "\n",
    "# 1. Single-Line Comments\n",
    "# This is a single-line comment explaining the next line of code\n",
    "x = 10  # Assigning the value 10 to variable x\n",
    "\n",
    "# Another example of single-line comment\n",
    "y = 20  # Assigning the value 20 to variable y\n",
    "\n",
    "# Performing addition\n",
    "sum_value = x + y  # Sum of x and y\n",
    "print(f\"Sum: {sum_value}\")\n"
   ]
  },
  {
   "cell_type": "code",
   "execution_count": null,
   "id": "25d1e548",
   "metadata": {},
   "outputs": [],
   "source": [
    "\n",
    "# ---------------------------------\n",
    "\n",
    "# 2. Multi-Line Comments using #\n",
    "# This section demonstrates\n",
    "# multi-line comments using multiple # symbols.\n",
    "# Each line starts with a #.\n",
    "\n",
    "# Calculating the product of two numbers\n",
    "product = x * y  # Multiply x and y\n",
    "print(f\"Product: {product}\")\n"
   ]
  },
  {
   "cell_type": "code",
   "execution_count": 2,
   "id": "63c38241",
   "metadata": {},
   "outputs": [
    {
     "name": "stdout",
     "output_type": "stream",
     "text": [
      "Square of 10: 100\n"
     ]
    }
   ],
   "source": [
    "\n",
    "# ---------------------------------\n",
    "\n",
    "# 3. Multi-Line Comments using Regular Comments\n",
    "\n",
    "# This section demonstrates multi-line comments\n",
    "# using regular comment symbols (#) to simulate triple quotes.\n",
    "\n",
    "# Calculating the square of a number\n",
    "square = x ** 2\n",
    "print(f\"Square of {x}: {square}\")\n"
   ]
  },
  {
   "cell_type": "code",
   "execution_count": null,
   "id": "11892566",
   "metadata": {},
   "outputs": [],
   "source": [
    "\n",
    "# ---------------------------------\n",
    "\n",
    "# 4. Docstrings for Functions\n",
    "def factorial(n):\n",
    "    \"\"\"\n",
    "    Calculates the factorial of a number recursively.\n",
    "    :param n: Non-negative integer\n",
    "    :return: Factorial of n\n",
    "    \"\"\"\n",
    "    # Base case: Factorial of 0 or 1 is 1\n",
    "    if n == 0 or n == 1:\n",
    "        return 1\n",
    "\n",
    "    # Recursive case\n",
    "    return n * factorial(n - 1)\n",
    "\n",
    "# Example usage of the factorial function\n",
    "num = 5  # Number for which factorial is to be calculated\n",
    "print(f\"Factorial of {num}: {factorial(num)}\")\n"
   ]
  },
  {
   "cell_type": "code",
   "execution_count": null,
   "id": "15d1d909",
   "metadata": {},
   "outputs": [],
   "source": [
    "\n",
    "# ---------------------------------\n",
    "\n",
    "# 5. Inline Comments\n",
    "# Defining constants\n",
    "PI = 3.14159  # Approximation of Pi\n",
    "radius = 7  # Radius of the circle\n",
    "\n",
    "# Calculating area of the circle\n",
    "area = PI * radius**2  # Area formula: πr²\n",
    "print(f\"Area of the circle: {area}\")\n"
   ]
  },
  {
   "cell_type": "code",
   "execution_count": null,
   "id": "b7ec777f",
   "metadata": {},
   "outputs": [],
   "source": [
    "\n",
    "# ---------------------------------\n",
    "\n",
    "# 6. Using Comments in Loops\n",
    "# Printing numbers using a loop\n",
    "for i in range(1, 6):  # Loop from 1 to 5\n",
    "    print(f\"Number: {i}\")  # Inline comment to explain the output\n"
   ]
  },
  {
   "cell_type": "code",
   "execution_count": null,
   "id": "830f7d2a",
   "metadata": {},
   "outputs": [],
   "source": [
    "\n",
    "# ---------------------------------\n",
    "\n",
    "# 7. Commenting Out Code\n",
    "# Uncomment the following lines to enable subtraction and division\n",
    "# difference = x - y\n",
    "# print(f\"Difference: {difference}\")\n",
    "# quotient = x / y\n",
    "# print(f\"Quotient: {quotient}\")\n"
   ]
  }
 ],
 "metadata": {
  "kernelspec": {
   "display_name": "Python 3",
   "language": "python",
   "name": "python3"
  },
  "language_info": {
   "codemirror_mode": {
    "name": "ipython",
    "version": 3
   },
   "file_extension": ".py",
   "mimetype": "text/x-python",
   "name": "python",
   "nbconvert_exporter": "python",
   "pygments_lexer": "ipython3",
   "version": "3.11.9"
  }
 },
 "nbformat": 4,
 "nbformat_minor": 5
}

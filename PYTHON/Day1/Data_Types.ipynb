{
 "cells": [
  {
   "cell_type": "code",
   "execution_count": null,
   "id": "3e3a83e1",
   "metadata": {},
   "outputs": [],
   "source": [
    "\n",
    "# Numeric Data Types\n",
    "integer_num = 10  # int\n",
    "float_num = 3.14  # float\n",
    "complex_num = 2 + 3j  # complex\n",
    "print(f\"Integer: {integer_num}, Float: {float_num}, Complex: {complex_num}\")\n"
   ]
  },
  {
   "cell_type": "code",
   "execution_count": null,
   "id": "a25cccce",
   "metadata": {},
   "outputs": [],
   "source": [
    "\n",
    "# Boolean\n",
    "is_active = True\n",
    "print(f\"Boolean: {is_active}\")\n"
   ]
  },
  {
   "cell_type": "code",
   "execution_count": null,
   "id": "c10bc8c0",
   "metadata": {},
   "outputs": [],
   "source": [
    "\n",
    "# String\n",
    "message = \"Hello, Python!\"  # str\n",
    "print(f\"String: {message}\")\n"
   ]
  },
  {
   "cell_type": "code",
   "execution_count": null,
   "id": "99451e03",
   "metadata": {},
   "outputs": [],
   "source": [
    "\n",
    "# List\n",
    "fruits = [\"apple\", \"banana\", \"cherry\"]\n",
    "print(f\"List: {fruits}\")\n"
   ]
  },
  {
   "cell_type": "code",
   "execution_count": null,
   "id": "c47e0ec7",
   "metadata": {},
   "outputs": [],
   "source": [
    "\n",
    "# Tuple\n",
    "coordinates = (10, 20, 30)\n",
    "print(f\"Tuple: {coordinates}\")\n"
   ]
  },
  {
   "cell_type": "code",
   "execution_count": null,
   "id": "ac15fc99",
   "metadata": {},
   "outputs": [],
   "source": [
    "\n",
    "# Range\n",
    "numbers = range(1, 5)\n",
    "print(f\"Range: {list(numbers)}\")  # Convert to list for display\n"
   ]
  },
  {
   "cell_type": "code",
   "execution_count": null,
   "id": "39d66745",
   "metadata": {},
   "outputs": [],
   "source": [
    "\n",
    "# Set\n",
    "unique_numbers = {1, 2, 3, 4}\n",
    "print(f\"Set: {unique_numbers}\")\n"
   ]
  },
  {
   "cell_type": "code",
   "execution_count": null,
   "id": "e751cc0c",
   "metadata": {},
   "outputs": [],
   "source": [
    "\n",
    "# Frozen Set\n",
    "frozen_set = frozenset([\"a\", \"b\", \"c\"])\n",
    "print(f\"Frozen Set: {frozen_set}\")\n"
   ]
  },
  {
   "cell_type": "code",
   "execution_count": null,
   "id": "8189a4a3",
   "metadata": {},
   "outputs": [],
   "source": [
    "\n",
    "# Dictionary\n",
    "person = {\"name\": \"Alice\", \"age\": 25}\n",
    "print(f\"Dictionary: {person}\")\n"
   ]
  },
  {
   "cell_type": "code",
   "execution_count": null,
   "id": "09571bbe",
   "metadata": {},
   "outputs": [],
   "source": [
    "\n",
    "# Binary Data Types\n",
    "byte_data = b\"Hello\"  # bytes\n",
    "bytearray_data = bytearray(b\"World\")  # bytearray\n",
    "memory_view = memoryview(byte_data)  # memoryview\n",
    "print(f\"Bytes: {byte_data}, Bytearray: {bytearray_data}, Memoryview: {memory_view.tobytes()}\")\n"
   ]
  },
  {
   "cell_type": "code",
   "execution_count": null,
   "id": "08ec5da3",
   "metadata": {},
   "outputs": [],
   "source": [
    "\n",
    "# None Type\n",
    "nothing = None\n",
    "print(f\"None Type: {nothing}\")\n"
   ]
  }
 ],
 "metadata": {},
 "nbformat": 4,
 "nbformat_minor": 5
}
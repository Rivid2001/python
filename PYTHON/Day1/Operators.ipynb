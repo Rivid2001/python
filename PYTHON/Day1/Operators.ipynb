{
 "cells": [
  {
   "cell_type": "code",
   "execution_count": null,
   "id": "6bd5577b",
   "metadata": {},
   "outputs": [],
   "source": [
    "# Arithmetic Operators\n",
    "x, y = 10, 3\n",
    "print(x + y, x - y, x * y, x / y, x // y, x % y, x ** y)"
   ]
  },
  {
   "cell_type": "code",
   "execution_count": null,
   "id": "1477445c",
   "metadata": {},
   "outputs": [],
   "source": [
    "# Comparison Operators\n",
    "x, y = 10, 3\n",
    "print(x == y, x != y, x > y, x < y, x >= y, x <= y)"
   ]
  },
  {
   "cell_type": "code",
   "execution_count": null,
   "id": "255fd3ad",
   "metadata": {},
   "outputs": [],
   "source": [
    "# Logical Operators\n",
    "x, y = 10, 3\n",
    "print(x > 5 and y < 5, x > 15 or y < 5, not (x > 5))"
   ]
  },
  {
   "cell_type": "code",
   "execution_count": null,
   "id": "ea002a64",
   "metadata": {},
   "outputs": [],
   "source": [
    "# Bitwise Operators\n",
    "x, y = 10, 3\n",
    "print(x & y, x | y, x ^ y, ~x, x << 1, x >> 1)"
   ]
  },
  {
   "cell_type": "code",
   "execution_count": null,
   "id": "0313fca6",
   "metadata": {},
   "outputs": [],
   "source": [
    "# Assignment Operators\n",
    "x = 5\n",
    "print(x)\n",
    "x += 3\n",
    "print(x)"
   ]
  },
  {
   "cell_type": "code",
   "execution_count": null,
   "id": "9335b1ec",
   "metadata": {},
   "outputs": [],
   "source": [
    "# Membership Operators\n",
    "fruits = [\"apple\", \"banana\"]\n",
    "print(\"apple\" in fruits, \"grape\" not in fruits)"
   ]
  },
  {
   "cell_type": "code",
   "execution_count": null,
   "id": "19bfafd5",
   "metadata": {},
   "outputs": [],
   "source": [
    "# Identity Operators\n",
    "a = [1, 2, 3]\n",
    "b = a\n",
    "c = [1, 2, 3]\n",
    "print(a is b, a is not c, a == c)"
   ]
  }
 ],
 "metadata": {},
 "nbformat": 4,
 "nbformat_minor": 5
}
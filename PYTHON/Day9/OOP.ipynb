{
 "cells": [
  {
   "cell_type": "markdown",
   "metadata": {},
   "source": [
    "### Create the Produt Class and Product Catalaog Class"
   ]
  },
  {
   "cell_type": "code",
   "execution_count": 1,
   "metadata": {},
   "outputs": [],
   "source": [
    "class Product:\n",
    "    \"\"\"\n",
    "    A class representing a product in the catalog.\n",
    "\n",
    "    Attributes:\n",
    "        product_id (int): Unique identifier for the product.\n",
    "        name (str): Name of the product.\n",
    "        price (float): Price of the product.\n",
    "        quantity (int): Available quantity of the product in stock.\n",
    "    \"\"\"\n",
    "    \n",
    "    def __init__(self, product_id, name, price, quantity):\n",
    "        \"\"\"\n",
    "        Initialize a new Product instance.\n",
    "\n",
    "        Args:\n",
    "            product_id (int): Unique identifier for the product.\n",
    "            name (str): Name of the product.\n",
    "            price (float): Price of the product.\n",
    "            quantity (int): Available quantity of the product in stock.\n",
    "        \"\"\"\n",
    "        self.product_id = product_id  # Assign the unique product ID.\n",
    "        self.name = name  # Assign the product name.\n",
    "        self.price = price  # Assign the product price.\n",
    "        self.quantity = quantity  # Assign the available product quantity.\n",
    "\n",
    "    def __str__(self):\n",
    "        \"\"\"\n",
    "        Return a string representation of the product.\n",
    "\n",
    "        Returns:\n",
    "            str: A string containing product details.\n",
    "        \"\"\"\n",
    "        return f\"Product[ID: {self.product_id}, Name: {self.name}, Price: {self.price}, Quantity: {self.quantity}]\"\n",
    "\n",
    "\n",
    "class ProductCatalog:\n",
    "    \"\"\"\n",
    "    A class to manage a catalog of products.\n",
    "\n",
    "    Attributes:\n",
    "        products (list): A list of Product instances in the catalog.\n",
    "    \"\"\"\n",
    "\n",
    "    def __init__(self):\n",
    "        \"\"\"\n",
    "        Initialize a new ProductCatalog instance with an empty list of products.\n",
    "        \"\"\"\n",
    "        self.products = []  # Initialize the catalog with an empty product list.\n",
    "\n",
    "    def add_product(self, product):\n",
    "        \"\"\"\n",
    "        Add a product to the catalog.\n",
    "\n",
    "        Args:\n",
    "            product (Product): The product instance to be added.\n",
    "        \"\"\"\n",
    "        self.products.append(product)  # Append the product to the catalog.\n",
    "\n",
    "    def remove_product(self, product_id):\n",
    "        \"\"\"\n",
    "        Remove a product from the catalog by its ID.\n",
    "\n",
    "        Args:\n",
    "            product_id (int): The ID of the product to remove.\n",
    "        \"\"\"\n",
    "        self.products = [product for product in self.products if product.product_id != product_id]  # Remove the product by ID.\n",
    "\n",
    "    def list_products(self):\n",
    "        \"\"\"\n",
    "        List all products in the catalog.\n",
    "\n",
    "        Returns:\n",
    "            list: A list of string representations of the products.\n",
    "        \"\"\"\n",
    "        return [str(product) for product in self.products]  # Return all products as strings.\n",
    "\n",
    "    def find_product(self, product_id):\n",
    "        \"\"\"\n",
    "        Find a product in the catalog by its ID.\n",
    "\n",
    "        Args:\n",
    "            product_id (int): The ID of the product to find.\n",
    "\n",
    "        Returns:\n",
    "            Product: The product with the given ID, or None if not found.\n",
    "        \"\"\"\n",
    "        for product in self.products:\n",
    "            if product.product_id == product_id:  # Check if the product ID matches.\n",
    "                return product  # Return the matching product.\n",
    "        return None  # Return None if no product matches."
   ]
  },
  {
   "cell_type": "code",
   "execution_count": 2,
   "metadata": {},
   "outputs": [
    {
     "name": "stdout",
     "output_type": "stream",
     "text": [
      "ProductCatalog instance created: <__main__.ProductCatalog object at 0x0000021D4D6ED730>\n"
     ]
    }
   ],
   "source": [
    "# Example usage\n",
    "if __name__ == \"__main__\":\n",
    "    \n",
    "    # Create an instance of ProductCatalog\n",
    "    catalog = ProductCatalog()\n",
    "\n",
    "    # Confirm the instance is created\n",
    "print(\"ProductCatalog instance created:\", catalog)"
   ]
  },
  {
   "cell_type": "code",
   "execution_count": 3,
   "metadata": {},
   "outputs": [],
   "source": [
    "# Add some products to the catalog\n",
    "catalog.add_product(Product(101, \"Keyboard\", 29.99, 50))\n",
    "catalog.add_product(Product(102, \"Mouse\", 19.99, 75))\n",
    "catalog.add_product(Product(103, \"Monitor\", 199.99, 30))\n",
    "catalog.add_product(Product(104, \"Laptop\", 999.99, 10))\n",
    "catalog.add_product(Product(105, \"Smartphone\", 499.99, 25))\n"
   ]
  },
  {
   "cell_type": "code",
   "execution_count": 4,
   "metadata": {},
   "outputs": [
    {
     "name": "stdout",
     "output_type": "stream",
     "text": [
      "All Products:\n",
      "Product[ID: 101, Name: Keyboard, Price: 29.99, Quantity: 50]\n",
      "Product[ID: 102, Name: Mouse, Price: 19.99, Quantity: 75]\n",
      "Product[ID: 103, Name: Monitor, Price: 199.99, Quantity: 30]\n",
      "Product[ID: 104, Name: Laptop, Price: 999.99, Quantity: 10]\n",
      "Product[ID: 105, Name: Smartphone, Price: 499.99, Quantity: 25]\n"
     ]
    }
   ],
   "source": [
    "# List all products\n",
    "print(\"All Products:\")\n",
    "for product in catalog.list_products():\n",
    "    print(product)"
   ]
  },
  {
   "cell_type": "code",
   "execution_count": 5,
   "metadata": {},
   "outputs": [
    {
     "name": "stdout",
     "output_type": "stream",
     "text": [
      "\n",
      "Found Product:\n",
      "Product[ID: 102, Name: Mouse, Price: 19.99, Quantity: 75]\n"
     ]
    }
   ],
   "source": [
    "# Find a product by ID\n",
    "product = catalog.find_product(102)\n",
    "if product:\n",
    "    print(\"\\nFound Product:\")\n",
    "    print(product)"
   ]
  },
  {
   "cell_type": "code",
   "execution_count": 6,
   "metadata": {},
   "outputs": [],
   "source": [
    "# Remove a product by ID\n",
    "catalog.remove_product(101)"
   ]
  },
  {
   "cell_type": "code",
   "execution_count": 7,
   "metadata": {},
   "outputs": [
    {
     "name": "stdout",
     "output_type": "stream",
     "text": [
      "\n",
      "Products after removal:\n",
      "Product[ID: 102, Name: Mouse, Price: 19.99, Quantity: 75]\n",
      "Product[ID: 103, Name: Monitor, Price: 199.99, Quantity: 30]\n",
      "Product[ID: 104, Name: Laptop, Price: 999.99, Quantity: 10]\n",
      "Product[ID: 105, Name: Smartphone, Price: 499.99, Quantity: 25]\n"
     ]
    }
   ],
   "source": [
    "# List products after removal\n",
    "print(\"\\nProducts after removal:\")\n",
    "for product in catalog.list_products():\n",
    "    print(product)"
   ]
  }
 ],
 "metadata": {
  "kernelspec": {
   "display_name": "Python 3",
   "language": "python",
   "name": "python3"
  },
  "language_info": {
   "codemirror_mode": {
    "name": "ipython",
    "version": 3
   },
   "file_extension": ".py",
   "mimetype": "text/x-python",
   "name": "python",
   "nbconvert_exporter": "python",
   "pygments_lexer": "ipython3",
   "version": "3.12.6"
  }
 },
 "nbformat": 4,
 "nbformat_minor": 2
}

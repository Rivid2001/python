{
 "cells": [
  {
   "cell_type": "markdown",
   "metadata": {},
   "source": [
    "### Define the Book Class"
   ]
  },
  {
   "cell_type": "code",
   "execution_count": 1,
   "metadata": {},
   "outputs": [],
   "source": [
    "# Define the Book class\n",
    "class Book:\n",
    "    \"\"\"\n",
    "    Represents a book in the library.\n",
    "    \"\"\"\n",
    "    def __init__(self, book_id, title, author, total_copies):\n",
    "        self.book_id = book_id\n",
    "        self.title = title\n",
    "        self.author = author\n",
    "        self.total_copies = total_copies\n",
    "        self.borrowed_copies = 0  # Initially, no copies are borrowed\n",
    "\n",
    "    def is_available(self):\n",
    "        \"\"\"\n",
    "        Check if there are available copies of the book.\n",
    "        \"\"\"\n",
    "        return self.total_copies > self.borrowed_copies\n",
    "\n",
    "    def borrow_book(self):\n",
    "        \"\"\"\n",
    "        Borrow a book if available.\n",
    "        \"\"\"\n",
    "        if self.is_available():\n",
    "            self.borrowed_copies += 1\n",
    "            return True\n",
    "        return False\n",
    "\n",
    "    def __str__(self):\n",
    "        \"\"\"\n",
    "        Return a string representation of the book.\n",
    "        \"\"\"\n",
    "        available = self.total_copies - self.borrowed_copies\n",
    "        return f\"Book[ID: {self.book_id}, Title: {self.title}, Author: {self.author}, Available: {available}]\""
   ]
  },
  {
   "cell_type": "markdown",
   "metadata": {},
   "source": [
    "### Define the Library Class"
   ]
  },
  {
   "cell_type": "code",
   "execution_count": 2,
   "metadata": {},
   "outputs": [],
   "source": [
    "# Define the Library class\n",
    "class Library:\n",
    "    \"\"\"\n",
    "    Represents a library that manages books.\n",
    "    \"\"\"\n",
    "    def __init__(self):\n",
    "        self.books = {}  # Dictionary to store books with book_id as the key\n",
    "\n",
    "    def add_book(self, book):\n",
    "        \"\"\"\n",
    "        Add a new book to the library.\n",
    "        \"\"\"\n",
    "        if book.book_id in self.books:\n",
    "            print(f\"Book with ID {book.book_id} already exists.\")\n",
    "        else:\n",
    "            self.books[book.book_id] = book\n",
    "            print(f\"Book '{book.title}' added successfully!\")\n",
    "\n",
    "    def search_book(self, keyword):\n",
    "        \"\"\"\n",
    "        Search for books by title or author.\n",
    "        \"\"\"\n",
    "        results = [\n",
    "            book for book in self.books.values()\n",
    "            if keyword.lower() in book.title.lower() or keyword.lower() in book.author.lower()\n",
    "        ]\n",
    "        return results\n",
    "\n",
    "    def borrow_book(self, book_id):\n",
    "        \"\"\"\n",
    "        Borrow a book by its ID.\n",
    "        \"\"\"\n",
    "        book = self.books.get(book_id)\n",
    "        if book:\n",
    "            if book.borrow_book():\n",
    "                print(f\"You have successfully borrowed '{book.title}'.\")\n",
    "            else:\n",
    "                print(f\"'{book.title}' is currently unavailable.\")\n",
    "        else:\n",
    "            print(f\"No book found with ID {book_id}.\")\n",
    "\n",
    "    def list_books(self):\n",
    "        \"\"\"\n",
    "        List all books in the library.\n",
    "        \"\"\"\n",
    "        if not self.books:\n",
    "            print(\"No books available in the library.\")\n",
    "        else:\n",
    "            for book in self.books.values():\n",
    "                print(book)"
   ]
  },
  {
   "cell_type": "markdown",
   "metadata": {},
   "source": [
    "### Create the Library instance"
   ]
  },
  {
   "cell_type": "code",
   "execution_count": 3,
   "metadata": {},
   "outputs": [
    {
     "name": "stdout",
     "output_type": "stream",
     "text": [
      "Library instance created: <class '__main__.Library'>\n"
     ]
    }
   ],
   "source": [
    "# Create an instance of Library\n",
    "library = Library()\n",
    "\n",
    "# Confirm the instance is created\n",
    "print(\"Library instance created:\", Library)"
   ]
  },
  {
   "cell_type": "markdown",
   "metadata": {},
   "source": [
    "### Add books to the Library"
   ]
  },
  {
   "cell_type": "code",
   "execution_count": 4,
   "metadata": {},
   "outputs": [
    {
     "name": "stdout",
     "output_type": "stream",
     "text": [
      "Book 'The Great Gatsby' added successfully!\n",
      "Book 'To Kill a Mockingbird' added successfully!\n",
      "Book '1984' added successfully!\n",
      "Book 'Ramayana' added successfully!\n",
      "Book 'Mahabharatha' added successfully!\n",
      "Book 'Panchangam' added successfully!\n"
     ]
    }
   ],
   "source": [
    "# Add books to the library\n",
    "library.add_book(Book(101, \"The Great Gatsby\", \"F. Scott Fitzgerald\", 5))\n",
    "library.add_book(Book(102, \"To Kill a Mockingbird\", \"Harper Lee\", 3))\n",
    "library.add_book(Book(103, \"1984\", \"George Orwell\", 4))\n",
    "library.add_book(Book(104, \"Ramayana\", \"Valmiki\", 10))\n",
    "library.add_book(Book(105, \"Mahabharatha\", \"Vyasa\", 20))\n",
    "library.add_book(Book(106, \"Panchangam\", \"Arya Bhatta\", 30))"
   ]
  },
  {
   "cell_type": "markdown",
   "metadata": {},
   "source": [
    "### List the avaialable books"
   ]
  },
  {
   "cell_type": "code",
   "execution_count": 5,
   "metadata": {},
   "outputs": [
    {
     "name": "stdout",
     "output_type": "stream",
     "text": [
      "\n",
      "Available Books in the Library:\n",
      "Book[ID: 101, Title: The Great Gatsby, Author: F. Scott Fitzgerald, Available: 5]\n",
      "Book[ID: 102, Title: To Kill a Mockingbird, Author: Harper Lee, Available: 3]\n",
      "Book[ID: 103, Title: 1984, Author: George Orwell, Available: 4]\n",
      "Book[ID: 104, Title: Ramayana, Author: Valmiki, Available: 10]\n",
      "Book[ID: 105, Title: Mahabharatha, Author: Vyasa, Available: 20]\n",
      "Book[ID: 106, Title: Panchangam, Author: Arya Bhatta, Available: 30]\n"
     ]
    }
   ],
   "source": [
    "# List all books\n",
    "print(\"\\nAvailable Books in the Library:\")\n",
    "library.list_books()"
   ]
  },
  {
   "cell_type": "markdown",
   "metadata": {},
   "source": [
    "### Search for Books by keyword"
   ]
  },
  {
   "cell_type": "code",
   "execution_count": 6,
   "metadata": {},
   "outputs": [
    {
     "name": "stdout",
     "output_type": "stream",
     "text": [
      "\n",
      "Search Results for 'George':\n",
      "Book[ID: 103, Title: 1984, Author: George Orwell, Available: 4]\n"
     ]
    }
   ],
   "source": [
    "# Search for books by keyword\n",
    "print(\"\\nSearch Results for 'George':\")\n",
    "search_results = library.search_book(\"George\")\n",
    "for book in search_results:\n",
    "    print(book)"
   ]
  },
  {
   "cell_type": "markdown",
   "metadata": {},
   "source": [
    "### Step 5: Borrow a Book by ID"
   ]
  },
  {
   "cell_type": "code",
   "execution_count": 7,
   "metadata": {},
   "outputs": [
    {
     "name": "stdout",
     "output_type": "stream",
     "text": [
      "\n",
      "Borrowing Book with ID 102:\n",
      "You have successfully borrowed 'To Kill a Mockingbird'.\n"
     ]
    }
   ],
   "source": [
    "# Borrow a book by ID\n",
    "print(\"\\nBorrowing Book with ID 102:\")\n",
    "library.borrow_book(102)"
   ]
  },
  {
   "cell_type": "markdown",
   "metadata": {},
   "source": [
    "### List the books after borrowing"
   ]
  },
  {
   "cell_type": "code",
   "execution_count": 8,
   "metadata": {},
   "outputs": [
    {
     "name": "stdout",
     "output_type": "stream",
     "text": [
      "\n",
      "Available Books in the Library After Borrowing:\n",
      "Book[ID: 101, Title: The Great Gatsby, Author: F. Scott Fitzgerald, Available: 5]\n",
      "Book[ID: 102, Title: To Kill a Mockingbird, Author: Harper Lee, Available: 2]\n",
      "Book[ID: 103, Title: 1984, Author: George Orwell, Available: 4]\n",
      "Book[ID: 104, Title: Ramayana, Author: Valmiki, Available: 10]\n",
      "Book[ID: 105, Title: Mahabharatha, Author: Vyasa, Available: 20]\n",
      "Book[ID: 106, Title: Panchangam, Author: Arya Bhatta, Available: 30]\n"
     ]
    }
   ],
   "source": [
    "# List books after borrowing\n",
    "print(\"\\nAvailable Books in the Library After Borrowing:\")\n",
    "library.list_books()"
   ]
  },
  {
   "cell_type": "markdown",
   "metadata": {},
   "source": [
    "### Borrow books"
   ]
  },
  {
   "cell_type": "code",
   "execution_count": 9,
   "metadata": {},
   "outputs": [
    {
     "name": "stdout",
     "output_type": "stream",
     "text": [
      "\n",
      "Borrowing Book with ID 102 Until Unavailable:\n",
      "You have successfully borrowed 'To Kill a Mockingbird'.\n",
      "You have successfully borrowed 'To Kill a Mockingbird'.\n",
      "'To Kill a Mockingbird' is currently unavailable.\n",
      "'To Kill a Mockingbird' is currently unavailable.\n"
     ]
    }
   ],
   "source": [
    "# Borrow the same book until unavailable\n",
    "print(\"\\nBorrowing Book with ID 102 Until Unavailable:\")\n",
    "for _ in range(4):\n",
    "    library.borrow_book(102)"
   ]
  },
  {
   "cell_type": "markdown",
   "metadata": {},
   "source": [
    "### List the available Books"
   ]
  },
  {
   "cell_type": "code",
   "execution_count": 10,
   "metadata": {},
   "outputs": [
    {
     "name": "stdout",
     "output_type": "stream",
     "text": [
      "\n",
      "Available Books in the Library After Exhausting Copies:\n",
      "Book[ID: 101, Title: The Great Gatsby, Author: F. Scott Fitzgerald, Available: 5]\n",
      "Book[ID: 102, Title: To Kill a Mockingbird, Author: Harper Lee, Available: 0]\n",
      "Book[ID: 103, Title: 1984, Author: George Orwell, Available: 4]\n",
      "Book[ID: 104, Title: Ramayana, Author: Valmiki, Available: 10]\n",
      "Book[ID: 105, Title: Mahabharatha, Author: Vyasa, Available: 20]\n",
      "Book[ID: 106, Title: Panchangam, Author: Arya Bhatta, Available: 30]\n"
     ]
    }
   ],
   "source": [
    "# List books after exhausting copies\n",
    "print(\"\\nAvailable Books in the Library After Exhausting Copies:\")\n",
    "library.list_books()"
   ]
  }
 ],
 "metadata": {
  "kernelspec": {
   "display_name": "Python 3",
   "language": "python",
   "name": "python3"
  },
  "language_info": {
   "codemirror_mode": {
    "name": "ipython",
    "version": 3
   },
   "file_extension": ".py",
   "mimetype": "text/x-python",
   "name": "python",
   "nbconvert_exporter": "python",
   "pygments_lexer": "ipython3",
   "version": "3.12.6"
  }
 },
 "nbformat": 4,
 "nbformat_minor": 2
}

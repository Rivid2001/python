{
 "cells": [
  {
   "cell_type": "code",
   "execution_count": null,
   "id": "834e87bc",
   "metadata": {},
   "outputs": [],
   "source": [
    "# Display Menu Function\n",
    "def display_menu():\n",
    "    print(\"\\nContact Book Menu:\")\n",
    "    print(\"1. Add a Contact\")\n",
    "    print(\"2. View a Contact\")\n",
    "    print(\"3. Update a Contact\")\n",
    "    print(\"4. Delete a Contact\")\n",
    "    print(\"5. View All Contacts\")\n",
    "    print(\"6. Exit\")"
   ]
  },
  {
   "cell_type": "code",
   "execution_count": null,
   "id": "60d95e58",
   "metadata": {},
   "outputs": [],
   "source": [
    "# Add Contact Function\n",
    "def add_contact(contact_book):\n",
    "    name = input(\"Enter contact name: \").strip()\n",
    "    if name in contact_book:\n",
    "        print(f\"Contact '{name}' already exists!\")\n",
    "    else:\n",
    "        phone = input(\"Enter phone number: \").strip()\n",
    "        email = input(\"Enter email address (optional): \").strip()\n",
    "        contact_book[name] = {\"Phone\": phone, \"Email\": email}\n",
    "        print(f\"Contact '{name}' added successfully!\")"
   ]
  },
  {
   "cell_type": "code",
   "execution_count": null,
   "id": "35acccf4",
   "metadata": {},
   "outputs": [],
   "source": [
    "# View Contact Function\n",
    "def view_contact(contact_book):\n",
    "    name = input(\"Enter contact name to view: \").strip()\n",
    "    contact = contact_book.get(name)\n",
    "    if contact:\n",
    "        print(f\"\\nContact Details for '{name}':\")\n",
    "        print(f\"Phone: {contact['Phone']}\")\n",
    "        print(f\"Email: {contact['Email']}\")\n",
    "    else:\n",
    "        print(f\"Contact '{name}' not found!\")"
   ]
  },
  {
   "cell_type": "code",
   "execution_count": null,
   "id": "90fd4b01",
   "metadata": {},
   "outputs": [],
   "source": [
    "# Update Contact Function\n",
    "def update_contact(contact_book):\n",
    "    name = input(\"Enter contact name to update: \").strip()\n",
    "    if name in contact_book:\n",
    "        phone = input(\"Enter new phone number: \").strip()\n",
    "        email = input(\"Enter new email address (optional): \").strip()\n",
    "        contact_book[name] = {\"Phone\": phone, \"Email\": email}\n",
    "        print(f\"Contact '{name}' updated successfully!\")\n",
    "    else:\n",
    "        print(f\"Contact '{name}' not found!\")"
   ]
  },
  {
   "cell_type": "code",
   "execution_count": null,
   "id": "743b8f2f",
   "metadata": {},
   "outputs": [],
   "source": [
    "# Delete Contact Function\n",
    "def delete_contact(contact_book):\n",
    "    name = input(\"Enter contact name to delete: \").strip()\n",
    "    if name in contact_book:\n",
    "        del contact_book[name]\n",
    "        print(f\"Contact '{name}' deleted successfully!\")\n",
    "    else:\n",
    "        print(f\"Contact '{name}' not found!\")"
   ]
  },
  {
   "cell_type": "code",
   "execution_count": null,
   "id": "eff51c63",
   "metadata": {},
   "outputs": [],
   "source": [
    "# View All Contacts Function\n",
    "def view_all_contacts(contact_book):\n",
    "    if contact_book:\n",
    "        print(\"\\nAll Contacts:\")\n",
    "        for name, details in contact_book.items():\n",
    "            print(f\"Name: {name}, Phone: {details['Phone']}, Email: {details['Email']}\")\n",
    "    else:\n",
    "        print(\"No contacts available!\")"
   ]
  },
  {
   "cell_type": "code",
   "execution_count": null,
   "id": "c081e463",
   "metadata": {},
   "outputs": [],
   "source": [
    "# Main Function\n",
    "def main():\n",
    "    contact_book = {}\n",
    "    while True:\n",
    "        display_menu()\n",
    "        choice = input(\"Choose an option (1-6): \").strip()\n",
    "        if choice == \"1\":\n",
    "            add_contact(contact_book)\n",
    "        elif choice == \"2\":\n",
    "            view_contact(contact_book)\n",
    "        elif choice == \"3\":\n",
    "            update_contact(contact_book)\n",
    "        elif choice == \"4\":\n",
    "            delete_contact(contact_book)\n",
    "        elif choice == \"5\":\n",
    "            view_all_contacts(contact_book)\n",
    "        elif choice == \"6\":\n",
    "            print(\"Exiting Contact Book. Goodbye!\")\n",
    "            break\n",
    "        else:\n",
    "            print(\"Invalid choice! Please select a valid option.\")"
   ]
  },
  {
   "cell_type": "code",
   "execution_count": null,
   "id": "54d12848",
   "metadata": {},
   "outputs": [],
   "source": [
    "# Run the Application\n",
    "if __name__ == \"__main__\":\n",
    "    main()"
   ]
  }
 ],
 "metadata": {},
 "nbformat": 4,
 "nbformat_minor": 5
}
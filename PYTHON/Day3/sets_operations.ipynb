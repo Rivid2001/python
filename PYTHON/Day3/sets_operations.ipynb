{
 "cells": [
  {
   "cell_type": "markdown",
   "id": "39bb3076",
   "metadata": {},
   "source": [
    "## Set Operations"
   ]
  },
  {
   "cell_type": "markdown",
   "id": "ef8c2366",
   "metadata": {},
   "source": [
    "## Creating sample sets"
   ]
  },
  {
   "cell_type": "code",
   "execution_count": 28,
   "id": "a1b0d92f",
   "metadata": {},
   "outputs": [
    {
     "name": "stdout",
     "output_type": "stream",
     "text": [
      "{1, 2, 3, 4, 5}\n",
      "{4, 5, 6, 7, 8}\n"
     ]
    }
   ],
   "source": [
    "# Creating sample sets\n",
    "set1 = {1, 2, 3, 4, 5}\n",
    "set2 = {4, 5, 6, 7, 8}\n",
    "print(set1)\n",
    "print(set2)"
   ]
  },
  {
   "cell_type": "markdown",
   "id": "adc16031",
   "metadata": {},
   "source": [
    "## Adding elements"
   ]
  },
  {
   "cell_type": "code",
   "execution_count": 29,
   "id": "e8125b5d",
   "metadata": {},
   "outputs": [
    {
     "name": "stdout",
     "output_type": "stream",
     "text": [
      "Adding elements:\n",
      "After adding element 6 to set1: {1, 2, 3, 4, 5, 6}\n",
      "After updating set1 with elements 7, 8, 9: {1, 2, 3, 4, 5, 6, 7, 8, 9}\n"
     ]
    }
   ],
   "source": [
    "# Adding elements\n",
    "print(\"Adding elements:\")\n",
    "set1.add(6)\n",
    "print(\"After adding element 6 to set1:\", set1)\n",
    "set1.update({7, 8, 9})\n",
    "print(\"After updating set1 with elements 7, 8, 9:\", set1)"
   ]
  },
  {
   "cell_type": "markdown",
   "id": "0e47297d",
   "metadata": {},
   "source": [
    "## Removing elements"
   ]
  },
  {
   "cell_type": "code",
   "execution_count": 30,
   "id": "03e3487e",
   "metadata": {},
   "outputs": [
    {
     "name": "stdout",
     "output_type": "stream",
     "text": [
      "\n",
      "Removing elements:\n",
      "After removing element 6 from set1: {1, 2, 3, 4, 5, 7, 8, 9}\n",
      "After discarding element 9 from set1: {1, 2, 3, 4, 5, 7, 8}\n",
      "Popped element from set1: 1\n",
      "Set1 after popping an arbitrary element: {2, 3, 4, 5, 7, 8}\n",
      "Cleared set1: set()\n"
     ]
    }
   ],
   "source": [
    "# Removing elements\n",
    "print(\"\\nRemoving elements:\")\n",
    "set1.remove(6)\n",
    "print(\"After removing element 6 from set1:\", set1)\n",
    "set1.discard(9)\n",
    "print(\"After discarding element 9 from set1:\", set1)\n",
    "popped_element = set1.pop()\n",
    "print(\"Popped element from set1:\", popped_element)\n",
    "print(\"Set1 after popping an arbitrary element:\", set1)\n",
    "set1.clear()\n",
    "print(\"Cleared set1:\", set1)"
   ]
  },
  {
   "cell_type": "markdown",
   "id": "b219f15f",
   "metadata": {},
   "source": [
    "## Checking membership"
   ]
  },
  {
   "cell_type": "code",
   "execution_count": 31,
   "id": "b361cab8",
   "metadata": {},
   "outputs": [
    {
     "name": "stdout",
     "output_type": "stream",
     "text": [
      "\n",
      "Checking membership:\n",
      "Is 5 in set2? True\n",
      "Is 3 not in set2? True\n"
     ]
    }
   ],
   "source": [
    "# Checking membership\n",
    "print(\"\\nChecking membership:\")\n",
    "print(\"Is 5 in set2?\", 5 in set2)\n",
    "print(\"Is 3 not in set2?\", 3 not in set2)"
   ]
  },
  {
   "cell_type": "markdown",
   "id": "d5ea01ad",
   "metadata": {},
   "source": [
    "## Length determination"
   ]
  },
  {
   "cell_type": "code",
   "execution_count": 32,
   "id": "1cd04368",
   "metadata": {},
   "outputs": [
    {
     "name": "stdout",
     "output_type": "stream",
     "text": [
      "\n",
      "Length determination:\n",
      "Length of set2: 5\n"
     ]
    }
   ],
   "source": [
    "# Length determination\n",
    "print(\"\\nLength determination:\")\n",
    "print(\"Length of set2:\", len(set2))"
   ]
  },
  {
   "cell_type": "markdown",
   "id": "7276c665",
   "metadata": {},
   "source": [
    "## Set operations"
   ]
  },
  {
   "cell_type": "code",
   "execution_count": 33,
   "id": "a814e4ba",
   "metadata": {},
   "outputs": [
    {
     "name": "stdout",
     "output_type": "stream",
     "text": [
      "\n",
      "Set operations:\n",
      "Union of set1 and set2: {4, 5, 6, 7, 8}\n",
      "Intersection of set1 and set2: set()\n",
      "Difference of set1 and set2: set()\n",
      "Symmetric difference of set1 and set2: {4, 5, 6, 7, 8}\n"
     ]
    }
   ],
   "source": [
    "# Set operations\n",
    "print(\"\\nSet operations:\")\n",
    "print(\"Union of set1 and set2:\", set1.union(set2))\n",
    "print(\"Intersection of set1 and set2:\", set1.intersection(set2))\n",
    "print(\"Difference of set1 and set2:\", set1.difference(set2))\n",
    "print(\"Symmetric difference of set1 and set2:\", set1.symmetric_difference(set2))"
   ]
  },
  {
   "cell_type": "markdown",
   "id": "b031bab8",
   "metadata": {},
   "source": [
    "## Subset and superset checking"
   ]
  },
  {
   "cell_type": "code",
   "execution_count": 34,
   "id": "bd2c2fbe",
   "metadata": {},
   "outputs": [
    {
     "name": "stdout",
     "output_type": "stream",
     "text": [
      "\n",
      "Subset and superset checking:\n",
      "Is set1 a subset of set2? True\n",
      "Is set2 a superset of set1? True\n"
     ]
    }
   ],
   "source": [
    "# Subset and superset checking\n",
    "print(\"\\nSubset and superset checking:\")\n",
    "print(\"Is set1 a subset of set2?\", set1.issubset(set2))\n",
    "print(\"Is set2 a superset of set1?\", set2.issuperset(set1))"
   ]
  },
  {
   "cell_type": "markdown",
   "id": "719adeef",
   "metadata": {},
   "source": [
    "## Disjoint checking"
   ]
  },
  {
   "cell_type": "code",
   "execution_count": 35,
   "id": "bf1e4dbe",
   "metadata": {},
   "outputs": [
    {
     "name": "stdout",
     "output_type": "stream",
     "text": [
      "\n",
      "Disjoint checking:\n",
      "Are set1 and set3 disjoint? True\n"
     ]
    }
   ],
   "source": [
    "# Disjoint checking\n",
    "print(\"\\nDisjoint checking:\")\n",
    "set3 = {9, 10, 11}\n",
    "print(\"Are set1 and set3 disjoint?\", set1.isdisjoint(set3))"
   ]
  },
  {
   "cell_type": "markdown",
   "id": "c097a812",
   "metadata": {},
   "source": [
    "## Copying sets"
   ]
  },
  {
   "cell_type": "code",
   "execution_count": 36,
   "id": "320e947e",
   "metadata": {},
   "outputs": [
    {
     "name": "stdout",
     "output_type": "stream",
     "text": [
      "\n",
      "Copying sets:\n",
      "Copied set2: {4, 5, 6, 7, 8}\n"
     ]
    }
   ],
   "source": [
    "# Copying sets\n",
    "print(\"\\nCopying sets:\")\n",
    "copied_set2 = set2.copy()\n",
    "print(\"Copied set2:\", copied_set2)"
   ]
  },
  {
   "cell_type": "markdown",
   "id": "cc91c8f5",
   "metadata": {},
   "source": [
    "## Converting from other data types to Sets"
   ]
  },
  {
   "cell_type": "code",
   "execution_count": 37,
   "id": "c2286807",
   "metadata": {},
   "outputs": [
    {
     "name": "stdout",
     "output_type": "stream",
     "text": [
      "\n",
      "Converting from other data types:\n",
      "Set from list: {1, 2, 3, 4, 5}\n"
     ]
    }
   ],
   "source": [
    "# Converting from other data types\n",
    "print(\"\\nConverting from other data types:\")\n",
    "my_list = [1, 2, 3, 4, 5]\n",
    "set_from_list = set(my_list)\n",
    "print(\"Set from list:\", set_from_list)"
   ]
  },
  {
   "cell_type": "markdown",
   "id": "3326f485",
   "metadata": {},
   "source": [
    "## Set comprehension"
   ]
  },
  {
   "cell_type": "code",
   "execution_count": 38,
   "id": "95c47888",
   "metadata": {},
   "outputs": [
    {
     "name": "stdout",
     "output_type": "stream",
     "text": [
      "\n",
      "Set comprehension:\n",
      "Squared set: {1, 4, 9, 16, 25}\n"
     ]
    }
   ],
   "source": [
    "# Set comprehension\n",
    "print(\"\\nSet comprehension:\")\n",
    "squared_set = {x ** 2 for x in set_from_list}\n",
    "print(\"Squared set:\", squared_set)"
   ]
  },
  {
   "cell_type": "markdown",
   "id": "bf8bb13c",
   "metadata": {},
   "source": [
    "## Frozen sets"
   ]
  },
  {
   "cell_type": "code",
   "execution_count": 39,
   "id": "f8ef3418",
   "metadata": {},
   "outputs": [
    {
     "name": "stdout",
     "output_type": "stream",
     "text": [
      "\n",
      "Frozen set: frozenset({1, 2, 3, 4, 5})\n"
     ]
    }
   ],
   "source": [
    "# Frozen sets\n",
    "frozen_set = frozenset(set_from_list)\n",
    "print(\"\\nFrozen set:\", frozen_set)"
   ]
  }
 ],
 "metadata": {
  "kernelspec": {
   "display_name": "Python 3",
   "language": "python",
   "name": "python3"
  },
  "language_info": {
   "codemirror_mode": {
    "name": "ipython",
    "version": 3
   },
   "file_extension": ".py",
   "mimetype": "text/x-python",
   "name": "python",
   "nbconvert_exporter": "python",
   "pygments_lexer": "ipython3",
   "version": "3.11.9"
  }
 },
 "nbformat": 4,
 "nbformat_minor": 5
}
